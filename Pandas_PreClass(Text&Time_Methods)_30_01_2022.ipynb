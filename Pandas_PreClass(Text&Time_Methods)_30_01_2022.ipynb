{
  "nbformat": 4,
  "nbformat_minor": 0,
  "metadata": {
    "colab": {
      "name": "Pandas_PreClass(Text&Time Methods)_30.01.2022.ipynb",
      "provenance": [],
      "collapsed_sections": [],
      "authorship_tag": "ABX9TyOMDrH1IHbBu0frBcsoFGeB",
      "include_colab_link": true
    },
    "kernelspec": {
      "name": "python3",
      "display_name": "Python 3"
    },
    "language_info": {
      "name": "python"
    }
  },
  "cells": [
    {
      "cell_type": "markdown",
      "metadata": {
        "id": "view-in-github",
        "colab_type": "text"
      },
      "source": [
        "<a href=\"https://colab.research.google.com/github/merdogan97/DAwPY/blob/main/Pandas_PreClass(Text%26Time_Methods)_30_01_2022.ipynb\" target=\"_parent\"><img src=\"https://colab.research.google.com/assets/colab-badge.svg\" alt=\"Open In Colab\"/></a>"
      ]
    },
    {
      "cell_type": "markdown",
      "source": [
        "# **TEXT METHODS**"
      ],
      "metadata": {
        "id": "ry5UiGA1hy12"
      }
    },
    {
      "cell_type": "code",
      "execution_count": null,
      "metadata": {
        "id": "jAlRvPpRcHWB"
      },
      "outputs": [],
      "source": [
        "# lower(): Converts strings to lower case\n",
        "upper() : Converts strings to upper case.\n",
        "islower() : Checks whether all characters in each string in lower case or not. Returns Boolean\n",
        "isupper() : Checks whether all characters in each string in upper case or not. Returns Boolean\n",
        "isdigit() : Check whether all characters in each string are digits.\n",
        "isnumeric(): Checks whether all characters in each string are numeric. Returns Boolean.\n",
        "replace(): Replaces the value a with the value b\n",
        "split(): Splits each string with the given pattern\n",
        "contains(): Returns a Boolean value True for each element if the substring contains in the element, else False.\n",
        "strip(): Helps strip whitespace(including newline) from each string\n",
        "find() : Returns the first position of the first occurrence of the pattern\n",
        "findall() : Returns a list of all occurrence of the pattern.\n"
      ]
    },
    {
      "cell_type": "code",
      "source": [
        "import pandas as pd\n",
        "import numpy as np"
      ],
      "metadata": {
        "id": "qNOj2LuCdbOn"
      },
      "execution_count": 1,
      "outputs": []
    },
    {
      "cell_type": "code",
      "source": [
        "\"hello\".upper()"
      ],
      "metadata": {
        "colab": {
          "base_uri": "https://localhost:8080/",
          "height": 35
        },
        "id": "pXi6JxSqeG9k",
        "outputId": "f09f9b03-09e3-4d2d-a71d-691bfae0e703"
      },
      "execution_count": 2,
      "outputs": [
        {
          "output_type": "execute_result",
          "data": {
            "application/vnd.google.colaboratory.intrinsic+json": {
              "type": "string"
            },
            "text/plain": [
              "'HELLO'"
            ]
          },
          "metadata": {},
          "execution_count": 2
        }
      ]
    },
    {
      "cell_type": "code",
      "source": [
        "orders = pd.read_table('http://bit.ly/chiporders')"
      ],
      "metadata": {
        "id": "vHIk5UDAeSad"
      },
      "execution_count": 3,
      "outputs": []
    },
    {
      "cell_type": "code",
      "source": [
        "orders"
      ],
      "metadata": {
        "colab": {
          "base_uri": "https://localhost:8080/",
          "height": 424
        },
        "id": "NJI9rIdUehYQ",
        "outputId": "8a45b6e9-7d47-404c-c213-b152277e73c1"
      },
      "execution_count": 4,
      "outputs": [
        {
          "output_type": "execute_result",
          "data": {
            "text/html": [
              "\n",
              "  <div id=\"df-f11a25c2-1ca5-448b-b2ca-b3364c81bc99\">\n",
              "    <div class=\"colab-df-container\">\n",
              "      <div>\n",
              "<style scoped>\n",
              "    .dataframe tbody tr th:only-of-type {\n",
              "        vertical-align: middle;\n",
              "    }\n",
              "\n",
              "    .dataframe tbody tr th {\n",
              "        vertical-align: top;\n",
              "    }\n",
              "\n",
              "    .dataframe thead th {\n",
              "        text-align: right;\n",
              "    }\n",
              "</style>\n",
              "<table border=\"1\" class=\"dataframe\">\n",
              "  <thead>\n",
              "    <tr style=\"text-align: right;\">\n",
              "      <th></th>\n",
              "      <th>order_id</th>\n",
              "      <th>quantity</th>\n",
              "      <th>item_name</th>\n",
              "      <th>choice_description</th>\n",
              "      <th>item_price</th>\n",
              "    </tr>\n",
              "  </thead>\n",
              "  <tbody>\n",
              "    <tr>\n",
              "      <th>0</th>\n",
              "      <td>1</td>\n",
              "      <td>1</td>\n",
              "      <td>Chips and Fresh Tomato Salsa</td>\n",
              "      <td>NaN</td>\n",
              "      <td>$2.39</td>\n",
              "    </tr>\n",
              "    <tr>\n",
              "      <th>1</th>\n",
              "      <td>1</td>\n",
              "      <td>1</td>\n",
              "      <td>Izze</td>\n",
              "      <td>[Clementine]</td>\n",
              "      <td>$3.39</td>\n",
              "    </tr>\n",
              "    <tr>\n",
              "      <th>2</th>\n",
              "      <td>1</td>\n",
              "      <td>1</td>\n",
              "      <td>Nantucket Nectar</td>\n",
              "      <td>[Apple]</td>\n",
              "      <td>$3.39</td>\n",
              "    </tr>\n",
              "    <tr>\n",
              "      <th>3</th>\n",
              "      <td>1</td>\n",
              "      <td>1</td>\n",
              "      <td>Chips and Tomatillo-Green Chili Salsa</td>\n",
              "      <td>NaN</td>\n",
              "      <td>$2.39</td>\n",
              "    </tr>\n",
              "    <tr>\n",
              "      <th>4</th>\n",
              "      <td>2</td>\n",
              "      <td>2</td>\n",
              "      <td>Chicken Bowl</td>\n",
              "      <td>[Tomatillo-Red Chili Salsa (Hot), [Black Beans...</td>\n",
              "      <td>$16.98</td>\n",
              "    </tr>\n",
              "    <tr>\n",
              "      <th>...</th>\n",
              "      <td>...</td>\n",
              "      <td>...</td>\n",
              "      <td>...</td>\n",
              "      <td>...</td>\n",
              "      <td>...</td>\n",
              "    </tr>\n",
              "    <tr>\n",
              "      <th>4617</th>\n",
              "      <td>1833</td>\n",
              "      <td>1</td>\n",
              "      <td>Steak Burrito</td>\n",
              "      <td>[Fresh Tomato Salsa, [Rice, Black Beans, Sour ...</td>\n",
              "      <td>$11.75</td>\n",
              "    </tr>\n",
              "    <tr>\n",
              "      <th>4618</th>\n",
              "      <td>1833</td>\n",
              "      <td>1</td>\n",
              "      <td>Steak Burrito</td>\n",
              "      <td>[Fresh Tomato Salsa, [Rice, Sour Cream, Cheese...</td>\n",
              "      <td>$11.75</td>\n",
              "    </tr>\n",
              "    <tr>\n",
              "      <th>4619</th>\n",
              "      <td>1834</td>\n",
              "      <td>1</td>\n",
              "      <td>Chicken Salad Bowl</td>\n",
              "      <td>[Fresh Tomato Salsa, [Fajita Vegetables, Pinto...</td>\n",
              "      <td>$11.25</td>\n",
              "    </tr>\n",
              "    <tr>\n",
              "      <th>4620</th>\n",
              "      <td>1834</td>\n",
              "      <td>1</td>\n",
              "      <td>Chicken Salad Bowl</td>\n",
              "      <td>[Fresh Tomato Salsa, [Fajita Vegetables, Lettu...</td>\n",
              "      <td>$8.75</td>\n",
              "    </tr>\n",
              "    <tr>\n",
              "      <th>4621</th>\n",
              "      <td>1834</td>\n",
              "      <td>1</td>\n",
              "      <td>Chicken Salad Bowl</td>\n",
              "      <td>[Fresh Tomato Salsa, [Fajita Vegetables, Pinto...</td>\n",
              "      <td>$8.75</td>\n",
              "    </tr>\n",
              "  </tbody>\n",
              "</table>\n",
              "<p>4622 rows × 5 columns</p>\n",
              "</div>\n",
              "      <button class=\"colab-df-convert\" onclick=\"convertToInteractive('df-f11a25c2-1ca5-448b-b2ca-b3364c81bc99')\"\n",
              "              title=\"Convert this dataframe to an interactive table.\"\n",
              "              style=\"display:none;\">\n",
              "        \n",
              "  <svg xmlns=\"http://www.w3.org/2000/svg\" height=\"24px\"viewBox=\"0 0 24 24\"\n",
              "       width=\"24px\">\n",
              "    <path d=\"M0 0h24v24H0V0z\" fill=\"none\"/>\n",
              "    <path d=\"M18.56 5.44l.94 2.06.94-2.06 2.06-.94-2.06-.94-.94-2.06-.94 2.06-2.06.94zm-11 1L8.5 8.5l.94-2.06 2.06-.94-2.06-.94L8.5 2.5l-.94 2.06-2.06.94zm10 10l.94 2.06.94-2.06 2.06-.94-2.06-.94-.94-2.06-.94 2.06-2.06.94z\"/><path d=\"M17.41 7.96l-1.37-1.37c-.4-.4-.92-.59-1.43-.59-.52 0-1.04.2-1.43.59L10.3 9.45l-7.72 7.72c-.78.78-.78 2.05 0 2.83L4 21.41c.39.39.9.59 1.41.59.51 0 1.02-.2 1.41-.59l7.78-7.78 2.81-2.81c.8-.78.8-2.07 0-2.86zM5.41 20L4 18.59l7.72-7.72 1.47 1.35L5.41 20z\"/>\n",
              "  </svg>\n",
              "      </button>\n",
              "      \n",
              "  <style>\n",
              "    .colab-df-container {\n",
              "      display:flex;\n",
              "      flex-wrap:wrap;\n",
              "      gap: 12px;\n",
              "    }\n",
              "\n",
              "    .colab-df-convert {\n",
              "      background-color: #E8F0FE;\n",
              "      border: none;\n",
              "      border-radius: 50%;\n",
              "      cursor: pointer;\n",
              "      display: none;\n",
              "      fill: #1967D2;\n",
              "      height: 32px;\n",
              "      padding: 0 0 0 0;\n",
              "      width: 32px;\n",
              "    }\n",
              "\n",
              "    .colab-df-convert:hover {\n",
              "      background-color: #E2EBFA;\n",
              "      box-shadow: 0px 1px 2px rgba(60, 64, 67, 0.3), 0px 1px 3px 1px rgba(60, 64, 67, 0.15);\n",
              "      fill: #174EA6;\n",
              "    }\n",
              "\n",
              "    [theme=dark] .colab-df-convert {\n",
              "      background-color: #3B4455;\n",
              "      fill: #D2E3FC;\n",
              "    }\n",
              "\n",
              "    [theme=dark] .colab-df-convert:hover {\n",
              "      background-color: #434B5C;\n",
              "      box-shadow: 0px 1px 3px 1px rgba(0, 0, 0, 0.15);\n",
              "      filter: drop-shadow(0px 1px 2px rgba(0, 0, 0, 0.3));\n",
              "      fill: #FFFFFF;\n",
              "    }\n",
              "  </style>\n",
              "\n",
              "      <script>\n",
              "        const buttonEl =\n",
              "          document.querySelector('#df-f11a25c2-1ca5-448b-b2ca-b3364c81bc99 button.colab-df-convert');\n",
              "        buttonEl.style.display =\n",
              "          google.colab.kernel.accessAllowed ? 'block' : 'none';\n",
              "\n",
              "        async function convertToInteractive(key) {\n",
              "          const element = document.querySelector('#df-f11a25c2-1ca5-448b-b2ca-b3364c81bc99');\n",
              "          const dataTable =\n",
              "            await google.colab.kernel.invokeFunction('convertToInteractive',\n",
              "                                                     [key], {});\n",
              "          if (!dataTable) return;\n",
              "\n",
              "          const docLinkHtml = 'Like what you see? Visit the ' +\n",
              "            '<a target=\"_blank\" href=https://colab.research.google.com/notebooks/data_table.ipynb>data table notebook</a>'\n",
              "            + ' to learn more about interactive tables.';\n",
              "          element.innerHTML = '';\n",
              "          dataTable['output_type'] = 'display_data';\n",
              "          await google.colab.output.renderOutput(dataTable, element);\n",
              "          const docLink = document.createElement('div');\n",
              "          docLink.innerHTML = docLinkHtml;\n",
              "          element.appendChild(docLink);\n",
              "        }\n",
              "      </script>\n",
              "    </div>\n",
              "  </div>\n",
              "  "
            ],
            "text/plain": [
              "      order_id  ...  item_price\n",
              "0            1  ...      $2.39 \n",
              "1            1  ...      $3.39 \n",
              "2            1  ...      $3.39 \n",
              "3            1  ...      $2.39 \n",
              "4            2  ...     $16.98 \n",
              "...        ...  ...         ...\n",
              "4617      1833  ...     $11.75 \n",
              "4618      1833  ...     $11.75 \n",
              "4619      1834  ...     $11.25 \n",
              "4620      1834  ...      $8.75 \n",
              "4621      1834  ...      $8.75 \n",
              "\n",
              "[4622 rows x 5 columns]"
            ]
          },
          "metadata": {},
          "execution_count": 4
        }
      ]
    },
    {
      "cell_type": "code",
      "source": [
        "orders.head(10)"
      ],
      "metadata": {
        "colab": {
          "base_uri": "https://localhost:8080/",
          "height": 363
        },
        "id": "za4OWPnOekxL",
        "outputId": "e968bceb-f3a6-448f-b67a-fdfc2d6d8571"
      },
      "execution_count": 5,
      "outputs": [
        {
          "output_type": "execute_result",
          "data": {
            "text/html": [
              "\n",
              "  <div id=\"df-228d6e4e-5ea9-45ab-a22a-df9906fdda43\">\n",
              "    <div class=\"colab-df-container\">\n",
              "      <div>\n",
              "<style scoped>\n",
              "    .dataframe tbody tr th:only-of-type {\n",
              "        vertical-align: middle;\n",
              "    }\n",
              "\n",
              "    .dataframe tbody tr th {\n",
              "        vertical-align: top;\n",
              "    }\n",
              "\n",
              "    .dataframe thead th {\n",
              "        text-align: right;\n",
              "    }\n",
              "</style>\n",
              "<table border=\"1\" class=\"dataframe\">\n",
              "  <thead>\n",
              "    <tr style=\"text-align: right;\">\n",
              "      <th></th>\n",
              "      <th>order_id</th>\n",
              "      <th>quantity</th>\n",
              "      <th>item_name</th>\n",
              "      <th>choice_description</th>\n",
              "      <th>item_price</th>\n",
              "    </tr>\n",
              "  </thead>\n",
              "  <tbody>\n",
              "    <tr>\n",
              "      <th>0</th>\n",
              "      <td>1</td>\n",
              "      <td>1</td>\n",
              "      <td>Chips and Fresh Tomato Salsa</td>\n",
              "      <td>NaN</td>\n",
              "      <td>$2.39</td>\n",
              "    </tr>\n",
              "    <tr>\n",
              "      <th>1</th>\n",
              "      <td>1</td>\n",
              "      <td>1</td>\n",
              "      <td>Izze</td>\n",
              "      <td>[Clementine]</td>\n",
              "      <td>$3.39</td>\n",
              "    </tr>\n",
              "    <tr>\n",
              "      <th>2</th>\n",
              "      <td>1</td>\n",
              "      <td>1</td>\n",
              "      <td>Nantucket Nectar</td>\n",
              "      <td>[Apple]</td>\n",
              "      <td>$3.39</td>\n",
              "    </tr>\n",
              "    <tr>\n",
              "      <th>3</th>\n",
              "      <td>1</td>\n",
              "      <td>1</td>\n",
              "      <td>Chips and Tomatillo-Green Chili Salsa</td>\n",
              "      <td>NaN</td>\n",
              "      <td>$2.39</td>\n",
              "    </tr>\n",
              "    <tr>\n",
              "      <th>4</th>\n",
              "      <td>2</td>\n",
              "      <td>2</td>\n",
              "      <td>Chicken Bowl</td>\n",
              "      <td>[Tomatillo-Red Chili Salsa (Hot), [Black Beans...</td>\n",
              "      <td>$16.98</td>\n",
              "    </tr>\n",
              "    <tr>\n",
              "      <th>5</th>\n",
              "      <td>3</td>\n",
              "      <td>1</td>\n",
              "      <td>Chicken Bowl</td>\n",
              "      <td>[Fresh Tomato Salsa (Mild), [Rice, Cheese, Sou...</td>\n",
              "      <td>$10.98</td>\n",
              "    </tr>\n",
              "    <tr>\n",
              "      <th>6</th>\n",
              "      <td>3</td>\n",
              "      <td>1</td>\n",
              "      <td>Side of Chips</td>\n",
              "      <td>NaN</td>\n",
              "      <td>$1.69</td>\n",
              "    </tr>\n",
              "    <tr>\n",
              "      <th>7</th>\n",
              "      <td>4</td>\n",
              "      <td>1</td>\n",
              "      <td>Steak Burrito</td>\n",
              "      <td>[Tomatillo Red Chili Salsa, [Fajita Vegetables...</td>\n",
              "      <td>$11.75</td>\n",
              "    </tr>\n",
              "    <tr>\n",
              "      <th>8</th>\n",
              "      <td>4</td>\n",
              "      <td>1</td>\n",
              "      <td>Steak Soft Tacos</td>\n",
              "      <td>[Tomatillo Green Chili Salsa, [Pinto Beans, Ch...</td>\n",
              "      <td>$9.25</td>\n",
              "    </tr>\n",
              "    <tr>\n",
              "      <th>9</th>\n",
              "      <td>5</td>\n",
              "      <td>1</td>\n",
              "      <td>Steak Burrito</td>\n",
              "      <td>[Fresh Tomato Salsa, [Rice, Black Beans, Pinto...</td>\n",
              "      <td>$9.25</td>\n",
              "    </tr>\n",
              "  </tbody>\n",
              "</table>\n",
              "</div>\n",
              "      <button class=\"colab-df-convert\" onclick=\"convertToInteractive('df-228d6e4e-5ea9-45ab-a22a-df9906fdda43')\"\n",
              "              title=\"Convert this dataframe to an interactive table.\"\n",
              "              style=\"display:none;\">\n",
              "        \n",
              "  <svg xmlns=\"http://www.w3.org/2000/svg\" height=\"24px\"viewBox=\"0 0 24 24\"\n",
              "       width=\"24px\">\n",
              "    <path d=\"M0 0h24v24H0V0z\" fill=\"none\"/>\n",
              "    <path d=\"M18.56 5.44l.94 2.06.94-2.06 2.06-.94-2.06-.94-.94-2.06-.94 2.06-2.06.94zm-11 1L8.5 8.5l.94-2.06 2.06-.94-2.06-.94L8.5 2.5l-.94 2.06-2.06.94zm10 10l.94 2.06.94-2.06 2.06-.94-2.06-.94-.94-2.06-.94 2.06-2.06.94z\"/><path d=\"M17.41 7.96l-1.37-1.37c-.4-.4-.92-.59-1.43-.59-.52 0-1.04.2-1.43.59L10.3 9.45l-7.72 7.72c-.78.78-.78 2.05 0 2.83L4 21.41c.39.39.9.59 1.41.59.51 0 1.02-.2 1.41-.59l7.78-7.78 2.81-2.81c.8-.78.8-2.07 0-2.86zM5.41 20L4 18.59l7.72-7.72 1.47 1.35L5.41 20z\"/>\n",
              "  </svg>\n",
              "      </button>\n",
              "      \n",
              "  <style>\n",
              "    .colab-df-container {\n",
              "      display:flex;\n",
              "      flex-wrap:wrap;\n",
              "      gap: 12px;\n",
              "    }\n",
              "\n",
              "    .colab-df-convert {\n",
              "      background-color: #E8F0FE;\n",
              "      border: none;\n",
              "      border-radius: 50%;\n",
              "      cursor: pointer;\n",
              "      display: none;\n",
              "      fill: #1967D2;\n",
              "      height: 32px;\n",
              "      padding: 0 0 0 0;\n",
              "      width: 32px;\n",
              "    }\n",
              "\n",
              "    .colab-df-convert:hover {\n",
              "      background-color: #E2EBFA;\n",
              "      box-shadow: 0px 1px 2px rgba(60, 64, 67, 0.3), 0px 1px 3px 1px rgba(60, 64, 67, 0.15);\n",
              "      fill: #174EA6;\n",
              "    }\n",
              "\n",
              "    [theme=dark] .colab-df-convert {\n",
              "      background-color: #3B4455;\n",
              "      fill: #D2E3FC;\n",
              "    }\n",
              "\n",
              "    [theme=dark] .colab-df-convert:hover {\n",
              "      background-color: #434B5C;\n",
              "      box-shadow: 0px 1px 3px 1px rgba(0, 0, 0, 0.15);\n",
              "      filter: drop-shadow(0px 1px 2px rgba(0, 0, 0, 0.3));\n",
              "      fill: #FFFFFF;\n",
              "    }\n",
              "  </style>\n",
              "\n",
              "      <script>\n",
              "        const buttonEl =\n",
              "          document.querySelector('#df-228d6e4e-5ea9-45ab-a22a-df9906fdda43 button.colab-df-convert');\n",
              "        buttonEl.style.display =\n",
              "          google.colab.kernel.accessAllowed ? 'block' : 'none';\n",
              "\n",
              "        async function convertToInteractive(key) {\n",
              "          const element = document.querySelector('#df-228d6e4e-5ea9-45ab-a22a-df9906fdda43');\n",
              "          const dataTable =\n",
              "            await google.colab.kernel.invokeFunction('convertToInteractive',\n",
              "                                                     [key], {});\n",
              "          if (!dataTable) return;\n",
              "\n",
              "          const docLinkHtml = 'Like what you see? Visit the ' +\n",
              "            '<a target=\"_blank\" href=https://colab.research.google.com/notebooks/data_table.ipynb>data table notebook</a>'\n",
              "            + ' to learn more about interactive tables.';\n",
              "          element.innerHTML = '';\n",
              "          dataTable['output_type'] = 'display_data';\n",
              "          await google.colab.output.renderOutput(dataTable, element);\n",
              "          const docLink = document.createElement('div');\n",
              "          docLink.innerHTML = docLinkHtml;\n",
              "          element.appendChild(docLink);\n",
              "        }\n",
              "      </script>\n",
              "    </div>\n",
              "  </div>\n",
              "  "
            ],
            "text/plain": [
              "   order_id  ...  item_price\n",
              "0         1  ...      $2.39 \n",
              "1         1  ...      $3.39 \n",
              "2         1  ...      $3.39 \n",
              "3         1  ...      $2.39 \n",
              "4         2  ...     $16.98 \n",
              "5         3  ...     $10.98 \n",
              "6         3  ...      $1.69 \n",
              "7         4  ...     $11.75 \n",
              "8         4  ...      $9.25 \n",
              "9         5  ...      $9.25 \n",
              "\n",
              "[10 rows x 5 columns]"
            ]
          },
          "metadata": {},
          "execution_count": 5
        }
      ]
    },
    {
      "cell_type": "code",
      "source": [
        "orders.item_name.str.upper()"
      ],
      "metadata": {
        "colab": {
          "base_uri": "https://localhost:8080/"
        },
        "id": "GykWx-bmesin",
        "outputId": "d482649e-d2d1-4409-9e9e-661b17f4074d"
      },
      "execution_count": 8,
      "outputs": [
        {
          "output_type": "execute_result",
          "data": {
            "text/plain": [
              "0                CHIPS AND FRESH TOMATO SALSA\n",
              "1                                        IZZE\n",
              "2                            NANTUCKET NECTAR\n",
              "3       CHIPS AND TOMATILLO-GREEN CHILI SALSA\n",
              "4                                CHICKEN BOWL\n",
              "                        ...                  \n",
              "4617                            STEAK BURRITO\n",
              "4618                            STEAK BURRITO\n",
              "4619                       CHICKEN SALAD BOWL\n",
              "4620                       CHICKEN SALAD BOWL\n",
              "4621                       CHICKEN SALAD BOWL\n",
              "Name: item_name, Length: 4622, dtype: object"
            ]
          },
          "metadata": {},
          "execution_count": 8
        }
      ]
    },
    {
      "cell_type": "code",
      "source": [
        "orders.item_name.str.contains('chicken')"
      ],
      "metadata": {
        "colab": {
          "base_uri": "https://localhost:8080/"
        },
        "id": "xO8tEkILfAdc",
        "outputId": "3838004f-3f14-49db-cc37-ff0e6f14811c"
      },
      "execution_count": 12,
      "outputs": [
        {
          "output_type": "execute_result",
          "data": {
            "text/plain": [
              "0       False\n",
              "1       False\n",
              "2       False\n",
              "3       False\n",
              "4       False\n",
              "        ...  \n",
              "4617    False\n",
              "4618    False\n",
              "4619    False\n",
              "4620    False\n",
              "4621    False\n",
              "Name: item_name, Length: 4622, dtype: bool"
            ]
          },
          "metadata": {},
          "execution_count": 12
        }
      ]
    },
    {
      "cell_type": "code",
      "source": [
        "orders.choice_description.str.replace('[', '')"
      ],
      "metadata": {
        "colab": {
          "base_uri": "https://localhost:8080/"
        },
        "id": "fnbtlBxDgMsD",
        "outputId": "c1e75c63-c46f-4228-d593-64755fbdf174"
      },
      "execution_count": 20,
      "outputs": [
        {
          "output_type": "execute_result",
          "data": {
            "text/plain": [
              "0                                                     NaN\n",
              "1                                             Clementine]\n",
              "2                                                  Apple]\n",
              "3                                                     NaN\n",
              "4       Tomatillo-Red Chili Salsa (Hot), Black Beans, ...\n",
              "                              ...                        \n",
              "4617    Fresh Tomato Salsa, Rice, Black Beans, Sour Cr...\n",
              "4618    Fresh Tomato Salsa, Rice, Sour Cream, Cheese, ...\n",
              "4619    Fresh Tomato Salsa, Fajita Vegetables, Pinto B...\n",
              "4620     Fresh Tomato Salsa, Fajita Vegetables, Lettuce]]\n",
              "4621    Fresh Tomato Salsa, Fajita Vegetables, Pinto B...\n",
              "Name: choice_description, Length: 4622, dtype: object"
            ]
          },
          "metadata": {},
          "execution_count": 20
        }
      ]
    },
    {
      "cell_type": "code",
      "source": [
        "orders.choice_description.str.replace('[', '').str.replace(']','')"
      ],
      "metadata": {
        "colab": {
          "base_uri": "https://localhost:8080/"
        },
        "id": "bj-plfMOgf9q",
        "outputId": "842e94ca-4d1c-4fb3-a03f-0f3a80b6fd84"
      },
      "execution_count": 22,
      "outputs": [
        {
          "output_type": "execute_result",
          "data": {
            "text/plain": [
              "0                                                     NaN\n",
              "1                                              Clementine\n",
              "2                                                   Apple\n",
              "3                                                     NaN\n",
              "4       Tomatillo-Red Chili Salsa (Hot), Black Beans, ...\n",
              "                              ...                        \n",
              "4617    Fresh Tomato Salsa, Rice, Black Beans, Sour Cr...\n",
              "4618    Fresh Tomato Salsa, Rice, Sour Cream, Cheese, ...\n",
              "4619    Fresh Tomato Salsa, Fajita Vegetables, Pinto B...\n",
              "4620       Fresh Tomato Salsa, Fajita Vegetables, Lettuce\n",
              "4621    Fresh Tomato Salsa, Fajita Vegetables, Pinto B...\n",
              "Name: choice_description, Length: 4622, dtype: object"
            ]
          },
          "metadata": {},
          "execution_count": 22
        }
      ]
    },
    {
      "cell_type": "code",
      "source": [
        "orders"
      ],
      "metadata": {
        "colab": {
          "base_uri": "https://localhost:8080/",
          "height": 424
        },
        "id": "Th4iHDkRhKk5",
        "outputId": "655b199f-54f4-4229-c21c-9b0b5cc6e882"
      },
      "execution_count": 23,
      "outputs": [
        {
          "output_type": "execute_result",
          "data": {
            "text/html": [
              "\n",
              "  <div id=\"df-e36b3b67-63e1-4670-8afc-d6be6ba9b639\">\n",
              "    <div class=\"colab-df-container\">\n",
              "      <div>\n",
              "<style scoped>\n",
              "    .dataframe tbody tr th:only-of-type {\n",
              "        vertical-align: middle;\n",
              "    }\n",
              "\n",
              "    .dataframe tbody tr th {\n",
              "        vertical-align: top;\n",
              "    }\n",
              "\n",
              "    .dataframe thead th {\n",
              "        text-align: right;\n",
              "    }\n",
              "</style>\n",
              "<table border=\"1\" class=\"dataframe\">\n",
              "  <thead>\n",
              "    <tr style=\"text-align: right;\">\n",
              "      <th></th>\n",
              "      <th>order_id</th>\n",
              "      <th>quantity</th>\n",
              "      <th>item_name</th>\n",
              "      <th>choice_description</th>\n",
              "      <th>item_price</th>\n",
              "    </tr>\n",
              "  </thead>\n",
              "  <tbody>\n",
              "    <tr>\n",
              "      <th>0</th>\n",
              "      <td>1</td>\n",
              "      <td>1</td>\n",
              "      <td>Chips and Fresh Tomato Salsa</td>\n",
              "      <td>NaN</td>\n",
              "      <td>$2.39</td>\n",
              "    </tr>\n",
              "    <tr>\n",
              "      <th>1</th>\n",
              "      <td>1</td>\n",
              "      <td>1</td>\n",
              "      <td>Izze</td>\n",
              "      <td>[Clementine]</td>\n",
              "      <td>$3.39</td>\n",
              "    </tr>\n",
              "    <tr>\n",
              "      <th>2</th>\n",
              "      <td>1</td>\n",
              "      <td>1</td>\n",
              "      <td>Nantucket Nectar</td>\n",
              "      <td>[Apple]</td>\n",
              "      <td>$3.39</td>\n",
              "    </tr>\n",
              "    <tr>\n",
              "      <th>3</th>\n",
              "      <td>1</td>\n",
              "      <td>1</td>\n",
              "      <td>Chips and Tomatillo-Green Chili Salsa</td>\n",
              "      <td>NaN</td>\n",
              "      <td>$2.39</td>\n",
              "    </tr>\n",
              "    <tr>\n",
              "      <th>4</th>\n",
              "      <td>2</td>\n",
              "      <td>2</td>\n",
              "      <td>Chicken Bowl</td>\n",
              "      <td>[Tomatillo-Red Chili Salsa (Hot), [Black Beans...</td>\n",
              "      <td>$16.98</td>\n",
              "    </tr>\n",
              "    <tr>\n",
              "      <th>...</th>\n",
              "      <td>...</td>\n",
              "      <td>...</td>\n",
              "      <td>...</td>\n",
              "      <td>...</td>\n",
              "      <td>...</td>\n",
              "    </tr>\n",
              "    <tr>\n",
              "      <th>4617</th>\n",
              "      <td>1833</td>\n",
              "      <td>1</td>\n",
              "      <td>Steak Burrito</td>\n",
              "      <td>[Fresh Tomato Salsa, [Rice, Black Beans, Sour ...</td>\n",
              "      <td>$11.75</td>\n",
              "    </tr>\n",
              "    <tr>\n",
              "      <th>4618</th>\n",
              "      <td>1833</td>\n",
              "      <td>1</td>\n",
              "      <td>Steak Burrito</td>\n",
              "      <td>[Fresh Tomato Salsa, [Rice, Sour Cream, Cheese...</td>\n",
              "      <td>$11.75</td>\n",
              "    </tr>\n",
              "    <tr>\n",
              "      <th>4619</th>\n",
              "      <td>1834</td>\n",
              "      <td>1</td>\n",
              "      <td>Chicken Salad Bowl</td>\n",
              "      <td>[Fresh Tomato Salsa, [Fajita Vegetables, Pinto...</td>\n",
              "      <td>$11.25</td>\n",
              "    </tr>\n",
              "    <tr>\n",
              "      <th>4620</th>\n",
              "      <td>1834</td>\n",
              "      <td>1</td>\n",
              "      <td>Chicken Salad Bowl</td>\n",
              "      <td>[Fresh Tomato Salsa, [Fajita Vegetables, Lettu...</td>\n",
              "      <td>$8.75</td>\n",
              "    </tr>\n",
              "    <tr>\n",
              "      <th>4621</th>\n",
              "      <td>1834</td>\n",
              "      <td>1</td>\n",
              "      <td>Chicken Salad Bowl</td>\n",
              "      <td>[Fresh Tomato Salsa, [Fajita Vegetables, Pinto...</td>\n",
              "      <td>$8.75</td>\n",
              "    </tr>\n",
              "  </tbody>\n",
              "</table>\n",
              "<p>4622 rows × 5 columns</p>\n",
              "</div>\n",
              "      <button class=\"colab-df-convert\" onclick=\"convertToInteractive('df-e36b3b67-63e1-4670-8afc-d6be6ba9b639')\"\n",
              "              title=\"Convert this dataframe to an interactive table.\"\n",
              "              style=\"display:none;\">\n",
              "        \n",
              "  <svg xmlns=\"http://www.w3.org/2000/svg\" height=\"24px\"viewBox=\"0 0 24 24\"\n",
              "       width=\"24px\">\n",
              "    <path d=\"M0 0h24v24H0V0z\" fill=\"none\"/>\n",
              "    <path d=\"M18.56 5.44l.94 2.06.94-2.06 2.06-.94-2.06-.94-.94-2.06-.94 2.06-2.06.94zm-11 1L8.5 8.5l.94-2.06 2.06-.94-2.06-.94L8.5 2.5l-.94 2.06-2.06.94zm10 10l.94 2.06.94-2.06 2.06-.94-2.06-.94-.94-2.06-.94 2.06-2.06.94z\"/><path d=\"M17.41 7.96l-1.37-1.37c-.4-.4-.92-.59-1.43-.59-.52 0-1.04.2-1.43.59L10.3 9.45l-7.72 7.72c-.78.78-.78 2.05 0 2.83L4 21.41c.39.39.9.59 1.41.59.51 0 1.02-.2 1.41-.59l7.78-7.78 2.81-2.81c.8-.78.8-2.07 0-2.86zM5.41 20L4 18.59l7.72-7.72 1.47 1.35L5.41 20z\"/>\n",
              "  </svg>\n",
              "      </button>\n",
              "      \n",
              "  <style>\n",
              "    .colab-df-container {\n",
              "      display:flex;\n",
              "      flex-wrap:wrap;\n",
              "      gap: 12px;\n",
              "    }\n",
              "\n",
              "    .colab-df-convert {\n",
              "      background-color: #E8F0FE;\n",
              "      border: none;\n",
              "      border-radius: 50%;\n",
              "      cursor: pointer;\n",
              "      display: none;\n",
              "      fill: #1967D2;\n",
              "      height: 32px;\n",
              "      padding: 0 0 0 0;\n",
              "      width: 32px;\n",
              "    }\n",
              "\n",
              "    .colab-df-convert:hover {\n",
              "      background-color: #E2EBFA;\n",
              "      box-shadow: 0px 1px 2px rgba(60, 64, 67, 0.3), 0px 1px 3px 1px rgba(60, 64, 67, 0.15);\n",
              "      fill: #174EA6;\n",
              "    }\n",
              "\n",
              "    [theme=dark] .colab-df-convert {\n",
              "      background-color: #3B4455;\n",
              "      fill: #D2E3FC;\n",
              "    }\n",
              "\n",
              "    [theme=dark] .colab-df-convert:hover {\n",
              "      background-color: #434B5C;\n",
              "      box-shadow: 0px 1px 3px 1px rgba(0, 0, 0, 0.15);\n",
              "      filter: drop-shadow(0px 1px 2px rgba(0, 0, 0, 0.3));\n",
              "      fill: #FFFFFF;\n",
              "    }\n",
              "  </style>\n",
              "\n",
              "      <script>\n",
              "        const buttonEl =\n",
              "          document.querySelector('#df-e36b3b67-63e1-4670-8afc-d6be6ba9b639 button.colab-df-convert');\n",
              "        buttonEl.style.display =\n",
              "          google.colab.kernel.accessAllowed ? 'block' : 'none';\n",
              "\n",
              "        async function convertToInteractive(key) {\n",
              "          const element = document.querySelector('#df-e36b3b67-63e1-4670-8afc-d6be6ba9b639');\n",
              "          const dataTable =\n",
              "            await google.colab.kernel.invokeFunction('convertToInteractive',\n",
              "                                                     [key], {});\n",
              "          if (!dataTable) return;\n",
              "\n",
              "          const docLinkHtml = 'Like what you see? Visit the ' +\n",
              "            '<a target=\"_blank\" href=https://colab.research.google.com/notebooks/data_table.ipynb>data table notebook</a>'\n",
              "            + ' to learn more about interactive tables.';\n",
              "          element.innerHTML = '';\n",
              "          dataTable['output_type'] = 'display_data';\n",
              "          await google.colab.output.renderOutput(dataTable, element);\n",
              "          const docLink = document.createElement('div');\n",
              "          docLink.innerHTML = docLinkHtml;\n",
              "          element.appendChild(docLink);\n",
              "        }\n",
              "      </script>\n",
              "    </div>\n",
              "  </div>\n",
              "  "
            ],
            "text/plain": [
              "      order_id  ...  item_price\n",
              "0            1  ...      $2.39 \n",
              "1            1  ...      $3.39 \n",
              "2            1  ...      $3.39 \n",
              "3            1  ...      $2.39 \n",
              "4            2  ...     $16.98 \n",
              "...        ...  ...         ...\n",
              "4617      1833  ...     $11.75 \n",
              "4618      1833  ...     $11.75 \n",
              "4619      1834  ...     $11.25 \n",
              "4620      1834  ...      $8.75 \n",
              "4621      1834  ...      $8.75 \n",
              "\n",
              "[4622 rows x 5 columns]"
            ]
          },
          "metadata": {},
          "execution_count": 23
        }
      ]
    },
    {
      "cell_type": "code",
      "source": [
        "orders.choice_description.str.replace('[\\[\\]]', '')"
      ],
      "metadata": {
        "colab": {
          "base_uri": "https://localhost:8080/"
        },
        "id": "g_XYrUwihNQ0",
        "outputId": "4841dbd7-8ac3-4849-bbb8-98da43de8e71"
      },
      "execution_count": 24,
      "outputs": [
        {
          "output_type": "execute_result",
          "data": {
            "text/plain": [
              "0                                                     NaN\n",
              "1                                              Clementine\n",
              "2                                                   Apple\n",
              "3                                                     NaN\n",
              "4       Tomatillo-Red Chili Salsa (Hot), Black Beans, ...\n",
              "                              ...                        \n",
              "4617    Fresh Tomato Salsa, Rice, Black Beans, Sour Cr...\n",
              "4618    Fresh Tomato Salsa, Rice, Sour Cream, Cheese, ...\n",
              "4619    Fresh Tomato Salsa, Fajita Vegetables, Pinto B...\n",
              "4620       Fresh Tomato Salsa, Fajita Vegetables, Lettuce\n",
              "4621    Fresh Tomato Salsa, Fajita Vegetables, Pinto B...\n",
              "Name: choice_description, Length: 4622, dtype: object"
            ]
          },
          "metadata": {},
          "execution_count": 24
        }
      ]
    },
    {
      "cell_type": "code",
      "source": [
        "orders[orders.item_name.str.contains('chicken')]"
      ],
      "metadata": {
        "colab": {
          "base_uri": "https://localhost:8080/",
          "height": 50
        },
        "id": "c-wKGUjWfcCJ",
        "outputId": "7f99e0bf-0759-49d1-9c1f-9486749a96c6"
      },
      "execution_count": 17,
      "outputs": [
        {
          "output_type": "execute_result",
          "data": {
            "text/html": [
              "\n",
              "  <div id=\"df-bc27e8ba-b6ca-4555-8506-ade25f2d884f\">\n",
              "    <div class=\"colab-df-container\">\n",
              "      <div>\n",
              "<style scoped>\n",
              "    .dataframe tbody tr th:only-of-type {\n",
              "        vertical-align: middle;\n",
              "    }\n",
              "\n",
              "    .dataframe tbody tr th {\n",
              "        vertical-align: top;\n",
              "    }\n",
              "\n",
              "    .dataframe thead th {\n",
              "        text-align: right;\n",
              "    }\n",
              "</style>\n",
              "<table border=\"1\" class=\"dataframe\">\n",
              "  <thead>\n",
              "    <tr style=\"text-align: right;\">\n",
              "      <th></th>\n",
              "      <th>order_id</th>\n",
              "      <th>quantity</th>\n",
              "      <th>item_name</th>\n",
              "      <th>choice_description</th>\n",
              "      <th>item_price</th>\n",
              "    </tr>\n",
              "  </thead>\n",
              "  <tbody>\n",
              "  </tbody>\n",
              "</table>\n",
              "</div>\n",
              "      <button class=\"colab-df-convert\" onclick=\"convertToInteractive('df-bc27e8ba-b6ca-4555-8506-ade25f2d884f')\"\n",
              "              title=\"Convert this dataframe to an interactive table.\"\n",
              "              style=\"display:none;\">\n",
              "        \n",
              "  <svg xmlns=\"http://www.w3.org/2000/svg\" height=\"24px\"viewBox=\"0 0 24 24\"\n",
              "       width=\"24px\">\n",
              "    <path d=\"M0 0h24v24H0V0z\" fill=\"none\"/>\n",
              "    <path d=\"M18.56 5.44l.94 2.06.94-2.06 2.06-.94-2.06-.94-.94-2.06-.94 2.06-2.06.94zm-11 1L8.5 8.5l.94-2.06 2.06-.94-2.06-.94L8.5 2.5l-.94 2.06-2.06.94zm10 10l.94 2.06.94-2.06 2.06-.94-2.06-.94-.94-2.06-.94 2.06-2.06.94z\"/><path d=\"M17.41 7.96l-1.37-1.37c-.4-.4-.92-.59-1.43-.59-.52 0-1.04.2-1.43.59L10.3 9.45l-7.72 7.72c-.78.78-.78 2.05 0 2.83L4 21.41c.39.39.9.59 1.41.59.51 0 1.02-.2 1.41-.59l7.78-7.78 2.81-2.81c.8-.78.8-2.07 0-2.86zM5.41 20L4 18.59l7.72-7.72 1.47 1.35L5.41 20z\"/>\n",
              "  </svg>\n",
              "      </button>\n",
              "      \n",
              "  <style>\n",
              "    .colab-df-container {\n",
              "      display:flex;\n",
              "      flex-wrap:wrap;\n",
              "      gap: 12px;\n",
              "    }\n",
              "\n",
              "    .colab-df-convert {\n",
              "      background-color: #E8F0FE;\n",
              "      border: none;\n",
              "      border-radius: 50%;\n",
              "      cursor: pointer;\n",
              "      display: none;\n",
              "      fill: #1967D2;\n",
              "      height: 32px;\n",
              "      padding: 0 0 0 0;\n",
              "      width: 32px;\n",
              "    }\n",
              "\n",
              "    .colab-df-convert:hover {\n",
              "      background-color: #E2EBFA;\n",
              "      box-shadow: 0px 1px 2px rgba(60, 64, 67, 0.3), 0px 1px 3px 1px rgba(60, 64, 67, 0.15);\n",
              "      fill: #174EA6;\n",
              "    }\n",
              "\n",
              "    [theme=dark] .colab-df-convert {\n",
              "      background-color: #3B4455;\n",
              "      fill: #D2E3FC;\n",
              "    }\n",
              "\n",
              "    [theme=dark] .colab-df-convert:hover {\n",
              "      background-color: #434B5C;\n",
              "      box-shadow: 0px 1px 3px 1px rgba(0, 0, 0, 0.15);\n",
              "      filter: drop-shadow(0px 1px 2px rgba(0, 0, 0, 0.3));\n",
              "      fill: #FFFFFF;\n",
              "    }\n",
              "  </style>\n",
              "\n",
              "      <script>\n",
              "        const buttonEl =\n",
              "          document.querySelector('#df-bc27e8ba-b6ca-4555-8506-ade25f2d884f button.colab-df-convert');\n",
              "        buttonEl.style.display =\n",
              "          google.colab.kernel.accessAllowed ? 'block' : 'none';\n",
              "\n",
              "        async function convertToInteractive(key) {\n",
              "          const element = document.querySelector('#df-bc27e8ba-b6ca-4555-8506-ade25f2d884f');\n",
              "          const dataTable =\n",
              "            await google.colab.kernel.invokeFunction('convertToInteractive',\n",
              "                                                     [key], {});\n",
              "          if (!dataTable) return;\n",
              "\n",
              "          const docLinkHtml = 'Like what you see? Visit the ' +\n",
              "            '<a target=\"_blank\" href=https://colab.research.google.com/notebooks/data_table.ipynb>data table notebook</a>'\n",
              "            + ' to learn more about interactive tables.';\n",
              "          element.innerHTML = '';\n",
              "          dataTable['output_type'] = 'display_data';\n",
              "          await google.colab.output.renderOutput(dataTable, element);\n",
              "          const docLink = document.createElement('div');\n",
              "          docLink.innerHTML = docLinkHtml;\n",
              "          element.appendChild(docLink);\n",
              "        }\n",
              "      </script>\n",
              "    </div>\n",
              "  </div>\n",
              "  "
            ],
            "text/plain": [
              "Empty DataFrame\n",
              "Columns: [order_id, quantity, item_name, choice_description, item_price]\n",
              "Index: []"
            ]
          },
          "metadata": {},
          "execution_count": 17
        }
      ]
    },
    {
      "cell_type": "markdown",
      "source": [
        "# **TIME METHODS**"
      ],
      "metadata": {
        "id": "X-5NU-jthta-"
      }
    },
    {
      "cell_type": "code",
      "source": [
        "datetime      module contains the core objects for working with time series data in Python.\n",
        "to_datetime() method parses many different kinds of date representations returning a Timestamp object.\n",
        "strftime - convert object to a string according to a given format\n",
        "strptime - parse a string into a datetime object given a corresponding format\n",
        "timedelta-  gives time difference\n"
      ],
      "metadata": {
        "id": "wj8zGHRIg5cc"
      },
      "execution_count": null,
      "outputs": []
    },
    {
      "cell_type": "code",
      "source": [
        "from datetime import datetime\n",
        "current_date = datetime.now()\n",
        "print(current_date)"
      ],
      "metadata": {
        "colab": {
          "base_uri": "https://localhost:8080/"
        },
        "id": "sOan4WXpltsv",
        "outputId": "b1994441-fcb0-462c-81a2-d98cd85c04b1"
      },
      "execution_count": 28,
      "outputs": [
        {
          "output_type": "stream",
          "name": "stdout",
          "text": [
            "2022-01-31 14:45:02.396366\n"
          ]
        }
      ]
    },
    {
      "cell_type": "code",
      "source": [
        "date = datetime.now()\n",
        "print(date.today())"
      ],
      "metadata": {
        "colab": {
          "base_uri": "https://localhost:8080/"
        },
        "id": "GsIG5U7kmOBw",
        "outputId": "7becebe2-62ed-4b3c-fb36-eadde37f0f44"
      },
      "execution_count": 31,
      "outputs": [
        {
          "output_type": "stream",
          "name": "stdout",
          "text": [
            "2022-01-31 14:46:40.418543\n"
          ]
        }
      ]
    },
    {
      "cell_type": "code",
      "source": [
        "current_date = datetime.now()\n",
        "print(current_date.month)"
      ],
      "metadata": {
        "colab": {
          "base_uri": "https://localhost:8080/"
        },
        "id": "x4UGFDISmkVU",
        "outputId": "e4d4124a-eb37-4791-c838-36fe6736bf6a"
      },
      "execution_count": 32,
      "outputs": [
        {
          "output_type": "stream",
          "name": "stdout",
          "text": [
            "1\n"
          ]
        }
      ]
    },
    {
      "cell_type": "code",
      "source": [
        "current_date = datetime.now()\n",
        "print(current_date.year)"
      ],
      "metadata": {
        "colab": {
          "base_uri": "https://localhost:8080/"
        },
        "id": "9iqAj4Esm2NH",
        "outputId": "f9699c11-13c9-411b-ebc2-b6914a1d3c71"
      },
      "execution_count": 33,
      "outputs": [
        {
          "output_type": "stream",
          "name": "stdout",
          "text": [
            "2022\n"
          ]
        }
      ]
    },
    {
      "cell_type": "code",
      "source": [
        "current_date = datetime.now()\n",
        "print(current_date.strftime('%W'))"
      ],
      "metadata": {
        "colab": {
          "base_uri": "https://localhost:8080/"
        },
        "id": "HN9JMrA4nC2J",
        "outputId": "5bfc4682-a438-47ee-cac8-101b55909217"
      },
      "execution_count": 34,
      "outputs": [
        {
          "output_type": "stream",
          "name": "stdout",
          "text": [
            "05\n"
          ]
        }
      ]
    },
    {
      "cell_type": "code",
      "source": [
        "print(current_date.strftime('%B'))"
      ],
      "metadata": {
        "colab": {
          "base_uri": "https://localhost:8080/"
        },
        "id": "w7DqS8pZnQqr",
        "outputId": "5c5ba57c-6099-47b4-a288-ec9b8f7c3133"
      },
      "execution_count": 35,
      "outputs": [
        {
          "output_type": "stream",
          "name": "stdout",
          "text": [
            "January\n"
          ]
        }
      ]
    },
    {
      "cell_type": "code",
      "source": [
        "print(current_date.strftime('%d'))"
      ],
      "metadata": {
        "colab": {
          "base_uri": "https://localhost:8080/"
        },
        "id": "EmDgufqDnVoa",
        "outputId": "7466a2f9-e73e-40bf-d949-4e6873378dd2"
      },
      "execution_count": 36,
      "outputs": [
        {
          "output_type": "stream",
          "name": "stdout",
          "text": [
            "31\n"
          ]
        }
      ]
    },
    {
      "cell_type": "markdown",
      "source": [
        "![image.png](data:image/png;base64,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)"
      ],
      "metadata": {
        "id": "MSW0NbnCns1G"
      }
    },
    {
      "cell_type": "code",
      "source": [
        "str1 = '2022-01-31'\n",
        "date1 = datetime.strptime(str1,\"%Y-%m-%d\")\n",
        "print(date1)"
      ],
      "metadata": {
        "colab": {
          "base_uri": "https://localhost:8080/"
        },
        "id": "kKMJd5fgnupY",
        "outputId": "54e5bde4-ea75-4f70-dd9d-0263a9cb6e3a"
      },
      "execution_count": 37,
      "outputs": [
        {
          "output_type": "stream",
          "name": "stdout",
          "text": [
            "2022-01-31 00:00:00\n"
          ]
        }
      ]
    },
    {
      "cell_type": "code",
      "source": [
        "print(date1.month)"
      ],
      "metadata": {
        "colab": {
          "base_uri": "https://localhost:8080/"
        },
        "id": "H5CtreFboezY",
        "outputId": "2b6df335-6832-4399-d0e6-72f8005cc9e0"
      },
      "execution_count": 38,
      "outputs": [
        {
          "output_type": "stream",
          "name": "stdout",
          "text": [
            "1\n"
          ]
        }
      ]
    },
    {
      "cell_type": "code",
      "source": [
        "from datetime import timedelta\n",
        "import datetime"
      ],
      "metadata": {
        "id": "8XKw74hyonye"
      },
      "execution_count": 39,
      "outputs": []
    },
    {
      "cell_type": "code",
      "source": [
        "current_date = datetime.datetime.now()"
      ],
      "metadata": {
        "id": "FpUpLPVNouDf"
      },
      "execution_count": 40,
      "outputs": []
    },
    {
      "cell_type": "code",
      "source": [
        "date_after_10_days = current_date + timedelta(days=10)"
      ],
      "metadata": {
        "id": "-IXUXv4zo3VP"
      },
      "execution_count": 41,
      "outputs": []
    },
    {
      "cell_type": "code",
      "source": [
        "print(\"Today date : \", current_date.date())\n",
        "print(\"Date after 10 days: \", date_after_10_days.date())"
      ],
      "metadata": {
        "colab": {
          "base_uri": "https://localhost:8080/"
        },
        "id": "xa2jM7GdpP-J",
        "outputId": "8c6cbf7b-07e5-4955-ace5-c71727bff8b2"
      },
      "execution_count": 43,
      "outputs": [
        {
          "output_type": "stream",
          "name": "stdout",
          "text": [
            "Today date :  2022-01-31\n",
            "Date after 10 days:  2022-02-10\n"
          ]
        }
      ]
    },
    {
      "cell_type": "markdown",
      "source": [
        "# **Get_Dummies Method**\n",
        "Since Machine Learning models does not work with categorical/non-numerical data we have to convert categorical data to numerical data before feeding it into a model. Get_Dummies method basically converts categorical variable into dummy/indicator variables."
      ],
      "metadata": {
        "id": "3Bx4Vws4p2X6"
      }
    },
    {
      "cell_type": "code",
      "source": [
        "df = pd.DataFrame([('Foreign Cinema', 289.0),\n",
        "                   ('Liho Lİho', 224.0),\n",
        "                   ('500 Club', 80.5),\n",
        "                   ('Foreign Cinema', 25.30)],\n",
        "         columns = ('name', ' amount')\n",
        "                 )\n",
        "df"
      ],
      "metadata": {
        "colab": {
          "base_uri": "https://localhost:8080/",
          "height": 175
        },
        "id": "kKmXsbvKqMYy",
        "outputId": "ccb2f286-a75f-4d12-a99e-5204f3e30cbb"
      },
      "execution_count": 44,
      "outputs": [
        {
          "output_type": "execute_result",
          "data": {
            "text/html": [
              "\n",
              "  <div id=\"df-8c0e63e9-784e-4e62-a2b6-4b1b9c1fb882\">\n",
              "    <div class=\"colab-df-container\">\n",
              "      <div>\n",
              "<style scoped>\n",
              "    .dataframe tbody tr th:only-of-type {\n",
              "        vertical-align: middle;\n",
              "    }\n",
              "\n",
              "    .dataframe tbody tr th {\n",
              "        vertical-align: top;\n",
              "    }\n",
              "\n",
              "    .dataframe thead th {\n",
              "        text-align: right;\n",
              "    }\n",
              "</style>\n",
              "<table border=\"1\" class=\"dataframe\">\n",
              "  <thead>\n",
              "    <tr style=\"text-align: right;\">\n",
              "      <th></th>\n",
              "      <th>name</th>\n",
              "      <th>amount</th>\n",
              "    </tr>\n",
              "  </thead>\n",
              "  <tbody>\n",
              "    <tr>\n",
              "      <th>0</th>\n",
              "      <td>Foreign Cinema</td>\n",
              "      <td>289.0</td>\n",
              "    </tr>\n",
              "    <tr>\n",
              "      <th>1</th>\n",
              "      <td>Liho Lİho</td>\n",
              "      <td>224.0</td>\n",
              "    </tr>\n",
              "    <tr>\n",
              "      <th>2</th>\n",
              "      <td>500 Club</td>\n",
              "      <td>80.5</td>\n",
              "    </tr>\n",
              "    <tr>\n",
              "      <th>3</th>\n",
              "      <td>Foreign Cinema</td>\n",
              "      <td>25.3</td>\n",
              "    </tr>\n",
              "  </tbody>\n",
              "</table>\n",
              "</div>\n",
              "      <button class=\"colab-df-convert\" onclick=\"convertToInteractive('df-8c0e63e9-784e-4e62-a2b6-4b1b9c1fb882')\"\n",
              "              title=\"Convert this dataframe to an interactive table.\"\n",
              "              style=\"display:none;\">\n",
              "        \n",
              "  <svg xmlns=\"http://www.w3.org/2000/svg\" height=\"24px\"viewBox=\"0 0 24 24\"\n",
              "       width=\"24px\">\n",
              "    <path d=\"M0 0h24v24H0V0z\" fill=\"none\"/>\n",
              "    <path d=\"M18.56 5.44l.94 2.06.94-2.06 2.06-.94-2.06-.94-.94-2.06-.94 2.06-2.06.94zm-11 1L8.5 8.5l.94-2.06 2.06-.94-2.06-.94L8.5 2.5l-.94 2.06-2.06.94zm10 10l.94 2.06.94-2.06 2.06-.94-2.06-.94-.94-2.06-.94 2.06-2.06.94z\"/><path d=\"M17.41 7.96l-1.37-1.37c-.4-.4-.92-.59-1.43-.59-.52 0-1.04.2-1.43.59L10.3 9.45l-7.72 7.72c-.78.78-.78 2.05 0 2.83L4 21.41c.39.39.9.59 1.41.59.51 0 1.02-.2 1.41-.59l7.78-7.78 2.81-2.81c.8-.78.8-2.07 0-2.86zM5.41 20L4 18.59l7.72-7.72 1.47 1.35L5.41 20z\"/>\n",
              "  </svg>\n",
              "      </button>\n",
              "      \n",
              "  <style>\n",
              "    .colab-df-container {\n",
              "      display:flex;\n",
              "      flex-wrap:wrap;\n",
              "      gap: 12px;\n",
              "    }\n",
              "\n",
              "    .colab-df-convert {\n",
              "      background-color: #E8F0FE;\n",
              "      border: none;\n",
              "      border-radius: 50%;\n",
              "      cursor: pointer;\n",
              "      display: none;\n",
              "      fill: #1967D2;\n",
              "      height: 32px;\n",
              "      padding: 0 0 0 0;\n",
              "      width: 32px;\n",
              "    }\n",
              "\n",
              "    .colab-df-convert:hover {\n",
              "      background-color: #E2EBFA;\n",
              "      box-shadow: 0px 1px 2px rgba(60, 64, 67, 0.3), 0px 1px 3px 1px rgba(60, 64, 67, 0.15);\n",
              "      fill: #174EA6;\n",
              "    }\n",
              "\n",
              "    [theme=dark] .colab-df-convert {\n",
              "      background-color: #3B4455;\n",
              "      fill: #D2E3FC;\n",
              "    }\n",
              "\n",
              "    [theme=dark] .colab-df-convert:hover {\n",
              "      background-color: #434B5C;\n",
              "      box-shadow: 0px 1px 3px 1px rgba(0, 0, 0, 0.15);\n",
              "      filter: drop-shadow(0px 1px 2px rgba(0, 0, 0, 0.3));\n",
              "      fill: #FFFFFF;\n",
              "    }\n",
              "  </style>\n",
              "\n",
              "      <script>\n",
              "        const buttonEl =\n",
              "          document.querySelector('#df-8c0e63e9-784e-4e62-a2b6-4b1b9c1fb882 button.colab-df-convert');\n",
              "        buttonEl.style.display =\n",
              "          google.colab.kernel.accessAllowed ? 'block' : 'none';\n",
              "\n",
              "        async function convertToInteractive(key) {\n",
              "          const element = document.querySelector('#df-8c0e63e9-784e-4e62-a2b6-4b1b9c1fb882');\n",
              "          const dataTable =\n",
              "            await google.colab.kernel.invokeFunction('convertToInteractive',\n",
              "                                                     [key], {});\n",
              "          if (!dataTable) return;\n",
              "\n",
              "          const docLinkHtml = 'Like what you see? Visit the ' +\n",
              "            '<a target=\"_blank\" href=https://colab.research.google.com/notebooks/data_table.ipynb>data table notebook</a>'\n",
              "            + ' to learn more about interactive tables.';\n",
              "          element.innerHTML = '';\n",
              "          dataTable['output_type'] = 'display_data';\n",
              "          await google.colab.output.renderOutput(dataTable, element);\n",
              "          const docLink = document.createElement('div');\n",
              "          docLink.innerHTML = docLinkHtml;\n",
              "          element.appendChild(docLink);\n",
              "        }\n",
              "      </script>\n",
              "    </div>\n",
              "  </div>\n",
              "  "
            ],
            "text/plain": [
              "             name   amount\n",
              "0  Foreign Cinema    289.0\n",
              "1       Liho Lİho    224.0\n",
              "2        500 Club     80.5\n",
              "3  Foreign Cinema     25.3"
            ]
          },
          "metadata": {},
          "execution_count": 44
        }
      ]
    },
    {
      "cell_type": "code",
      "source": [
        "# 1. cerating dummy indicator columns. \n",
        "# We'll create dummiees on the 'name' column."
      ],
      "metadata": {
        "id": "MXVQmUAKrYAf"
      },
      "execution_count": 45,
      "outputs": []
    },
    {
      "cell_type": "code",
      "source": [
        "pd.get_dummies(df, columns=['name'])"
      ],
      "metadata": {
        "colab": {
          "base_uri": "https://localhost:8080/",
          "height": 175
        },
        "id": "X5vtSHkTrrqw",
        "outputId": "feaff4e0-1079-46dc-8105-58e38ed1cbdc"
      },
      "execution_count": 46,
      "outputs": [
        {
          "output_type": "execute_result",
          "data": {
            "text/html": [
              "\n",
              "  <div id=\"df-77839f61-48f4-4d79-8df5-d6994bb4c696\">\n",
              "    <div class=\"colab-df-container\">\n",
              "      <div>\n",
              "<style scoped>\n",
              "    .dataframe tbody tr th:only-of-type {\n",
              "        vertical-align: middle;\n",
              "    }\n",
              "\n",
              "    .dataframe tbody tr th {\n",
              "        vertical-align: top;\n",
              "    }\n",
              "\n",
              "    .dataframe thead th {\n",
              "        text-align: right;\n",
              "    }\n",
              "</style>\n",
              "<table border=\"1\" class=\"dataframe\">\n",
              "  <thead>\n",
              "    <tr style=\"text-align: right;\">\n",
              "      <th></th>\n",
              "      <th>amount</th>\n",
              "      <th>name_500 Club</th>\n",
              "      <th>name_Foreign Cinema</th>\n",
              "      <th>name_Liho Lİho</th>\n",
              "    </tr>\n",
              "  </thead>\n",
              "  <tbody>\n",
              "    <tr>\n",
              "      <th>0</th>\n",
              "      <td>289.0</td>\n",
              "      <td>0</td>\n",
              "      <td>1</td>\n",
              "      <td>0</td>\n",
              "    </tr>\n",
              "    <tr>\n",
              "      <th>1</th>\n",
              "      <td>224.0</td>\n",
              "      <td>0</td>\n",
              "      <td>0</td>\n",
              "      <td>1</td>\n",
              "    </tr>\n",
              "    <tr>\n",
              "      <th>2</th>\n",
              "      <td>80.5</td>\n",
              "      <td>1</td>\n",
              "      <td>0</td>\n",
              "      <td>0</td>\n",
              "    </tr>\n",
              "    <tr>\n",
              "      <th>3</th>\n",
              "      <td>25.3</td>\n",
              "      <td>0</td>\n",
              "      <td>1</td>\n",
              "      <td>0</td>\n",
              "    </tr>\n",
              "  </tbody>\n",
              "</table>\n",
              "</div>\n",
              "      <button class=\"colab-df-convert\" onclick=\"convertToInteractive('df-77839f61-48f4-4d79-8df5-d6994bb4c696')\"\n",
              "              title=\"Convert this dataframe to an interactive table.\"\n",
              "              style=\"display:none;\">\n",
              "        \n",
              "  <svg xmlns=\"http://www.w3.org/2000/svg\" height=\"24px\"viewBox=\"0 0 24 24\"\n",
              "       width=\"24px\">\n",
              "    <path d=\"M0 0h24v24H0V0z\" fill=\"none\"/>\n",
              "    <path d=\"M18.56 5.44l.94 2.06.94-2.06 2.06-.94-2.06-.94-.94-2.06-.94 2.06-2.06.94zm-11 1L8.5 8.5l.94-2.06 2.06-.94-2.06-.94L8.5 2.5l-.94 2.06-2.06.94zm10 10l.94 2.06.94-2.06 2.06-.94-2.06-.94-.94-2.06-.94 2.06-2.06.94z\"/><path d=\"M17.41 7.96l-1.37-1.37c-.4-.4-.92-.59-1.43-.59-.52 0-1.04.2-1.43.59L10.3 9.45l-7.72 7.72c-.78.78-.78 2.05 0 2.83L4 21.41c.39.39.9.59 1.41.59.51 0 1.02-.2 1.41-.59l7.78-7.78 2.81-2.81c.8-.78.8-2.07 0-2.86zM5.41 20L4 18.59l7.72-7.72 1.47 1.35L5.41 20z\"/>\n",
              "  </svg>\n",
              "      </button>\n",
              "      \n",
              "  <style>\n",
              "    .colab-df-container {\n",
              "      display:flex;\n",
              "      flex-wrap:wrap;\n",
              "      gap: 12px;\n",
              "    }\n",
              "\n",
              "    .colab-df-convert {\n",
              "      background-color: #E8F0FE;\n",
              "      border: none;\n",
              "      border-radius: 50%;\n",
              "      cursor: pointer;\n",
              "      display: none;\n",
              "      fill: #1967D2;\n",
              "      height: 32px;\n",
              "      padding: 0 0 0 0;\n",
              "      width: 32px;\n",
              "    }\n",
              "\n",
              "    .colab-df-convert:hover {\n",
              "      background-color: #E2EBFA;\n",
              "      box-shadow: 0px 1px 2px rgba(60, 64, 67, 0.3), 0px 1px 3px 1px rgba(60, 64, 67, 0.15);\n",
              "      fill: #174EA6;\n",
              "    }\n",
              "\n",
              "    [theme=dark] .colab-df-convert {\n",
              "      background-color: #3B4455;\n",
              "      fill: #D2E3FC;\n",
              "    }\n",
              "\n",
              "    [theme=dark] .colab-df-convert:hover {\n",
              "      background-color: #434B5C;\n",
              "      box-shadow: 0px 1px 3px 1px rgba(0, 0, 0, 0.15);\n",
              "      filter: drop-shadow(0px 1px 2px rgba(0, 0, 0, 0.3));\n",
              "      fill: #FFFFFF;\n",
              "    }\n",
              "  </style>\n",
              "\n",
              "      <script>\n",
              "        const buttonEl =\n",
              "          document.querySelector('#df-77839f61-48f4-4d79-8df5-d6994bb4c696 button.colab-df-convert');\n",
              "        buttonEl.style.display =\n",
              "          google.colab.kernel.accessAllowed ? 'block' : 'none';\n",
              "\n",
              "        async function convertToInteractive(key) {\n",
              "          const element = document.querySelector('#df-77839f61-48f4-4d79-8df5-d6994bb4c696');\n",
              "          const dataTable =\n",
              "            await google.colab.kernel.invokeFunction('convertToInteractive',\n",
              "                                                     [key], {});\n",
              "          if (!dataTable) return;\n",
              "\n",
              "          const docLinkHtml = 'Like what you see? Visit the ' +\n",
              "            '<a target=\"_blank\" href=https://colab.research.google.com/notebooks/data_table.ipynb>data table notebook</a>'\n",
              "            + ' to learn more about interactive tables.';\n",
              "          element.innerHTML = '';\n",
              "          dataTable['output_type'] = 'display_data';\n",
              "          await google.colab.output.renderOutput(dataTable, element);\n",
              "          const docLink = document.createElement('div');\n",
              "          docLink.innerHTML = docLinkHtml;\n",
              "          element.appendChild(docLink);\n",
              "        }\n",
              "      </script>\n",
              "    </div>\n",
              "  </div>\n",
              "  "
            ],
            "text/plain": [
              "    amount  name_500 Club  name_Foreign Cinema  name_Liho Lİho\n",
              "0    289.0              0                    1               0\n",
              "1    224.0              0                    0               1\n",
              "2     80.5              1                    0               0\n",
              "3     25.3              0                    1               0"
            ]
          },
          "metadata": {},
          "execution_count": 46
        }
      ]
    },
    {
      "cell_type": "code",
      "source": [
        "# 2. creating dummy indicator columns with prefix"
      ],
      "metadata": {
        "id": "6RNUtr1EsbBc"
      },
      "execution_count": 47,
      "outputs": []
    },
    {
      "cell_type": "code",
      "source": [
        "pd.get_dummies(df, columns=['name'], prefix=\"dmy\")"
      ],
      "metadata": {
        "colab": {
          "base_uri": "https://localhost:8080/",
          "height": 175
        },
        "id": "sPI8pI92snN2",
        "outputId": "afabc3ab-aa9e-4659-f26f-6c6231a513b6"
      },
      "execution_count": 48,
      "outputs": [
        {
          "output_type": "execute_result",
          "data": {
            "text/html": [
              "\n",
              "  <div id=\"df-72504a3f-b3ee-485c-a20d-1a4a340e2736\">\n",
              "    <div class=\"colab-df-container\">\n",
              "      <div>\n",
              "<style scoped>\n",
              "    .dataframe tbody tr th:only-of-type {\n",
              "        vertical-align: middle;\n",
              "    }\n",
              "\n",
              "    .dataframe tbody tr th {\n",
              "        vertical-align: top;\n",
              "    }\n",
              "\n",
              "    .dataframe thead th {\n",
              "        text-align: right;\n",
              "    }\n",
              "</style>\n",
              "<table border=\"1\" class=\"dataframe\">\n",
              "  <thead>\n",
              "    <tr style=\"text-align: right;\">\n",
              "      <th></th>\n",
              "      <th>amount</th>\n",
              "      <th>dmy_500 Club</th>\n",
              "      <th>dmy_Foreign Cinema</th>\n",
              "      <th>dmy_Liho Lİho</th>\n",
              "    </tr>\n",
              "  </thead>\n",
              "  <tbody>\n",
              "    <tr>\n",
              "      <th>0</th>\n",
              "      <td>289.0</td>\n",
              "      <td>0</td>\n",
              "      <td>1</td>\n",
              "      <td>0</td>\n",
              "    </tr>\n",
              "    <tr>\n",
              "      <th>1</th>\n",
              "      <td>224.0</td>\n",
              "      <td>0</td>\n",
              "      <td>0</td>\n",
              "      <td>1</td>\n",
              "    </tr>\n",
              "    <tr>\n",
              "      <th>2</th>\n",
              "      <td>80.5</td>\n",
              "      <td>1</td>\n",
              "      <td>0</td>\n",
              "      <td>0</td>\n",
              "    </tr>\n",
              "    <tr>\n",
              "      <th>3</th>\n",
              "      <td>25.3</td>\n",
              "      <td>0</td>\n",
              "      <td>1</td>\n",
              "      <td>0</td>\n",
              "    </tr>\n",
              "  </tbody>\n",
              "</table>\n",
              "</div>\n",
              "      <button class=\"colab-df-convert\" onclick=\"convertToInteractive('df-72504a3f-b3ee-485c-a20d-1a4a340e2736')\"\n",
              "              title=\"Convert this dataframe to an interactive table.\"\n",
              "              style=\"display:none;\">\n",
              "        \n",
              "  <svg xmlns=\"http://www.w3.org/2000/svg\" height=\"24px\"viewBox=\"0 0 24 24\"\n",
              "       width=\"24px\">\n",
              "    <path d=\"M0 0h24v24H0V0z\" fill=\"none\"/>\n",
              "    <path d=\"M18.56 5.44l.94 2.06.94-2.06 2.06-.94-2.06-.94-.94-2.06-.94 2.06-2.06.94zm-11 1L8.5 8.5l.94-2.06 2.06-.94-2.06-.94L8.5 2.5l-.94 2.06-2.06.94zm10 10l.94 2.06.94-2.06 2.06-.94-2.06-.94-.94-2.06-.94 2.06-2.06.94z\"/><path d=\"M17.41 7.96l-1.37-1.37c-.4-.4-.92-.59-1.43-.59-.52 0-1.04.2-1.43.59L10.3 9.45l-7.72 7.72c-.78.78-.78 2.05 0 2.83L4 21.41c.39.39.9.59 1.41.59.51 0 1.02-.2 1.41-.59l7.78-7.78 2.81-2.81c.8-.78.8-2.07 0-2.86zM5.41 20L4 18.59l7.72-7.72 1.47 1.35L5.41 20z\"/>\n",
              "  </svg>\n",
              "      </button>\n",
              "      \n",
              "  <style>\n",
              "    .colab-df-container {\n",
              "      display:flex;\n",
              "      flex-wrap:wrap;\n",
              "      gap: 12px;\n",
              "    }\n",
              "\n",
              "    .colab-df-convert {\n",
              "      background-color: #E8F0FE;\n",
              "      border: none;\n",
              "      border-radius: 50%;\n",
              "      cursor: pointer;\n",
              "      display: none;\n",
              "      fill: #1967D2;\n",
              "      height: 32px;\n",
              "      padding: 0 0 0 0;\n",
              "      width: 32px;\n",
              "    }\n",
              "\n",
              "    .colab-df-convert:hover {\n",
              "      background-color: #E2EBFA;\n",
              "      box-shadow: 0px 1px 2px rgba(60, 64, 67, 0.3), 0px 1px 3px 1px rgba(60, 64, 67, 0.15);\n",
              "      fill: #174EA6;\n",
              "    }\n",
              "\n",
              "    [theme=dark] .colab-df-convert {\n",
              "      background-color: #3B4455;\n",
              "      fill: #D2E3FC;\n",
              "    }\n",
              "\n",
              "    [theme=dark] .colab-df-convert:hover {\n",
              "      background-color: #434B5C;\n",
              "      box-shadow: 0px 1px 3px 1px rgba(0, 0, 0, 0.15);\n",
              "      filter: drop-shadow(0px 1px 2px rgba(0, 0, 0, 0.3));\n",
              "      fill: #FFFFFF;\n",
              "    }\n",
              "  </style>\n",
              "\n",
              "      <script>\n",
              "        const buttonEl =\n",
              "          document.querySelector('#df-72504a3f-b3ee-485c-a20d-1a4a340e2736 button.colab-df-convert');\n",
              "        buttonEl.style.display =\n",
              "          google.colab.kernel.accessAllowed ? 'block' : 'none';\n",
              "\n",
              "        async function convertToInteractive(key) {\n",
              "          const element = document.querySelector('#df-72504a3f-b3ee-485c-a20d-1a4a340e2736');\n",
              "          const dataTable =\n",
              "            await google.colab.kernel.invokeFunction('convertToInteractive',\n",
              "                                                     [key], {});\n",
              "          if (!dataTable) return;\n",
              "\n",
              "          const docLinkHtml = 'Like what you see? Visit the ' +\n",
              "            '<a target=\"_blank\" href=https://colab.research.google.com/notebooks/data_table.ipynb>data table notebook</a>'\n",
              "            + ' to learn more about interactive tables.';\n",
              "          element.innerHTML = '';\n",
              "          dataTable['output_type'] = 'display_data';\n",
              "          await google.colab.output.renderOutput(dataTable, element);\n",
              "          const docLink = document.createElement('div');\n",
              "          docLink.innerHTML = docLinkHtml;\n",
              "          element.appendChild(docLink);\n",
              "        }\n",
              "      </script>\n",
              "    </div>\n",
              "  </div>\n",
              "  "
            ],
            "text/plain": [
              "    amount  dmy_500 Club  dmy_Foreign Cinema  dmy_Liho Lİho\n",
              "0    289.0             0                   1              0\n",
              "1    224.0             0                   0              1\n",
              "2     80.5             1                   0              0\n",
              "3     25.3             0                   1              0"
            ]
          },
          "metadata": {},
          "execution_count": 48
        }
      ]
    },
    {
      "cell_type": "code",
      "source": [
        "pd.get_dummies(df, columns=['name'], prefix=\"dmy\", prefix_sep=\"*\")"
      ],
      "metadata": {
        "colab": {
          "base_uri": "https://localhost:8080/",
          "height": 175
        },
        "id": "n7tn6O2Is-YF",
        "outputId": "aa21517b-d133-47b0-948b-07c10f43419c"
      },
      "execution_count": 49,
      "outputs": [
        {
          "output_type": "execute_result",
          "data": {
            "text/html": [
              "\n",
              "  <div id=\"df-86b32f60-b5e8-419d-a34a-57b8a9e2b3c6\">\n",
              "    <div class=\"colab-df-container\">\n",
              "      <div>\n",
              "<style scoped>\n",
              "    .dataframe tbody tr th:only-of-type {\n",
              "        vertical-align: middle;\n",
              "    }\n",
              "\n",
              "    .dataframe tbody tr th {\n",
              "        vertical-align: top;\n",
              "    }\n",
              "\n",
              "    .dataframe thead th {\n",
              "        text-align: right;\n",
              "    }\n",
              "</style>\n",
              "<table border=\"1\" class=\"dataframe\">\n",
              "  <thead>\n",
              "    <tr style=\"text-align: right;\">\n",
              "      <th></th>\n",
              "      <th>amount</th>\n",
              "      <th>dmy*500 Club</th>\n",
              "      <th>dmy*Foreign Cinema</th>\n",
              "      <th>dmy*Liho Lİho</th>\n",
              "    </tr>\n",
              "  </thead>\n",
              "  <tbody>\n",
              "    <tr>\n",
              "      <th>0</th>\n",
              "      <td>289.0</td>\n",
              "      <td>0</td>\n",
              "      <td>1</td>\n",
              "      <td>0</td>\n",
              "    </tr>\n",
              "    <tr>\n",
              "      <th>1</th>\n",
              "      <td>224.0</td>\n",
              "      <td>0</td>\n",
              "      <td>0</td>\n",
              "      <td>1</td>\n",
              "    </tr>\n",
              "    <tr>\n",
              "      <th>2</th>\n",
              "      <td>80.5</td>\n",
              "      <td>1</td>\n",
              "      <td>0</td>\n",
              "      <td>0</td>\n",
              "    </tr>\n",
              "    <tr>\n",
              "      <th>3</th>\n",
              "      <td>25.3</td>\n",
              "      <td>0</td>\n",
              "      <td>1</td>\n",
              "      <td>0</td>\n",
              "    </tr>\n",
              "  </tbody>\n",
              "</table>\n",
              "</div>\n",
              "      <button class=\"colab-df-convert\" onclick=\"convertToInteractive('df-86b32f60-b5e8-419d-a34a-57b8a9e2b3c6')\"\n",
              "              title=\"Convert this dataframe to an interactive table.\"\n",
              "              style=\"display:none;\">\n",
              "        \n",
              "  <svg xmlns=\"http://www.w3.org/2000/svg\" height=\"24px\"viewBox=\"0 0 24 24\"\n",
              "       width=\"24px\">\n",
              "    <path d=\"M0 0h24v24H0V0z\" fill=\"none\"/>\n",
              "    <path d=\"M18.56 5.44l.94 2.06.94-2.06 2.06-.94-2.06-.94-.94-2.06-.94 2.06-2.06.94zm-11 1L8.5 8.5l.94-2.06 2.06-.94-2.06-.94L8.5 2.5l-.94 2.06-2.06.94zm10 10l.94 2.06.94-2.06 2.06-.94-2.06-.94-.94-2.06-.94 2.06-2.06.94z\"/><path d=\"M17.41 7.96l-1.37-1.37c-.4-.4-.92-.59-1.43-.59-.52 0-1.04.2-1.43.59L10.3 9.45l-7.72 7.72c-.78.78-.78 2.05 0 2.83L4 21.41c.39.39.9.59 1.41.59.51 0 1.02-.2 1.41-.59l7.78-7.78 2.81-2.81c.8-.78.8-2.07 0-2.86zM5.41 20L4 18.59l7.72-7.72 1.47 1.35L5.41 20z\"/>\n",
              "  </svg>\n",
              "      </button>\n",
              "      \n",
              "  <style>\n",
              "    .colab-df-container {\n",
              "      display:flex;\n",
              "      flex-wrap:wrap;\n",
              "      gap: 12px;\n",
              "    }\n",
              "\n",
              "    .colab-df-convert {\n",
              "      background-color: #E8F0FE;\n",
              "      border: none;\n",
              "      border-radius: 50%;\n",
              "      cursor: pointer;\n",
              "      display: none;\n",
              "      fill: #1967D2;\n",
              "      height: 32px;\n",
              "      padding: 0 0 0 0;\n",
              "      width: 32px;\n",
              "    }\n",
              "\n",
              "    .colab-df-convert:hover {\n",
              "      background-color: #E2EBFA;\n",
              "      box-shadow: 0px 1px 2px rgba(60, 64, 67, 0.3), 0px 1px 3px 1px rgba(60, 64, 67, 0.15);\n",
              "      fill: #174EA6;\n",
              "    }\n",
              "\n",
              "    [theme=dark] .colab-df-convert {\n",
              "      background-color: #3B4455;\n",
              "      fill: #D2E3FC;\n",
              "    }\n",
              "\n",
              "    [theme=dark] .colab-df-convert:hover {\n",
              "      background-color: #434B5C;\n",
              "      box-shadow: 0px 1px 3px 1px rgba(0, 0, 0, 0.15);\n",
              "      filter: drop-shadow(0px 1px 2px rgba(0, 0, 0, 0.3));\n",
              "      fill: #FFFFFF;\n",
              "    }\n",
              "  </style>\n",
              "\n",
              "      <script>\n",
              "        const buttonEl =\n",
              "          document.querySelector('#df-86b32f60-b5e8-419d-a34a-57b8a9e2b3c6 button.colab-df-convert');\n",
              "        buttonEl.style.display =\n",
              "          google.colab.kernel.accessAllowed ? 'block' : 'none';\n",
              "\n",
              "        async function convertToInteractive(key) {\n",
              "          const element = document.querySelector('#df-86b32f60-b5e8-419d-a34a-57b8a9e2b3c6');\n",
              "          const dataTable =\n",
              "            await google.colab.kernel.invokeFunction('convertToInteractive',\n",
              "                                                     [key], {});\n",
              "          if (!dataTable) return;\n",
              "\n",
              "          const docLinkHtml = 'Like what you see? Visit the ' +\n",
              "            '<a target=\"_blank\" href=https://colab.research.google.com/notebooks/data_table.ipynb>data table notebook</a>'\n",
              "            + ' to learn more about interactive tables.';\n",
              "          element.innerHTML = '';\n",
              "          dataTable['output_type'] = 'display_data';\n",
              "          await google.colab.output.renderOutput(dataTable, element);\n",
              "          const docLink = document.createElement('div');\n",
              "          docLink.innerHTML = docLinkHtml;\n",
              "          element.appendChild(docLink);\n",
              "        }\n",
              "      </script>\n",
              "    </div>\n",
              "  </div>\n",
              "  "
            ],
            "text/plain": [
              "    amount  dmy*500 Club  dmy*Foreign Cinema  dmy*Liho Lİho\n",
              "0    289.0             0                   1              0\n",
              "1    224.0             0                   0              1\n",
              "2     80.5             1                   0              0\n",
              "3     25.3             0                   1              0"
            ]
          },
          "metadata": {},
          "execution_count": 49
        }
      ]
    },
    {
      "cell_type": "code",
      "source": [
        "# 3.  creating dummy indicator columns and dropping the first variable "
      ],
      "metadata": {
        "id": "G6513Qp8tZ_k"
      },
      "execution_count": null,
      "outputs": []
    },
    {
      "cell_type": "code",
      "source": [
        "pd.get_dummies(df, columns=['name'], drop_first= True)"
      ],
      "metadata": {
        "colab": {
          "base_uri": "https://localhost:8080/",
          "height": 175
        },
        "id": "U1zlRxhStqDy",
        "outputId": "e39a1e0c-9c8c-482e-c9a9-804e3d4d41e0"
      },
      "execution_count": 50,
      "outputs": [
        {
          "output_type": "execute_result",
          "data": {
            "text/html": [
              "\n",
              "  <div id=\"df-5779d06a-c44c-4066-b268-d44362dd6d2e\">\n",
              "    <div class=\"colab-df-container\">\n",
              "      <div>\n",
              "<style scoped>\n",
              "    .dataframe tbody tr th:only-of-type {\n",
              "        vertical-align: middle;\n",
              "    }\n",
              "\n",
              "    .dataframe tbody tr th {\n",
              "        vertical-align: top;\n",
              "    }\n",
              "\n",
              "    .dataframe thead th {\n",
              "        text-align: right;\n",
              "    }\n",
              "</style>\n",
              "<table border=\"1\" class=\"dataframe\">\n",
              "  <thead>\n",
              "    <tr style=\"text-align: right;\">\n",
              "      <th></th>\n",
              "      <th>amount</th>\n",
              "      <th>name_Foreign Cinema</th>\n",
              "      <th>name_Liho Lİho</th>\n",
              "    </tr>\n",
              "  </thead>\n",
              "  <tbody>\n",
              "    <tr>\n",
              "      <th>0</th>\n",
              "      <td>289.0</td>\n",
              "      <td>1</td>\n",
              "      <td>0</td>\n",
              "    </tr>\n",
              "    <tr>\n",
              "      <th>1</th>\n",
              "      <td>224.0</td>\n",
              "      <td>0</td>\n",
              "      <td>1</td>\n",
              "    </tr>\n",
              "    <tr>\n",
              "      <th>2</th>\n",
              "      <td>80.5</td>\n",
              "      <td>0</td>\n",
              "      <td>0</td>\n",
              "    </tr>\n",
              "    <tr>\n",
              "      <th>3</th>\n",
              "      <td>25.3</td>\n",
              "      <td>1</td>\n",
              "      <td>0</td>\n",
              "    </tr>\n",
              "  </tbody>\n",
              "</table>\n",
              "</div>\n",
              "      <button class=\"colab-df-convert\" onclick=\"convertToInteractive('df-5779d06a-c44c-4066-b268-d44362dd6d2e')\"\n",
              "              title=\"Convert this dataframe to an interactive table.\"\n",
              "              style=\"display:none;\">\n",
              "        \n",
              "  <svg xmlns=\"http://www.w3.org/2000/svg\" height=\"24px\"viewBox=\"0 0 24 24\"\n",
              "       width=\"24px\">\n",
              "    <path d=\"M0 0h24v24H0V0z\" fill=\"none\"/>\n",
              "    <path d=\"M18.56 5.44l.94 2.06.94-2.06 2.06-.94-2.06-.94-.94-2.06-.94 2.06-2.06.94zm-11 1L8.5 8.5l.94-2.06 2.06-.94-2.06-.94L8.5 2.5l-.94 2.06-2.06.94zm10 10l.94 2.06.94-2.06 2.06-.94-2.06-.94-.94-2.06-.94 2.06-2.06.94z\"/><path d=\"M17.41 7.96l-1.37-1.37c-.4-.4-.92-.59-1.43-.59-.52 0-1.04.2-1.43.59L10.3 9.45l-7.72 7.72c-.78.78-.78 2.05 0 2.83L4 21.41c.39.39.9.59 1.41.59.51 0 1.02-.2 1.41-.59l7.78-7.78 2.81-2.81c.8-.78.8-2.07 0-2.86zM5.41 20L4 18.59l7.72-7.72 1.47 1.35L5.41 20z\"/>\n",
              "  </svg>\n",
              "      </button>\n",
              "      \n",
              "  <style>\n",
              "    .colab-df-container {\n",
              "      display:flex;\n",
              "      flex-wrap:wrap;\n",
              "      gap: 12px;\n",
              "    }\n",
              "\n",
              "    .colab-df-convert {\n",
              "      background-color: #E8F0FE;\n",
              "      border: none;\n",
              "      border-radius: 50%;\n",
              "      cursor: pointer;\n",
              "      display: none;\n",
              "      fill: #1967D2;\n",
              "      height: 32px;\n",
              "      padding: 0 0 0 0;\n",
              "      width: 32px;\n",
              "    }\n",
              "\n",
              "    .colab-df-convert:hover {\n",
              "      background-color: #E2EBFA;\n",
              "      box-shadow: 0px 1px 2px rgba(60, 64, 67, 0.3), 0px 1px 3px 1px rgba(60, 64, 67, 0.15);\n",
              "      fill: #174EA6;\n",
              "    }\n",
              "\n",
              "    [theme=dark] .colab-df-convert {\n",
              "      background-color: #3B4455;\n",
              "      fill: #D2E3FC;\n",
              "    }\n",
              "\n",
              "    [theme=dark] .colab-df-convert:hover {\n",
              "      background-color: #434B5C;\n",
              "      box-shadow: 0px 1px 3px 1px rgba(0, 0, 0, 0.15);\n",
              "      filter: drop-shadow(0px 1px 2px rgba(0, 0, 0, 0.3));\n",
              "      fill: #FFFFFF;\n",
              "    }\n",
              "  </style>\n",
              "\n",
              "      <script>\n",
              "        const buttonEl =\n",
              "          document.querySelector('#df-5779d06a-c44c-4066-b268-d44362dd6d2e button.colab-df-convert');\n",
              "        buttonEl.style.display =\n",
              "          google.colab.kernel.accessAllowed ? 'block' : 'none';\n",
              "\n",
              "        async function convertToInteractive(key) {\n",
              "          const element = document.querySelector('#df-5779d06a-c44c-4066-b268-d44362dd6d2e');\n",
              "          const dataTable =\n",
              "            await google.colab.kernel.invokeFunction('convertToInteractive',\n",
              "                                                     [key], {});\n",
              "          if (!dataTable) return;\n",
              "\n",
              "          const docLinkHtml = 'Like what you see? Visit the ' +\n",
              "            '<a target=\"_blank\" href=https://colab.research.google.com/notebooks/data_table.ipynb>data table notebook</a>'\n",
              "            + ' to learn more about interactive tables.';\n",
              "          element.innerHTML = '';\n",
              "          dataTable['output_type'] = 'display_data';\n",
              "          await google.colab.output.renderOutput(dataTable, element);\n",
              "          const docLink = document.createElement('div');\n",
              "          docLink.innerHTML = docLinkHtml;\n",
              "          element.appendChild(docLink);\n",
              "        }\n",
              "      </script>\n",
              "    </div>\n",
              "  </div>\n",
              "  "
            ],
            "text/plain": [
              "    amount  name_Foreign Cinema  name_Liho Lİho\n",
              "0    289.0                    1               0\n",
              "1    224.0                    0               1\n",
              "2     80.5                    0               0\n",
              "3     25.3                    1               0"
            ]
          },
          "metadata": {},
          "execution_count": 50
        }
      ]
    },
    {
      "cell_type": "code",
      "source": [
        ""
      ],
      "metadata": {
        "id": "GXpK54l6t9BR"
      },
      "execution_count": null,
      "outputs": []
    }
  ]
}