{
  "cells": [
    {
      "cell_type": "markdown",
      "metadata": {
        "id": "view-in-github",
        "colab_type": "text"
      },
      "source": [
        "<a href=\"https://colab.research.google.com/github/merdogan97/DAwPY/blob/main/Time_Sensitive_Interview_Task_1_08_02_2022.ipynb\" target=\"_parent\"><img src=\"https://colab.research.google.com/assets/colab-badge.svg\" alt=\"Open In Colab\"/></a>"
      ]
    },
    {
      "cell_type": "markdown",
      "id": "acc92b2f",
      "metadata": {
        "id": "acc92b2f"
      },
      "source": [
        "# Time-Sensitive Interview Task"
      ]
    },
    {
      "cell_type": "code",
      "execution_count": null,
      "id": "7d5f1b55",
      "metadata": {
        "id": "7d5f1b55"
      },
      "outputs": [],
      "source": [
        "import numpy as np\n",
        "import pandas as pd\n",
        "from scipy import stats\n",
        "\n",
        "import warnings\n",
        "warnings.filterwarnings(\"ignore\")"
      ]
    },
    {
      "cell_type": "code",
      "execution_count": null,
      "id": "d2505fd9",
      "metadata": {
        "id": "d2505fd9"
      },
      "outputs": [],
      "source": [
        "import seaborn as sns\n",
        "import matplotlib.pyplot as plt\n",
        "from pandas.plotting import register_matplotlib_converters\n",
        "from pylab import rcParams\n",
        "sns.set_style(\"darkgrid\")"
      ]
    },
    {
      "cell_type": "code",
      "execution_count": null,
      "id": "a8216ef4",
      "metadata": {
        "id": "a8216ef4",
        "outputId": "65e32102-f917-49bc-bdbd-174d38de746c"
      },
      "outputs": [
        {
          "data": {
            "application/javascript": [
              "\n",
              "        if (window._pyforest_update_imports_cell) { window._pyforest_update_imports_cell('import pandas as pd'); }\n",
              "    "
            ],
            "text/plain": [
              "<IPython.core.display.Javascript object>"
            ]
          },
          "metadata": {},
          "output_type": "display_data"
        },
        {
          "data": {
            "text/html": [
              "<div>\n",
              "<style scoped>\n",
              "    .dataframe tbody tr th:only-of-type {\n",
              "        vertical-align: middle;\n",
              "    }\n",
              "\n",
              "    .dataframe tbody tr th {\n",
              "        vertical-align: top;\n",
              "    }\n",
              "\n",
              "    .dataframe thead th {\n",
              "        text-align: right;\n",
              "    }\n",
              "</style>\n",
              "<table border=\"1\" class=\"dataframe\">\n",
              "  <thead>\n",
              "    <tr style=\"text-align: right;\">\n",
              "      <th></th>\n",
              "      <th>buyer_id</th>\n",
              "      <th>buyer_country</th>\n",
              "      <th>seller_id</th>\n",
              "      <th>seller_country</th>\n",
              "      <th>product_code</th>\n",
              "      <th>category</th>\n",
              "      <th>brand</th>\n",
              "      <th>currency</th>\n",
              "      <th>price</th>\n",
              "      <th>date</th>\n",
              "    </tr>\n",
              "  </thead>\n",
              "  <tbody>\n",
              "    <tr>\n",
              "      <th>91563</th>\n",
              "      <td>5be7gyxjig</td>\n",
              "      <td>AU</td>\n",
              "      <td>trxovtwo</td>\n",
              "      <td>AU</td>\n",
              "      <td>cx7e1azxfilj</td>\n",
              "      <td>Tech</td>\n",
              "      <td>NaN</td>\n",
              "      <td>AUD</td>\n",
              "      <td>5.34</td>\n",
              "      <td>2020-08-08</td>\n",
              "    </tr>\n",
              "    <tr>\n",
              "      <th>52619</th>\n",
              "      <td>fw7y02ulzn</td>\n",
              "      <td>US</td>\n",
              "      <td>r7z3ms00</td>\n",
              "      <td>US</td>\n",
              "      <td>fwacydo7eohp</td>\n",
              "      <td>Shoes</td>\n",
              "      <td>Converse</td>\n",
              "      <td>USD</td>\n",
              "      <td>44.20</td>\n",
              "      <td>2020-08-05</td>\n",
              "    </tr>\n",
              "    <tr>\n",
              "      <th>76395</th>\n",
              "      <td>m8ng61684y</td>\n",
              "      <td>GB</td>\n",
              "      <td>g47hc9c9</td>\n",
              "      <td>GB</td>\n",
              "      <td>bw9wpl4flisw</td>\n",
              "      <td>Bottoms - Womens</td>\n",
              "      <td>ASOS</td>\n",
              "      <td>GBP</td>\n",
              "      <td>15.51</td>\n",
              "      <td>2020-08-07</td>\n",
              "    </tr>\n",
              "    <tr>\n",
              "      <th>136141</th>\n",
              "      <td>en30rcsd6u</td>\n",
              "      <td>GB</td>\n",
              "      <td>bfxaf2pk</td>\n",
              "      <td>GB</td>\n",
              "      <td>y1lct01y05qu</td>\n",
              "      <td>Shoes</td>\n",
              "      <td>Adidas Originals</td>\n",
              "      <td>GBP</td>\n",
              "      <td>24.35</td>\n",
              "      <td>2020-08-08</td>\n",
              "    </tr>\n",
              "    <tr>\n",
              "      <th>121975</th>\n",
              "      <td>gor69q869g</td>\n",
              "      <td>GB</td>\n",
              "      <td>02p5o1ol</td>\n",
              "      <td>GB</td>\n",
              "      <td>u8h352exqsyv</td>\n",
              "      <td>Accessories</td>\n",
              "      <td>ALDO</td>\n",
              "      <td>GBP</td>\n",
              "      <td>9.96</td>\n",
              "      <td>2020-08-07</td>\n",
              "    </tr>\n",
              "    <tr>\n",
              "      <th>101874</th>\n",
              "      <td>ahltrhjvoc</td>\n",
              "      <td>CA</td>\n",
              "      <td>xueekb4b</td>\n",
              "      <td>US</td>\n",
              "      <td>tq58pdjvq40m</td>\n",
              "      <td>Tops - Mens</td>\n",
              "      <td>American Vintage</td>\n",
              "      <td>USD</td>\n",
              "      <td>40.81</td>\n",
              "      <td>2020-08-04</td>\n",
              "    </tr>\n",
              "    <tr>\n",
              "      <th>180455</th>\n",
              "      <td>0vhsl4ebgj</td>\n",
              "      <td>US</td>\n",
              "      <td>1wfx5nbo</td>\n",
              "      <td>US</td>\n",
              "      <td>fje88dbhzzxd</td>\n",
              "      <td>Tops - Womens</td>\n",
              "      <td>Forever 21</td>\n",
              "      <td>USD</td>\n",
              "      <td>16.61</td>\n",
              "      <td>2020-08-04</td>\n",
              "    </tr>\n",
              "  </tbody>\n",
              "</table>\n",
              "</div>"
            ],
            "text/plain": [
              "          buyer_id buyer_country seller_id seller_country  ...             brand currency  price        date\n",
              "91563   5be7gyxjig            AU  trxovtwo             AU  ...               NaN      AUD   5.34  2020-08-08\n",
              "52619   fw7y02ulzn            US  r7z3ms00             US  ...          Converse      USD  44.20  2020-08-05\n",
              "76395   m8ng61684y            GB  g47hc9c9             GB  ...              ASOS      GBP  15.51  2020-08-07\n",
              "136141  en30rcsd6u            GB  bfxaf2pk             GB  ...  Adidas Originals      GBP  24.35  2020-08-08\n",
              "121975  gor69q869g            GB  02p5o1ol             GB  ...              ALDO      GBP   9.96  2020-08-07\n",
              "101874  ahltrhjvoc            CA  xueekb4b             US  ...  American Vintage      USD  40.81  2020-08-04\n",
              "180455  0vhsl4ebgj            US  1wfx5nbo             US  ...        Forever 21      USD  16.61  2020-08-04\n",
              "\n",
              "[7 rows x 10 columns]"
            ]
          },
          "execution_count": 3,
          "metadata": {},
          "output_type": "execute_result"
        }
      ],
      "source": [
        "data = pd.read_csv(\"sales_082020.csv\")\n",
        "df = data.copy()\n",
        "df.sample(7)"
      ]
    },
    {
      "cell_type": "code",
      "execution_count": null,
      "id": "ad811212",
      "metadata": {
        "id": "ad811212",
        "outputId": "e26aaa98-494f-4d39-955c-9b17ea5cfd86"
      },
      "outputs": [
        {
          "name": "stdout",
          "output_type": "stream",
          "text": [
            "<class 'pandas.core.frame.DataFrame'>\n",
            "RangeIndex: 237671 entries, 0 to 237670\n",
            "Data columns (total 10 columns):\n",
            " #   Column          Non-Null Count   Dtype  \n",
            "---  ------          --------------   -----  \n",
            " 0   buyer_id        237671 non-null  object \n",
            " 1   buyer_country   237671 non-null  object \n",
            " 2   seller_id       237671 non-null  object \n",
            " 3   seller_country  237671 non-null  object \n",
            " 4   product_code    237671 non-null  object \n",
            " 5   category        237655 non-null  object \n",
            " 6   brand           119330 non-null  object \n",
            " 7   currency        237671 non-null  object \n",
            " 8   price           237671 non-null  float64\n",
            " 9   date            237671 non-null  object \n",
            "dtypes: float64(1), object(9)\n",
            "memory usage: 18.1+ MB\n"
          ]
        }
      ],
      "source": [
        "df.info()"
      ]
    },
    {
      "cell_type": "code",
      "execution_count": null,
      "id": "8b6a1bd5",
      "metadata": {
        "id": "8b6a1bd5",
        "outputId": "2481cade-fc01-4a90-fe4a-1b4f814fea68"
      },
      "outputs": [
        {
          "data": {
            "text/html": [
              "<div>\n",
              "<style scoped>\n",
              "    .dataframe tbody tr th:only-of-type {\n",
              "        vertical-align: middle;\n",
              "    }\n",
              "\n",
              "    .dataframe tbody tr th {\n",
              "        vertical-align: top;\n",
              "    }\n",
              "\n",
              "    .dataframe thead th {\n",
              "        text-align: right;\n",
              "    }\n",
              "</style>\n",
              "<table border=\"1\" class=\"dataframe\">\n",
              "  <thead>\n",
              "    <tr style=\"text-align: right;\">\n",
              "      <th></th>\n",
              "      <th>price</th>\n",
              "    </tr>\n",
              "  </thead>\n",
              "  <tbody>\n",
              "    <tr>\n",
              "      <th>count</th>\n",
              "      <td>237671.000000</td>\n",
              "    </tr>\n",
              "    <tr>\n",
              "      <th>mean</th>\n",
              "      <td>28.357384</td>\n",
              "    </tr>\n",
              "    <tr>\n",
              "      <th>std</th>\n",
              "      <td>92.895281</td>\n",
              "    </tr>\n",
              "    <tr>\n",
              "      <th>min</th>\n",
              "      <td>0.010000</td>\n",
              "    </tr>\n",
              "    <tr>\n",
              "      <th>25%</th>\n",
              "      <td>11.270000</td>\n",
              "    </tr>\n",
              "    <tr>\n",
              "      <th>50%</th>\n",
              "      <td>18.480000</td>\n",
              "    </tr>\n",
              "    <tr>\n",
              "      <th>75%</th>\n",
              "      <td>31.180000</td>\n",
              "    </tr>\n",
              "    <tr>\n",
              "      <th>max</th>\n",
              "      <td>36919.180000</td>\n",
              "    </tr>\n",
              "  </tbody>\n",
              "</table>\n",
              "</div>"
            ],
            "text/plain": [
              "               price\n",
              "count  237671.000000\n",
              "mean       28.357384\n",
              "std        92.895281\n",
              "min         0.010000\n",
              "25%        11.270000\n",
              "50%        18.480000\n",
              "75%        31.180000\n",
              "max     36919.180000"
            ]
          },
          "execution_count": 5,
          "metadata": {},
          "output_type": "execute_result"
        }
      ],
      "source": [
        "df.describe()"
      ]
    },
    {
      "cell_type": "code",
      "execution_count": null,
      "id": "f91dd8c4",
      "metadata": {
        "id": "f91dd8c4",
        "outputId": "a9a211ae-c2bc-4193-a6e9-e545ae324363"
      },
      "outputs": [
        {
          "data": {
            "text/plain": [
              "40"
            ]
          },
          "execution_count": 7,
          "metadata": {},
          "output_type": "execute_result"
        }
      ],
      "source": [
        "df.duplicated().sum()"
      ]
    },
    {
      "cell_type": "code",
      "execution_count": null,
      "id": "856c1e36",
      "metadata": {
        "id": "856c1e36",
        "outputId": "466cff31-c1cf-4f98-8cb0-f467be298869"
      },
      "outputs": [
        {
          "data": {
            "application/javascript": [
              "\n",
              "        if (window._pyforest_update_imports_cell) { window._pyforest_update_imports_cell('import pandas as pd'); }\n",
              "    "
            ],
            "text/plain": [
              "<IPython.core.display.Javascript object>"
            ]
          },
          "metadata": {},
          "output_type": "display_data"
        },
        {
          "data": {
            "text/html": [
              "<div>\n",
              "<style scoped>\n",
              "    .dataframe tbody tr th:only-of-type {\n",
              "        vertical-align: middle;\n",
              "    }\n",
              "\n",
              "    .dataframe tbody tr th {\n",
              "        vertical-align: top;\n",
              "    }\n",
              "\n",
              "    .dataframe thead th {\n",
              "        text-align: right;\n",
              "    }\n",
              "</style>\n",
              "<table border=\"1\" class=\"dataframe\">\n",
              "  <thead>\n",
              "    <tr style=\"text-align: right;\">\n",
              "      <th></th>\n",
              "      <th>currency</th>\n",
              "      <th>date</th>\n",
              "      <th>rate</th>\n",
              "    </tr>\n",
              "  </thead>\n",
              "  <tbody>\n",
              "    <tr>\n",
              "      <th>159</th>\n",
              "      <td>NOK</td>\n",
              "      <td>8/10/2020</td>\n",
              "      <td>10.609200</td>\n",
              "    </tr>\n",
              "    <tr>\n",
              "      <th>155</th>\n",
              "      <td>NOK</td>\n",
              "      <td>8/6/2020</td>\n",
              "      <td>10.657590</td>\n",
              "    </tr>\n",
              "    <tr>\n",
              "      <th>201</th>\n",
              "      <td>CZK</td>\n",
              "      <td>8/2/2020</td>\n",
              "      <td>26.257050</td>\n",
              "    </tr>\n",
              "    <tr>\n",
              "      <th>161</th>\n",
              "      <td>SGD</td>\n",
              "      <td>8/2/2020</td>\n",
              "      <td>1.619715</td>\n",
              "    </tr>\n",
              "    <tr>\n",
              "      <th>23</th>\n",
              "      <td>USD</td>\n",
              "      <td>8/4/2020</td>\n",
              "      <td>1.181445</td>\n",
              "    </tr>\n",
              "  </tbody>\n",
              "</table>\n",
              "</div>"
            ],
            "text/plain": [
              "    currency       date       rate\n",
              "159      NOK  8/10/2020  10.609200\n",
              "155      NOK   8/6/2020  10.657590\n",
              "201      CZK   8/2/2020  26.257050\n",
              "161      SGD   8/2/2020   1.619715\n",
              "23       USD   8/4/2020   1.181445"
            ]
          },
          "execution_count": 9,
          "metadata": {},
          "output_type": "execute_result"
        }
      ],
      "source": [
        "data1 = pd.read_csv(\"currency_rates_082020_EUR.csv\")\n",
        "df_cur = data1.copy()\n",
        "df_cur.sample(5)"
      ]
    },
    {
      "cell_type": "code",
      "execution_count": null,
      "id": "4c45f782",
      "metadata": {
        "id": "4c45f782",
        "outputId": "ba5175e5-4d6b-47df-c9de-e2ee4d752f51"
      },
      "outputs": [
        {
          "name": "stdout",
          "output_type": "stream",
          "text": [
            "<class 'pandas.core.frame.DataFrame'>\n",
            "RangeIndex: 220 entries, 0 to 219\n",
            "Data columns (total 3 columns):\n",
            " #   Column    Non-Null Count  Dtype  \n",
            "---  ------    --------------  -----  \n",
            " 0   currency  220 non-null    object \n",
            " 1   date      220 non-null    object \n",
            " 2   rate      220 non-null    float64\n",
            "dtypes: float64(1), object(2)\n",
            "memory usage: 5.3+ KB\n"
          ]
        }
      ],
      "source": [
        "df_cur.info()"
      ]
    },
    {
      "cell_type": "code",
      "execution_count": null,
      "id": "6d75f637",
      "metadata": {
        "id": "6d75f637",
        "outputId": "8987bb37-ada3-4b3f-bb90-e0b29f0ea01d"
      },
      "outputs": [
        {
          "name": "stdout",
          "output_type": "stream",
          "text": [
            "<class 'pandas.core.frame.DataFrame'>\n",
            "RangeIndex: 220 entries, 0 to 219\n",
            "Data columns (total 3 columns):\n",
            " #   Column    Non-Null Count  Dtype  \n",
            "---  ------    --------------  -----  \n",
            " 0   currency  220 non-null    object \n",
            " 1   date      220 non-null    object \n",
            " 2   rate      220 non-null    float64\n",
            "dtypes: float64(1), object(2)\n",
            "memory usage: 5.3+ KB\n"
          ]
        }
      ],
      "source": [
        "df_cur.info()"
      ]
    },
    {
      "cell_type": "markdown",
      "id": "4b17b33f",
      "metadata": {
        "id": "4b17b33f"
      },
      "source": [
        "#### 1. How many rows in the sales dataset?"
      ]
    },
    {
      "cell_type": "code",
      "execution_count": null,
      "id": "e1021965",
      "metadata": {
        "id": "e1021965",
        "outputId": "235e8b6b-d3b8-4dba-f7bf-05aa5c8e9694"
      },
      "outputs": [
        {
          "data": {
            "text/plain": [
              "237671"
            ]
          },
          "execution_count": 13,
          "metadata": {},
          "output_type": "execute_result"
        }
      ],
      "source": [
        "df.shape[0]"
      ]
    },
    {
      "cell_type": "markdown",
      "id": "b8fb7319",
      "metadata": {
        "id": "b8fb7319"
      },
      "source": [
        "#### 2. How many columns in the sales dataset?"
      ]
    },
    {
      "cell_type": "code",
      "execution_count": null,
      "id": "db5c81a8",
      "metadata": {
        "id": "db5c81a8",
        "outputId": "0fb444d1-73fb-40eb-d7b3-cd3e892b813b"
      },
      "outputs": [
        {
          "data": {
            "text/plain": [
              "10"
            ]
          },
          "execution_count": 14,
          "metadata": {},
          "output_type": "execute_result"
        }
      ],
      "source": [
        "df.shape[1]"
      ]
    },
    {
      "cell_type": "markdown",
      "id": "026e5a92",
      "metadata": {
        "id": "026e5a92"
      },
      "source": [
        "#### 3. What is the total number of sellers?"
      ]
    },
    {
      "cell_type": "code",
      "execution_count": null,
      "id": "dd44b90f",
      "metadata": {
        "id": "dd44b90f",
        "outputId": "1e6f54b4-1f8e-41fe-b612-22add2e6664d"
      },
      "outputs": [
        {
          "data": {
            "text/plain": [
              "114227"
            ]
          },
          "execution_count": 17,
          "metadata": {},
          "output_type": "execute_result"
        }
      ],
      "source": [
        "len(df.seller_id.unique())"
      ]
    },
    {
      "cell_type": "code",
      "execution_count": null,
      "id": "f2ec509f",
      "metadata": {
        "id": "f2ec509f",
        "outputId": "aa6113a8-5c34-4feb-a4ea-59cf5508ff95"
      },
      "outputs": [
        {
          "data": {
            "text/plain": [
              "114227"
            ]
          },
          "execution_count": 20,
          "metadata": {},
          "output_type": "execute_result"
        }
      ],
      "source": [
        "df_sales.seller_id.nunique()"
      ]
    },
    {
      "cell_type": "markdown",
      "id": "c1e02be5",
      "metadata": {
        "id": "c1e02be5"
      },
      "source": [
        "#### 4. What is the total value of sales in EUR?"
      ]
    },
    {
      "cell_type": "code",
      "execution_count": null,
      "id": "ace4501c",
      "metadata": {
        "id": "ace4501c",
        "outputId": "3e5ded9a-1ff6-4f53-bb43-406a3ecb065c"
      },
      "outputs": [
        {
          "data": {
            "text/plain": [
              "275837.69"
            ]
          },
          "execution_count": 22,
          "metadata": {},
          "output_type": "execute_result"
        }
      ],
      "source": [
        "df[df[\"currency\"] == \"EUR\"][\"price\"].sum()"
      ]
    },
    {
      "cell_type": "code",
      "execution_count": null,
      "id": "860cdf2e",
      "metadata": {
        "id": "860cdf2e",
        "outputId": "a73125b3-cf59-4792-a31f-baf4cb016b7d"
      },
      "outputs": [
        {
          "data": {
            "text/html": [
              "<div>\n",
              "<style scoped>\n",
              "    .dataframe tbody tr th:only-of-type {\n",
              "        vertical-align: middle;\n",
              "    }\n",
              "\n",
              "    .dataframe tbody tr th {\n",
              "        vertical-align: top;\n",
              "    }\n",
              "\n",
              "    .dataframe thead th {\n",
              "        text-align: right;\n",
              "    }\n",
              "</style>\n",
              "<table border=\"1\" class=\"dataframe\">\n",
              "  <thead>\n",
              "    <tr style=\"text-align: right;\">\n",
              "      <th></th>\n",
              "      <th>buyer_id</th>\n",
              "      <th>buyer_country</th>\n",
              "      <th>seller_id</th>\n",
              "      <th>seller_country</th>\n",
              "      <th>product_code</th>\n",
              "      <th>category</th>\n",
              "      <th>brand</th>\n",
              "      <th>currency</th>\n",
              "      <th>price</th>\n",
              "      <th>date</th>\n",
              "    </tr>\n",
              "  </thead>\n",
              "  <tbody>\n",
              "    <tr>\n",
              "      <th>0</th>\n",
              "      <td>qzpjsi9t0o</td>\n",
              "      <td>GB</td>\n",
              "      <td>6oufpaot</td>\n",
              "      <td>GB</td>\n",
              "      <td>ydecnydr6obf</td>\n",
              "      <td>Dresses</td>\n",
              "      <td>NaN</td>\n",
              "      <td>GBP</td>\n",
              "      <td>19.11</td>\n",
              "      <td>2020-08-03</td>\n",
              "    </tr>\n",
              "    <tr>\n",
              "      <th>1</th>\n",
              "      <td>o79pns1qwo</td>\n",
              "      <td>GB</td>\n",
              "      <td>50xki2yg</td>\n",
              "      <td>GB</td>\n",
              "      <td>38chj507o6h2</td>\n",
              "      <td>Outerwear</td>\n",
              "      <td>Adidas Originals</td>\n",
              "      <td>GBP</td>\n",
              "      <td>15.92</td>\n",
              "      <td>2020-08-09</td>\n",
              "    </tr>\n",
              "    <tr>\n",
              "      <th>2</th>\n",
              "      <td>sjgbjdkhqx</td>\n",
              "      <td>GB</td>\n",
              "      <td>50xki2yg</td>\n",
              "      <td>GB</td>\n",
              "      <td>i9ynyxj5tdp8</td>\n",
              "      <td>Tops - Mens</td>\n",
              "      <td>NaN</td>\n",
              "      <td>GBP</td>\n",
              "      <td>6.37</td>\n",
              "      <td>2020-08-07</td>\n",
              "    </tr>\n",
              "    <tr>\n",
              "      <th>3</th>\n",
              "      <td>o79pns1qwo</td>\n",
              "      <td>GB</td>\n",
              "      <td>s0p322hh</td>\n",
              "      <td>GB</td>\n",
              "      <td>t50xe7moye8v</td>\n",
              "      <td>Tops - Mens</td>\n",
              "      <td>Berghaus</td>\n",
              "      <td>GBP</td>\n",
              "      <td>25.27</td>\n",
              "      <td>2020-08-09</td>\n",
              "    </tr>\n",
              "    <tr>\n",
              "      <th>4</th>\n",
              "      <td>o79pns1qwo</td>\n",
              "      <td>GB</td>\n",
              "      <td>dpkx192v</td>\n",
              "      <td>GB</td>\n",
              "      <td>hp4r9bjq68af</td>\n",
              "      <td>Bottoms - Womens</td>\n",
              "      <td>NaN</td>\n",
              "      <td>GBP</td>\n",
              "      <td>8.90</td>\n",
              "      <td>2020-08-09</td>\n",
              "    </tr>\n",
              "  </tbody>\n",
              "</table>\n",
              "</div>"
            ],
            "text/plain": [
              "     buyer_id buyer_country seller_id seller_country  ...             brand currency  price        date\n",
              "0  qzpjsi9t0o            GB  6oufpaot             GB  ...               NaN      GBP  19.11  2020-08-03\n",
              "1  o79pns1qwo            GB  50xki2yg             GB  ...  Adidas Originals      GBP  15.92  2020-08-09\n",
              "2  sjgbjdkhqx            GB  50xki2yg             GB  ...               NaN      GBP   6.37  2020-08-07\n",
              "3  o79pns1qwo            GB  s0p322hh             GB  ...          Berghaus      GBP  25.27  2020-08-09\n",
              "4  o79pns1qwo            GB  dpkx192v             GB  ...               NaN      GBP   8.90  2020-08-09\n",
              "\n",
              "[5 rows x 10 columns]"
            ]
          },
          "execution_count": 23,
          "metadata": {},
          "output_type": "execute_result"
        }
      ],
      "source": [
        "df.head()"
      ]
    },
    {
      "cell_type": "code",
      "execution_count": null,
      "id": "1c85c17c",
      "metadata": {
        "id": "1c85c17c",
        "outputId": "f1c903a7-f8f7-4970-be20-ffb4afd94532"
      },
      "outputs": [
        {
          "data": {
            "text/html": [
              "<div>\n",
              "<style scoped>\n",
              "    .dataframe tbody tr th:only-of-type {\n",
              "        vertical-align: middle;\n",
              "    }\n",
              "\n",
              "    .dataframe tbody tr th {\n",
              "        vertical-align: top;\n",
              "    }\n",
              "\n",
              "    .dataframe thead th {\n",
              "        text-align: right;\n",
              "    }\n",
              "</style>\n",
              "<table border=\"1\" class=\"dataframe\">\n",
              "  <thead>\n",
              "    <tr style=\"text-align: right;\">\n",
              "      <th></th>\n",
              "      <th>currency</th>\n",
              "      <th>date</th>\n",
              "      <th>rate</th>\n",
              "    </tr>\n",
              "  </thead>\n",
              "  <tbody>\n",
              "    <tr>\n",
              "      <th>88</th>\n",
              "      <td>SEK</td>\n",
              "      <td>8/9/2020</td>\n",
              "      <td>10.312200</td>\n",
              "    </tr>\n",
              "    <tr>\n",
              "      <th>162</th>\n",
              "      <td>SGD</td>\n",
              "      <td>8/3/2020</td>\n",
              "      <td>1.618670</td>\n",
              "    </tr>\n",
              "    <tr>\n",
              "      <th>92</th>\n",
              "      <td>DKK</td>\n",
              "      <td>8/3/2020</td>\n",
              "      <td>7.447050</td>\n",
              "    </tr>\n",
              "    <tr>\n",
              "      <th>182</th>\n",
              "      <td>TWD</td>\n",
              "      <td>8/3/2020</td>\n",
              "      <td>34.456300</td>\n",
              "    </tr>\n",
              "    <tr>\n",
              "      <th>170</th>\n",
              "      <td>MYR</td>\n",
              "      <td>8/1/2020</td>\n",
              "      <td>5.023700</td>\n",
              "    </tr>\n",
              "    <tr>\n",
              "      <th>186</th>\n",
              "      <td>TWD</td>\n",
              "      <td>8/7/2020</td>\n",
              "      <td>34.751800</td>\n",
              "    </tr>\n",
              "    <tr>\n",
              "      <th>202</th>\n",
              "      <td>CZK</td>\n",
              "      <td>8/3/2020</td>\n",
              "      <td>26.275500</td>\n",
              "    </tr>\n",
              "    <tr>\n",
              "      <th>24</th>\n",
              "      <td>USD</td>\n",
              "      <td>8/5/2020</td>\n",
              "      <td>1.187255</td>\n",
              "    </tr>\n",
              "    <tr>\n",
              "      <th>172</th>\n",
              "      <td>MYR</td>\n",
              "      <td>8/3/2020</td>\n",
              "      <td>4.949700</td>\n",
              "    </tr>\n",
              "    <tr>\n",
              "      <th>159</th>\n",
              "      <td>NOK</td>\n",
              "      <td>8/10/2020</td>\n",
              "      <td>10.609200</td>\n",
              "    </tr>\n",
              "  </tbody>\n",
              "</table>\n",
              "</div>"
            ],
            "text/plain": [
              "    currency       date       rate\n",
              "88       SEK   8/9/2020  10.312200\n",
              "162      SGD   8/3/2020   1.618670\n",
              "92       DKK   8/3/2020   7.447050\n",
              "182      TWD   8/3/2020  34.456300\n",
              "170      MYR   8/1/2020   5.023700\n",
              "186      TWD   8/7/2020  34.751800\n",
              "202      CZK   8/3/2020  26.275500\n",
              "24       USD   8/5/2020   1.187255\n",
              "172      MYR   8/3/2020   4.949700\n",
              "159      NOK  8/10/2020  10.609200"
            ]
          },
          "execution_count": 27,
          "metadata": {},
          "output_type": "execute_result"
        }
      ],
      "source": [
        "df_cur.sample(10)"
      ]
    },
    {
      "cell_type": "code",
      "execution_count": null,
      "id": "03880336",
      "metadata": {
        "id": "03880336",
        "outputId": "7d83de10-4276-4582-ab8f-2e2b4fc147d3"
      },
      "outputs": [
        {
          "data": {
            "application/javascript": [
              "\n",
              "        if (window._pyforest_update_imports_cell) { window._pyforest_update_imports_cell('import pandas as pd'); }\n",
              "    "
            ],
            "text/plain": [
              "<IPython.core.display.Javascript object>"
            ]
          },
          "metadata": {},
          "output_type": "display_data"
        },
        {
          "data": {
            "application/javascript": [
              "\n",
              "        if (window._pyforest_update_imports_cell) { window._pyforest_update_imports_cell('import pandas as pd'); }\n",
              "    "
            ],
            "text/plain": [
              "<IPython.core.display.Javascript object>"
            ]
          },
          "metadata": {},
          "output_type": "display_data"
        },
        {
          "data": {
            "application/javascript": [
              "\n",
              "        if (window._pyforest_update_imports_cell) { window._pyforest_update_imports_cell('import pandas as pd'); }\n",
              "    "
            ],
            "text/plain": [
              "<IPython.core.display.Javascript object>"
            ]
          },
          "metadata": {},
          "output_type": "display_data"
        }
      ],
      "source": [
        "df_cur[\"date\"] = pd.to_datetime(df_cur[\"date\"], format = \"%m/%d/%Y\")\n",
        "df[\"date\"] = pd.to_datetime(df[\"date\"], format = \"%Y-%m-%d\")\n",
        "merge_df = pd.merge(df, df_cur, on=[\"currency\",\"date\"])\n",
        "merge_df[\"EURprice\"] = merge_df[\"price\"]/merge_df[\"rate\"]"
      ]
    },
    {
      "cell_type": "code",
      "execution_count": null,
      "id": "c9efc6eb",
      "metadata": {
        "id": "c9efc6eb",
        "outputId": "2e09b962-6cb2-4756-bd45-4148fba98fda"
      },
      "outputs": [
        {
          "data": {
            "text/plain": [
              "6471511.0"
            ]
          },
          "execution_count": 38,
          "metadata": {},
          "output_type": "execute_result"
        }
      ],
      "source": [
        "merge_df.EURprice.sum().round()"
      ]
    },
    {
      "cell_type": "markdown",
      "id": "73e31530",
      "metadata": {
        "id": "73e31530"
      },
      "source": [
        "#### 5. Which brand has the highest number of purchases during the period?"
      ]
    },
    {
      "cell_type": "code",
      "execution_count": null,
      "id": "7e1de891",
      "metadata": {
        "id": "7e1de891",
        "outputId": "16aaf366-a149-4d01-8b3d-f8e3fa458a52"
      },
      "outputs": [
        {
          "data": {
            "text/html": [
              "<div>\n",
              "<style scoped>\n",
              "    .dataframe tbody tr th:only-of-type {\n",
              "        vertical-align: middle;\n",
              "    }\n",
              "\n",
              "    .dataframe tbody tr th {\n",
              "        vertical-align: top;\n",
              "    }\n",
              "\n",
              "    .dataframe thead th {\n",
              "        text-align: right;\n",
              "    }\n",
              "</style>\n",
              "<table border=\"1\" class=\"dataframe\">\n",
              "  <thead>\n",
              "    <tr style=\"text-align: right;\">\n",
              "      <th></th>\n",
              "      <th>buyer_id</th>\n",
              "      <th>buyer_country</th>\n",
              "      <th>seller_id</th>\n",
              "      <th>seller_country</th>\n",
              "      <th>product_code</th>\n",
              "      <th>category</th>\n",
              "      <th>brand</th>\n",
              "      <th>currency</th>\n",
              "      <th>price</th>\n",
              "      <th>date</th>\n",
              "    </tr>\n",
              "  </thead>\n",
              "  <tbody>\n",
              "    <tr>\n",
              "      <th>0</th>\n",
              "      <td>qzpjsi9t0o</td>\n",
              "      <td>GB</td>\n",
              "      <td>6oufpaot</td>\n",
              "      <td>GB</td>\n",
              "      <td>ydecnydr6obf</td>\n",
              "      <td>Dresses</td>\n",
              "      <td>NaN</td>\n",
              "      <td>GBP</td>\n",
              "      <td>19.11</td>\n",
              "      <td>2020-08-03</td>\n",
              "    </tr>\n",
              "    <tr>\n",
              "      <th>1</th>\n",
              "      <td>o79pns1qwo</td>\n",
              "      <td>GB</td>\n",
              "      <td>50xki2yg</td>\n",
              "      <td>GB</td>\n",
              "      <td>38chj507o6h2</td>\n",
              "      <td>Outerwear</td>\n",
              "      <td>Adidas Originals</td>\n",
              "      <td>GBP</td>\n",
              "      <td>15.92</td>\n",
              "      <td>2020-08-09</td>\n",
              "    </tr>\n",
              "    <tr>\n",
              "      <th>2</th>\n",
              "      <td>sjgbjdkhqx</td>\n",
              "      <td>GB</td>\n",
              "      <td>50xki2yg</td>\n",
              "      <td>GB</td>\n",
              "      <td>i9ynyxj5tdp8</td>\n",
              "      <td>Tops - Mens</td>\n",
              "      <td>NaN</td>\n",
              "      <td>GBP</td>\n",
              "      <td>6.37</td>\n",
              "      <td>2020-08-07</td>\n",
              "    </tr>\n",
              "    <tr>\n",
              "      <th>3</th>\n",
              "      <td>o79pns1qwo</td>\n",
              "      <td>GB</td>\n",
              "      <td>s0p322hh</td>\n",
              "      <td>GB</td>\n",
              "      <td>t50xe7moye8v</td>\n",
              "      <td>Tops - Mens</td>\n",
              "      <td>Berghaus</td>\n",
              "      <td>GBP</td>\n",
              "      <td>25.27</td>\n",
              "      <td>2020-08-09</td>\n",
              "    </tr>\n",
              "    <tr>\n",
              "      <th>4</th>\n",
              "      <td>o79pns1qwo</td>\n",
              "      <td>GB</td>\n",
              "      <td>dpkx192v</td>\n",
              "      <td>GB</td>\n",
              "      <td>hp4r9bjq68af</td>\n",
              "      <td>Bottoms - Womens</td>\n",
              "      <td>NaN</td>\n",
              "      <td>GBP</td>\n",
              "      <td>8.90</td>\n",
              "      <td>2020-08-09</td>\n",
              "    </tr>\n",
              "    <tr>\n",
              "      <th>...</th>\n",
              "      <td>...</td>\n",
              "      <td>...</td>\n",
              "      <td>...</td>\n",
              "      <td>...</td>\n",
              "      <td>...</td>\n",
              "      <td>...</td>\n",
              "      <td>...</td>\n",
              "      <td>...</td>\n",
              "      <td>...</td>\n",
              "      <td>...</td>\n",
              "    </tr>\n",
              "    <tr>\n",
              "      <th>237666</th>\n",
              "      <td>p7ibf7soot</td>\n",
              "      <td>GB</td>\n",
              "      <td>ss7jy9ks</td>\n",
              "      <td>GB</td>\n",
              "      <td>hzc7pmjxmsb6</td>\n",
              "      <td>Bottoms - Womens</td>\n",
              "      <td>NaN</td>\n",
              "      <td>GBP</td>\n",
              "      <td>17.11</td>\n",
              "      <td>2020-08-06</td>\n",
              "    </tr>\n",
              "    <tr>\n",
              "      <th>237667</th>\n",
              "      <td>2hg8zirueq</td>\n",
              "      <td>US</td>\n",
              "      <td>bk6apusi</td>\n",
              "      <td>US</td>\n",
              "      <td>fskn84lfyrvz</td>\n",
              "      <td>Home</td>\n",
              "      <td>NaN</td>\n",
              "      <td>USD</td>\n",
              "      <td>69.00</td>\n",
              "      <td>2020-08-05</td>\n",
              "    </tr>\n",
              "    <tr>\n",
              "      <th>237668</th>\n",
              "      <td>k5hmcfxcs6</td>\n",
              "      <td>GB</td>\n",
              "      <td>n2ez0xph</td>\n",
              "      <td>GB</td>\n",
              "      <td>5afe7yhdpcmz</td>\n",
              "      <td>Other</td>\n",
              "      <td>NaN</td>\n",
              "      <td>GBP</td>\n",
              "      <td>58.28</td>\n",
              "      <td>2020-08-05</td>\n",
              "    </tr>\n",
              "    <tr>\n",
              "      <th>237669</th>\n",
              "      <td>ca8nc8qv1x</td>\n",
              "      <td>GB</td>\n",
              "      <td>j1s4nqxb</td>\n",
              "      <td>GB</td>\n",
              "      <td>ktdrjbrq0fo2</td>\n",
              "      <td>Shoes</td>\n",
              "      <td>NaN</td>\n",
              "      <td>GBP</td>\n",
              "      <td>9.46</td>\n",
              "      <td>2020-08-05</td>\n",
              "    </tr>\n",
              "    <tr>\n",
              "      <th>237670</th>\n",
              "      <td>z09h7w9zcd</td>\n",
              "      <td>US</td>\n",
              "      <td>0au7baxi</td>\n",
              "      <td>US</td>\n",
              "      <td>0r1qni2g1zi4</td>\n",
              "      <td>Other</td>\n",
              "      <td>NaN</td>\n",
              "      <td>USD</td>\n",
              "      <td>160.76</td>\n",
              "      <td>2020-08-06</td>\n",
              "    </tr>\n",
              "  </tbody>\n",
              "</table>\n",
              "<p>237671 rows × 10 columns</p>\n",
              "</div>"
            ],
            "text/plain": [
              "          buyer_id buyer_country seller_id seller_country  ...             brand currency   price       date\n",
              "0       qzpjsi9t0o            GB  6oufpaot             GB  ...               NaN      GBP   19.11 2020-08-03\n",
              "1       o79pns1qwo            GB  50xki2yg             GB  ...  Adidas Originals      GBP   15.92 2020-08-09\n",
              "2       sjgbjdkhqx            GB  50xki2yg             GB  ...               NaN      GBP    6.37 2020-08-07\n",
              "3       o79pns1qwo            GB  s0p322hh             GB  ...          Berghaus      GBP   25.27 2020-08-09\n",
              "4       o79pns1qwo            GB  dpkx192v             GB  ...               NaN      GBP    8.90 2020-08-09\n",
              "...            ...           ...       ...            ...  ...               ...      ...     ...        ...\n",
              "237666  p7ibf7soot            GB  ss7jy9ks             GB  ...               NaN      GBP   17.11 2020-08-06\n",
              "237667  2hg8zirueq            US  bk6apusi             US  ...               NaN      USD   69.00 2020-08-05\n",
              "237668  k5hmcfxcs6            GB  n2ez0xph             GB  ...               NaN      GBP   58.28 2020-08-05\n",
              "237669  ca8nc8qv1x            GB  j1s4nqxb             GB  ...               NaN      GBP    9.46 2020-08-05\n",
              "237670  z09h7w9zcd            US  0au7baxi             US  ...               NaN      USD  160.76 2020-08-06\n",
              "\n",
              "[237671 rows x 10 columns]"
            ]
          },
          "execution_count": 45,
          "metadata": {},
          "output_type": "execute_result"
        }
      ],
      "source": [
        "df"
      ]
    },
    {
      "cell_type": "code",
      "execution_count": null,
      "id": "fc79de18",
      "metadata": {
        "id": "fc79de18",
        "outputId": "7be33470-1a5d-463b-c509-8041bf670e08"
      },
      "outputs": [
        {
          "data": {
            "text/plain": [
              "Nike    9575\n",
              "Name: brand, dtype: int64"
            ]
          },
          "execution_count": 46,
          "metadata": {},
          "output_type": "execute_result"
        }
      ],
      "source": [
        "merge_df.brand.value_counts().head(1)"
      ]
    },
    {
      "cell_type": "code",
      "execution_count": null,
      "id": "b96043bf",
      "metadata": {
        "id": "b96043bf",
        "outputId": "acf98c5c-5dca-4e8a-9cbd-5aba64b73ba3"
      },
      "outputs": [
        {
          "data": {
            "text/plain": [
              "385022.4140668997"
            ]
          },
          "execution_count": 47,
          "metadata": {},
          "output_type": "execute_result"
        }
      ],
      "source": [
        "merge_df[merge_df[\"brand\"]== \"Nike\"][\"EURprice\"].sum()"
      ]
    },
    {
      "cell_type": "code",
      "execution_count": null,
      "id": "e6be8bf6",
      "metadata": {
        "id": "e6be8bf6",
        "outputId": "10b57c34-eea4-4dd9-d069-12fbdd30c254"
      },
      "outputs": [
        {
          "data": {
            "text/plain": [
              "brand\n",
              "Nike                385022.414067\n",
              "Adidas              114211.542782\n",
              "American Vintage     89939.908652\n",
              "Brandy Melville      87735.664806\n",
              "Dr. Martens          81491.623673\n",
              "Name: EURprice, dtype: float64"
            ]
          },
          "execution_count": 50,
          "metadata": {},
          "output_type": "execute_result"
        }
      ],
      "source": [
        "merge_df.groupby(\"brand\")[\"EURprice\"].sum().sort_values(ascending = False).head()"
      ]
    },
    {
      "cell_type": "markdown",
      "id": "2d8eb54f",
      "metadata": {
        "id": "2d8eb54f"
      },
      "source": [
        "#### 6. How many items in the “Jewellery” category have no brand associated with them?"
      ]
    },
    {
      "cell_type": "code",
      "execution_count": null,
      "id": "dbf216e3",
      "metadata": {
        "id": "dbf216e3",
        "outputId": "5adc88f5-5c6a-46e8-cf62-a36ade0837df"
      },
      "outputs": [
        {
          "data": {
            "text/plain": [
              "10931"
            ]
          },
          "execution_count": 53,
          "metadata": {},
          "output_type": "execute_result"
        }
      ],
      "source": [
        "df[(df.category ==\"Jewellery\") & (df.brand.isnull())].product_code.nunique()"
      ]
    },
    {
      "cell_type": "code",
      "execution_count": null,
      "id": "a2aa466c",
      "metadata": {
        "id": "a2aa466c",
        "outputId": "bc54e187-e2b1-4d17-8930-99319828b674"
      },
      "outputs": [
        {
          "data": {
            "text/html": [
              "<div>\n",
              "<style scoped>\n",
              "    .dataframe tbody tr th:only-of-type {\n",
              "        vertical-align: middle;\n",
              "    }\n",
              "\n",
              "    .dataframe tbody tr th {\n",
              "        vertical-align: top;\n",
              "    }\n",
              "\n",
              "    .dataframe thead th {\n",
              "        text-align: right;\n",
              "    }\n",
              "</style>\n",
              "<table border=\"1\" class=\"dataframe\">\n",
              "  <thead>\n",
              "    <tr style=\"text-align: right;\">\n",
              "      <th></th>\n",
              "      <th>buyer_id</th>\n",
              "      <th>buyer_country</th>\n",
              "      <th>seller_id</th>\n",
              "      <th>seller_country</th>\n",
              "      <th>product_code</th>\n",
              "      <th>category</th>\n",
              "      <th>brand</th>\n",
              "      <th>currency</th>\n",
              "      <th>price</th>\n",
              "      <th>date</th>\n",
              "    </tr>\n",
              "  </thead>\n",
              "  <tbody>\n",
              "    <tr>\n",
              "      <th>0</th>\n",
              "      <td>qzpjsi9t0o</td>\n",
              "      <td>GB</td>\n",
              "      <td>6oufpaot</td>\n",
              "      <td>GB</td>\n",
              "      <td>ydecnydr6obf</td>\n",
              "      <td>Dresses</td>\n",
              "      <td>NaN</td>\n",
              "      <td>GBP</td>\n",
              "      <td>19.11</td>\n",
              "      <td>2020-08-03</td>\n",
              "    </tr>\n",
              "    <tr>\n",
              "      <th>1</th>\n",
              "      <td>o79pns1qwo</td>\n",
              "      <td>GB</td>\n",
              "      <td>50xki2yg</td>\n",
              "      <td>GB</td>\n",
              "      <td>38chj507o6h2</td>\n",
              "      <td>Outerwear</td>\n",
              "      <td>Adidas Originals</td>\n",
              "      <td>GBP</td>\n",
              "      <td>15.92</td>\n",
              "      <td>2020-08-09</td>\n",
              "    </tr>\n",
              "    <tr>\n",
              "      <th>2</th>\n",
              "      <td>sjgbjdkhqx</td>\n",
              "      <td>GB</td>\n",
              "      <td>50xki2yg</td>\n",
              "      <td>GB</td>\n",
              "      <td>i9ynyxj5tdp8</td>\n",
              "      <td>Tops - Mens</td>\n",
              "      <td>NaN</td>\n",
              "      <td>GBP</td>\n",
              "      <td>6.37</td>\n",
              "      <td>2020-08-07</td>\n",
              "    </tr>\n",
              "    <tr>\n",
              "      <th>3</th>\n",
              "      <td>o79pns1qwo</td>\n",
              "      <td>GB</td>\n",
              "      <td>s0p322hh</td>\n",
              "      <td>GB</td>\n",
              "      <td>t50xe7moye8v</td>\n",
              "      <td>Tops - Mens</td>\n",
              "      <td>Berghaus</td>\n",
              "      <td>GBP</td>\n",
              "      <td>25.27</td>\n",
              "      <td>2020-08-09</td>\n",
              "    </tr>\n",
              "    <tr>\n",
              "      <th>4</th>\n",
              "      <td>o79pns1qwo</td>\n",
              "      <td>GB</td>\n",
              "      <td>dpkx192v</td>\n",
              "      <td>GB</td>\n",
              "      <td>hp4r9bjq68af</td>\n",
              "      <td>Bottoms - Womens</td>\n",
              "      <td>NaN</td>\n",
              "      <td>GBP</td>\n",
              "      <td>8.90</td>\n",
              "      <td>2020-08-09</td>\n",
              "    </tr>\n",
              "    <tr>\n",
              "      <th>...</th>\n",
              "      <td>...</td>\n",
              "      <td>...</td>\n",
              "      <td>...</td>\n",
              "      <td>...</td>\n",
              "      <td>...</td>\n",
              "      <td>...</td>\n",
              "      <td>...</td>\n",
              "      <td>...</td>\n",
              "      <td>...</td>\n",
              "      <td>...</td>\n",
              "    </tr>\n",
              "    <tr>\n",
              "      <th>237666</th>\n",
              "      <td>p7ibf7soot</td>\n",
              "      <td>GB</td>\n",
              "      <td>ss7jy9ks</td>\n",
              "      <td>GB</td>\n",
              "      <td>hzc7pmjxmsb6</td>\n",
              "      <td>Bottoms - Womens</td>\n",
              "      <td>NaN</td>\n",
              "      <td>GBP</td>\n",
              "      <td>17.11</td>\n",
              "      <td>2020-08-06</td>\n",
              "    </tr>\n",
              "    <tr>\n",
              "      <th>237667</th>\n",
              "      <td>2hg8zirueq</td>\n",
              "      <td>US</td>\n",
              "      <td>bk6apusi</td>\n",
              "      <td>US</td>\n",
              "      <td>fskn84lfyrvz</td>\n",
              "      <td>Home</td>\n",
              "      <td>NaN</td>\n",
              "      <td>USD</td>\n",
              "      <td>69.00</td>\n",
              "      <td>2020-08-05</td>\n",
              "    </tr>\n",
              "    <tr>\n",
              "      <th>237668</th>\n",
              "      <td>k5hmcfxcs6</td>\n",
              "      <td>GB</td>\n",
              "      <td>n2ez0xph</td>\n",
              "      <td>GB</td>\n",
              "      <td>5afe7yhdpcmz</td>\n",
              "      <td>Other</td>\n",
              "      <td>NaN</td>\n",
              "      <td>GBP</td>\n",
              "      <td>58.28</td>\n",
              "      <td>2020-08-05</td>\n",
              "    </tr>\n",
              "    <tr>\n",
              "      <th>237669</th>\n",
              "      <td>ca8nc8qv1x</td>\n",
              "      <td>GB</td>\n",
              "      <td>j1s4nqxb</td>\n",
              "      <td>GB</td>\n",
              "      <td>ktdrjbrq0fo2</td>\n",
              "      <td>Shoes</td>\n",
              "      <td>NaN</td>\n",
              "      <td>GBP</td>\n",
              "      <td>9.46</td>\n",
              "      <td>2020-08-05</td>\n",
              "    </tr>\n",
              "    <tr>\n",
              "      <th>237670</th>\n",
              "      <td>z09h7w9zcd</td>\n",
              "      <td>US</td>\n",
              "      <td>0au7baxi</td>\n",
              "      <td>US</td>\n",
              "      <td>0r1qni2g1zi4</td>\n",
              "      <td>Other</td>\n",
              "      <td>NaN</td>\n",
              "      <td>USD</td>\n",
              "      <td>160.76</td>\n",
              "      <td>2020-08-06</td>\n",
              "    </tr>\n",
              "  </tbody>\n",
              "</table>\n",
              "<p>237671 rows × 10 columns</p>\n",
              "</div>"
            ],
            "text/plain": [
              "          buyer_id buyer_country seller_id seller_country  ...             brand currency   price       date\n",
              "0       qzpjsi9t0o            GB  6oufpaot             GB  ...               NaN      GBP   19.11 2020-08-03\n",
              "1       o79pns1qwo            GB  50xki2yg             GB  ...  Adidas Originals      GBP   15.92 2020-08-09\n",
              "2       sjgbjdkhqx            GB  50xki2yg             GB  ...               NaN      GBP    6.37 2020-08-07\n",
              "3       o79pns1qwo            GB  s0p322hh             GB  ...          Berghaus      GBP   25.27 2020-08-09\n",
              "4       o79pns1qwo            GB  dpkx192v             GB  ...               NaN      GBP    8.90 2020-08-09\n",
              "...            ...           ...       ...            ...  ...               ...      ...     ...        ...\n",
              "237666  p7ibf7soot            GB  ss7jy9ks             GB  ...               NaN      GBP   17.11 2020-08-06\n",
              "237667  2hg8zirueq            US  bk6apusi             US  ...               NaN      USD   69.00 2020-08-05\n",
              "237668  k5hmcfxcs6            GB  n2ez0xph             GB  ...               NaN      GBP   58.28 2020-08-05\n",
              "237669  ca8nc8qv1x            GB  j1s4nqxb             GB  ...               NaN      GBP    9.46 2020-08-05\n",
              "237670  z09h7w9zcd            US  0au7baxi             US  ...               NaN      USD  160.76 2020-08-06\n",
              "\n",
              "[237671 rows x 10 columns]"
            ]
          },
          "execution_count": 54,
          "metadata": {},
          "output_type": "execute_result"
        }
      ],
      "source": [
        "df"
      ]
    },
    {
      "cell_type": "markdown",
      "id": "d627d283",
      "metadata": {
        "id": "d627d283"
      },
      "source": [
        "#### 7. How many brands have between 35 and 55 transactions (inclusive)?"
      ]
    },
    {
      "cell_type": "code",
      "execution_count": null,
      "id": "20cbea3b",
      "metadata": {
        "id": "20cbea3b",
        "outputId": "25323eb3-4eef-4188-ff74-0394e44c8744"
      },
      "outputs": [
        {
          "data": {
            "text/plain": [
              "81"
            ]
          },
          "execution_count": 61,
          "metadata": {},
          "output_type": "execute_result"
        }
      ],
      "source": [
        "(df.brand.value_counts()>34).sum() - (df.brand.value_counts()>55).sum()"
      ]
    },
    {
      "cell_type": "markdown",
      "id": "6f870f7f",
      "metadata": {
        "id": "6f870f7f"
      },
      "source": [
        "#### 8. How many pairs of shoes were purchased by Australian (AU) buyers?"
      ]
    },
    {
      "cell_type": "code",
      "execution_count": null,
      "id": "87910e6d",
      "metadata": {
        "id": "87910e6d",
        "outputId": "e761602c-4a0c-44c0-a353-0132efc9e797"
      },
      "outputs": [
        {
          "data": {
            "text/html": [
              "<div>\n",
              "<style scoped>\n",
              "    .dataframe tbody tr th:only-of-type {\n",
              "        vertical-align: middle;\n",
              "    }\n",
              "\n",
              "    .dataframe tbody tr th {\n",
              "        vertical-align: top;\n",
              "    }\n",
              "\n",
              "    .dataframe thead th {\n",
              "        text-align: right;\n",
              "    }\n",
              "</style>\n",
              "<table border=\"1\" class=\"dataframe\">\n",
              "  <thead>\n",
              "    <tr style=\"text-align: right;\">\n",
              "      <th></th>\n",
              "      <th>buyer_id</th>\n",
              "      <th>buyer_country</th>\n",
              "      <th>seller_id</th>\n",
              "      <th>seller_country</th>\n",
              "      <th>product_code</th>\n",
              "      <th>category</th>\n",
              "      <th>brand</th>\n",
              "      <th>currency</th>\n",
              "      <th>price</th>\n",
              "      <th>date</th>\n",
              "    </tr>\n",
              "  </thead>\n",
              "  <tbody>\n",
              "    <tr>\n",
              "      <th>0</th>\n",
              "      <td>qzpjsi9t0o</td>\n",
              "      <td>GB</td>\n",
              "      <td>6oufpaot</td>\n",
              "      <td>GB</td>\n",
              "      <td>ydecnydr6obf</td>\n",
              "      <td>Dresses</td>\n",
              "      <td>NaN</td>\n",
              "      <td>GBP</td>\n",
              "      <td>19.11</td>\n",
              "      <td>2020-08-03</td>\n",
              "    </tr>\n",
              "    <tr>\n",
              "      <th>1</th>\n",
              "      <td>o79pns1qwo</td>\n",
              "      <td>GB</td>\n",
              "      <td>50xki2yg</td>\n",
              "      <td>GB</td>\n",
              "      <td>38chj507o6h2</td>\n",
              "      <td>Outerwear</td>\n",
              "      <td>Adidas Originals</td>\n",
              "      <td>GBP</td>\n",
              "      <td>15.92</td>\n",
              "      <td>2020-08-09</td>\n",
              "    </tr>\n",
              "    <tr>\n",
              "      <th>2</th>\n",
              "      <td>sjgbjdkhqx</td>\n",
              "      <td>GB</td>\n",
              "      <td>50xki2yg</td>\n",
              "      <td>GB</td>\n",
              "      <td>i9ynyxj5tdp8</td>\n",
              "      <td>Tops - Mens</td>\n",
              "      <td>NaN</td>\n",
              "      <td>GBP</td>\n",
              "      <td>6.37</td>\n",
              "      <td>2020-08-07</td>\n",
              "    </tr>\n",
              "    <tr>\n",
              "      <th>3</th>\n",
              "      <td>o79pns1qwo</td>\n",
              "      <td>GB</td>\n",
              "      <td>s0p322hh</td>\n",
              "      <td>GB</td>\n",
              "      <td>t50xe7moye8v</td>\n",
              "      <td>Tops - Mens</td>\n",
              "      <td>Berghaus</td>\n",
              "      <td>GBP</td>\n",
              "      <td>25.27</td>\n",
              "      <td>2020-08-09</td>\n",
              "    </tr>\n",
              "    <tr>\n",
              "      <th>4</th>\n",
              "      <td>o79pns1qwo</td>\n",
              "      <td>GB</td>\n",
              "      <td>dpkx192v</td>\n",
              "      <td>GB</td>\n",
              "      <td>hp4r9bjq68af</td>\n",
              "      <td>Bottoms - Womens</td>\n",
              "      <td>NaN</td>\n",
              "      <td>GBP</td>\n",
              "      <td>8.90</td>\n",
              "      <td>2020-08-09</td>\n",
              "    </tr>\n",
              "    <tr>\n",
              "      <th>...</th>\n",
              "      <td>...</td>\n",
              "      <td>...</td>\n",
              "      <td>...</td>\n",
              "      <td>...</td>\n",
              "      <td>...</td>\n",
              "      <td>...</td>\n",
              "      <td>...</td>\n",
              "      <td>...</td>\n",
              "      <td>...</td>\n",
              "      <td>...</td>\n",
              "    </tr>\n",
              "    <tr>\n",
              "      <th>237666</th>\n",
              "      <td>p7ibf7soot</td>\n",
              "      <td>GB</td>\n",
              "      <td>ss7jy9ks</td>\n",
              "      <td>GB</td>\n",
              "      <td>hzc7pmjxmsb6</td>\n",
              "      <td>Bottoms - Womens</td>\n",
              "      <td>NaN</td>\n",
              "      <td>GBP</td>\n",
              "      <td>17.11</td>\n",
              "      <td>2020-08-06</td>\n",
              "    </tr>\n",
              "    <tr>\n",
              "      <th>237667</th>\n",
              "      <td>2hg8zirueq</td>\n",
              "      <td>US</td>\n",
              "      <td>bk6apusi</td>\n",
              "      <td>US</td>\n",
              "      <td>fskn84lfyrvz</td>\n",
              "      <td>Home</td>\n",
              "      <td>NaN</td>\n",
              "      <td>USD</td>\n",
              "      <td>69.00</td>\n",
              "      <td>2020-08-05</td>\n",
              "    </tr>\n",
              "    <tr>\n",
              "      <th>237668</th>\n",
              "      <td>k5hmcfxcs6</td>\n",
              "      <td>GB</td>\n",
              "      <td>n2ez0xph</td>\n",
              "      <td>GB</td>\n",
              "      <td>5afe7yhdpcmz</td>\n",
              "      <td>Other</td>\n",
              "      <td>NaN</td>\n",
              "      <td>GBP</td>\n",
              "      <td>58.28</td>\n",
              "      <td>2020-08-05</td>\n",
              "    </tr>\n",
              "    <tr>\n",
              "      <th>237669</th>\n",
              "      <td>ca8nc8qv1x</td>\n",
              "      <td>GB</td>\n",
              "      <td>j1s4nqxb</td>\n",
              "      <td>GB</td>\n",
              "      <td>ktdrjbrq0fo2</td>\n",
              "      <td>Shoes</td>\n",
              "      <td>NaN</td>\n",
              "      <td>GBP</td>\n",
              "      <td>9.46</td>\n",
              "      <td>2020-08-05</td>\n",
              "    </tr>\n",
              "    <tr>\n",
              "      <th>237670</th>\n",
              "      <td>z09h7w9zcd</td>\n",
              "      <td>US</td>\n",
              "      <td>0au7baxi</td>\n",
              "      <td>US</td>\n",
              "      <td>0r1qni2g1zi4</td>\n",
              "      <td>Other</td>\n",
              "      <td>NaN</td>\n",
              "      <td>USD</td>\n",
              "      <td>160.76</td>\n",
              "      <td>2020-08-06</td>\n",
              "    </tr>\n",
              "  </tbody>\n",
              "</table>\n",
              "<p>237671 rows × 10 columns</p>\n",
              "</div>"
            ],
            "text/plain": [
              "          buyer_id buyer_country seller_id seller_country  ...             brand currency   price       date\n",
              "0       qzpjsi9t0o            GB  6oufpaot             GB  ...               NaN      GBP   19.11 2020-08-03\n",
              "1       o79pns1qwo            GB  50xki2yg             GB  ...  Adidas Originals      GBP   15.92 2020-08-09\n",
              "2       sjgbjdkhqx            GB  50xki2yg             GB  ...               NaN      GBP    6.37 2020-08-07\n",
              "3       o79pns1qwo            GB  s0p322hh             GB  ...          Berghaus      GBP   25.27 2020-08-09\n",
              "4       o79pns1qwo            GB  dpkx192v             GB  ...               NaN      GBP    8.90 2020-08-09\n",
              "...            ...           ...       ...            ...  ...               ...      ...     ...        ...\n",
              "237666  p7ibf7soot            GB  ss7jy9ks             GB  ...               NaN      GBP   17.11 2020-08-06\n",
              "237667  2hg8zirueq            US  bk6apusi             US  ...               NaN      USD   69.00 2020-08-05\n",
              "237668  k5hmcfxcs6            GB  n2ez0xph             GB  ...               NaN      GBP   58.28 2020-08-05\n",
              "237669  ca8nc8qv1x            GB  j1s4nqxb             GB  ...               NaN      GBP    9.46 2020-08-05\n",
              "237670  z09h7w9zcd            US  0au7baxi             US  ...               NaN      USD  160.76 2020-08-06\n",
              "\n",
              "[237671 rows x 10 columns]"
            ]
          },
          "execution_count": 62,
          "metadata": {},
          "output_type": "execute_result"
        }
      ],
      "source": [
        "df"
      ]
    },
    {
      "cell_type": "code",
      "execution_count": null,
      "id": "ed39f5b3",
      "metadata": {
        "id": "ed39f5b3",
        "outputId": "84c889fb-e5a5-42a3-cbd9-c50e6a13eac0"
      },
      "outputs": [
        {
          "data": {
            "text/plain": [
              "658"
            ]
          },
          "execution_count": 64,
          "metadata": {},
          "output_type": "execute_result"
        }
      ],
      "source": [
        "len(df[(df.category == \"Shoes\") & (df.buyer_country == \"AU\")])"
      ]
    },
    {
      "cell_type": "markdown",
      "id": "76b99a43",
      "metadata": {
        "id": "76b99a43"
      },
      "source": [
        "#### 9. Which brand has the highest average transaction value?"
      ]
    },
    {
      "cell_type": "code",
      "execution_count": null,
      "id": "f8cf8828",
      "metadata": {
        "id": "f8cf8828",
        "outputId": "6e67d4ec-fc8d-4300-b055-6606f6cb280c"
      },
      "outputs": [
        {
          "data": {
            "text/plain": [
              "brand\n",
              "Goyard          338.926936\n",
              "Loewe           334.530369\n",
              "Craig Green     266.792684\n",
              "TAG Heuer       224.586782\n",
              "Emilio Pucci    214.758636\n",
              "Name: EURprice, dtype: float64"
            ]
          },
          "execution_count": 72,
          "metadata": {},
          "output_type": "execute_result"
        }
      ],
      "source": [
        "merge_df.groupby(\"brand\")[\"EURprice\"].mean().sort_values(ascending = False).head()"
      ]
    },
    {
      "cell_type": "markdown",
      "id": "0520327d",
      "metadata": {
        "id": "0520327d"
      },
      "source": [
        "#### 10. What is the total value of items purchased by GB buyers from GB sellers?"
      ]
    },
    {
      "cell_type": "code",
      "execution_count": null,
      "id": "6da85b4c",
      "metadata": {
        "id": "6da85b4c",
        "outputId": "9619030f-03dd-45f0-9d2b-6211bafc2b81"
      },
      "outputs": [
        {
          "data": {
            "text/plain": [
              "3526745.033129233"
            ]
          },
          "execution_count": 76,
          "metadata": {},
          "output_type": "execute_result"
        }
      ],
      "source": [
        "merge_df[(merge_df[\"buyer_country\"] == \"GB\") & (merge_df[\"seller_country\"] == \"GB\")][\"EURprice\"].sum()"
      ]
    },
    {
      "cell_type": "markdown",
      "id": "465adcb4",
      "metadata": {
        "id": "465adcb4"
      },
      "source": [
        "#### 11. What percentage of US sellers' transactions were purchased by US buyers?"
      ]
    },
    {
      "cell_type": "code",
      "execution_count": null,
      "id": "e8023ab9",
      "metadata": {
        "id": "e8023ab9",
        "outputId": "bf349cba-d669-4e3b-8d0c-5ff7d7f4227e"
      },
      "outputs": [
        {
          "data": {
            "text/plain": [
              "95.96922067159569"
            ]
          },
          "execution_count": 78,
          "metadata": {},
          "output_type": "execute_result"
        }
      ],
      "source": [
        "us_us = merge_df[(merge_df[\"buyer_country\"] == \"US\") & (merge_df[\"seller_country\"] == \"US\")][\"EURprice\"].sum()\n",
        "us_all= merge_df[merge_df[\"seller_country\"] == \"US\"][\"EURprice\"].sum()\n",
        "yuzde = (us_us / us_all)*100\n",
        "yuzde"
      ]
    },
    {
      "cell_type": "code",
      "execution_count": null,
      "id": "2b81b6d3",
      "metadata": {
        "id": "2b81b6d3",
        "outputId": "34ad24f5-4c5a-4d43-c48a-8ed9e290dbe7"
      },
      "outputs": [
        {
          "data": {
            "text/plain": [
              "US     0.982304\n",
              "CA     0.004762\n",
              "RoW    0.004652\n",
              "GB     0.003666\n",
              "AU     0.002789\n",
              "DE     0.000804\n",
              "FR     0.000548\n",
              "IE     0.000341\n",
              "IT     0.000134\n",
              "Name: buyer_country, dtype: float64"
            ]
          },
          "execution_count": 79,
          "metadata": {},
          "output_type": "execute_result"
        }
      ],
      "source": [
        "merge_df[df[\"seller_country\"]==\"US\"][\"buyer_country\"].value_counts(dropna=False,normalize=True)"
      ]
    },
    {
      "cell_type": "code",
      "execution_count": null,
      "id": "1b593bd2",
      "metadata": {
        "id": "1b593bd2",
        "outputId": "710556ac-81fe-4c35-ef8c-397102475107"
      },
      "outputs": [
        {
          "data": {
            "text/html": [
              "<div>\n",
              "<style scoped>\n",
              "    .dataframe tbody tr th:only-of-type {\n",
              "        vertical-align: middle;\n",
              "    }\n",
              "\n",
              "    .dataframe tbody tr th {\n",
              "        vertical-align: top;\n",
              "    }\n",
              "\n",
              "    .dataframe thead th {\n",
              "        text-align: right;\n",
              "    }\n",
              "</style>\n",
              "<table border=\"1\" class=\"dataframe\">\n",
              "  <thead>\n",
              "    <tr style=\"text-align: right;\">\n",
              "      <th></th>\n",
              "      <th>buyer_id</th>\n",
              "      <th>buyer_country</th>\n",
              "      <th>seller_id</th>\n",
              "      <th>seller_country</th>\n",
              "      <th>product_code</th>\n",
              "      <th>category</th>\n",
              "      <th>brand</th>\n",
              "      <th>currency</th>\n",
              "      <th>price</th>\n",
              "      <th>date</th>\n",
              "    </tr>\n",
              "  </thead>\n",
              "  <tbody>\n",
              "    <tr>\n",
              "      <th>0</th>\n",
              "      <td>qzpjsi9t0o</td>\n",
              "      <td>GB</td>\n",
              "      <td>6oufpaot</td>\n",
              "      <td>GB</td>\n",
              "      <td>ydecnydr6obf</td>\n",
              "      <td>Dresses</td>\n",
              "      <td>NaN</td>\n",
              "      <td>GBP</td>\n",
              "      <td>19.11</td>\n",
              "      <td>2020-08-03</td>\n",
              "    </tr>\n",
              "    <tr>\n",
              "      <th>1</th>\n",
              "      <td>o79pns1qwo</td>\n",
              "      <td>GB</td>\n",
              "      <td>50xki2yg</td>\n",
              "      <td>GB</td>\n",
              "      <td>38chj507o6h2</td>\n",
              "      <td>Outerwear</td>\n",
              "      <td>Adidas Originals</td>\n",
              "      <td>GBP</td>\n",
              "      <td>15.92</td>\n",
              "      <td>2020-08-09</td>\n",
              "    </tr>\n",
              "    <tr>\n",
              "      <th>2</th>\n",
              "      <td>sjgbjdkhqx</td>\n",
              "      <td>GB</td>\n",
              "      <td>50xki2yg</td>\n",
              "      <td>GB</td>\n",
              "      <td>i9ynyxj5tdp8</td>\n",
              "      <td>Tops - Mens</td>\n",
              "      <td>NaN</td>\n",
              "      <td>GBP</td>\n",
              "      <td>6.37</td>\n",
              "      <td>2020-08-07</td>\n",
              "    </tr>\n",
              "    <tr>\n",
              "      <th>3</th>\n",
              "      <td>o79pns1qwo</td>\n",
              "      <td>GB</td>\n",
              "      <td>s0p322hh</td>\n",
              "      <td>GB</td>\n",
              "      <td>t50xe7moye8v</td>\n",
              "      <td>Tops - Mens</td>\n",
              "      <td>Berghaus</td>\n",
              "      <td>GBP</td>\n",
              "      <td>25.27</td>\n",
              "      <td>2020-08-09</td>\n",
              "    </tr>\n",
              "    <tr>\n",
              "      <th>4</th>\n",
              "      <td>o79pns1qwo</td>\n",
              "      <td>GB</td>\n",
              "      <td>dpkx192v</td>\n",
              "      <td>GB</td>\n",
              "      <td>hp4r9bjq68af</td>\n",
              "      <td>Bottoms - Womens</td>\n",
              "      <td>NaN</td>\n",
              "      <td>GBP</td>\n",
              "      <td>8.90</td>\n",
              "      <td>2020-08-09</td>\n",
              "    </tr>\n",
              "    <tr>\n",
              "      <th>...</th>\n",
              "      <td>...</td>\n",
              "      <td>...</td>\n",
              "      <td>...</td>\n",
              "      <td>...</td>\n",
              "      <td>...</td>\n",
              "      <td>...</td>\n",
              "      <td>...</td>\n",
              "      <td>...</td>\n",
              "      <td>...</td>\n",
              "      <td>...</td>\n",
              "    </tr>\n",
              "    <tr>\n",
              "      <th>237666</th>\n",
              "      <td>p7ibf7soot</td>\n",
              "      <td>GB</td>\n",
              "      <td>ss7jy9ks</td>\n",
              "      <td>GB</td>\n",
              "      <td>hzc7pmjxmsb6</td>\n",
              "      <td>Bottoms - Womens</td>\n",
              "      <td>NaN</td>\n",
              "      <td>GBP</td>\n",
              "      <td>17.11</td>\n",
              "      <td>2020-08-06</td>\n",
              "    </tr>\n",
              "    <tr>\n",
              "      <th>237667</th>\n",
              "      <td>2hg8zirueq</td>\n",
              "      <td>US</td>\n",
              "      <td>bk6apusi</td>\n",
              "      <td>US</td>\n",
              "      <td>fskn84lfyrvz</td>\n",
              "      <td>Home</td>\n",
              "      <td>NaN</td>\n",
              "      <td>USD</td>\n",
              "      <td>69.00</td>\n",
              "      <td>2020-08-05</td>\n",
              "    </tr>\n",
              "    <tr>\n",
              "      <th>237668</th>\n",
              "      <td>k5hmcfxcs6</td>\n",
              "      <td>GB</td>\n",
              "      <td>n2ez0xph</td>\n",
              "      <td>GB</td>\n",
              "      <td>5afe7yhdpcmz</td>\n",
              "      <td>Other</td>\n",
              "      <td>NaN</td>\n",
              "      <td>GBP</td>\n",
              "      <td>58.28</td>\n",
              "      <td>2020-08-05</td>\n",
              "    </tr>\n",
              "    <tr>\n",
              "      <th>237669</th>\n",
              "      <td>ca8nc8qv1x</td>\n",
              "      <td>GB</td>\n",
              "      <td>j1s4nqxb</td>\n",
              "      <td>GB</td>\n",
              "      <td>ktdrjbrq0fo2</td>\n",
              "      <td>Shoes</td>\n",
              "      <td>NaN</td>\n",
              "      <td>GBP</td>\n",
              "      <td>9.46</td>\n",
              "      <td>2020-08-05</td>\n",
              "    </tr>\n",
              "    <tr>\n",
              "      <th>237670</th>\n",
              "      <td>z09h7w9zcd</td>\n",
              "      <td>US</td>\n",
              "      <td>0au7baxi</td>\n",
              "      <td>US</td>\n",
              "      <td>0r1qni2g1zi4</td>\n",
              "      <td>Other</td>\n",
              "      <td>NaN</td>\n",
              "      <td>USD</td>\n",
              "      <td>160.76</td>\n",
              "      <td>2020-08-06</td>\n",
              "    </tr>\n",
              "  </tbody>\n",
              "</table>\n",
              "<p>237671 rows × 10 columns</p>\n",
              "</div>"
            ],
            "text/plain": [
              "          buyer_id buyer_country seller_id seller_country  ...             brand currency   price       date\n",
              "0       qzpjsi9t0o            GB  6oufpaot             GB  ...               NaN      GBP   19.11 2020-08-03\n",
              "1       o79pns1qwo            GB  50xki2yg             GB  ...  Adidas Originals      GBP   15.92 2020-08-09\n",
              "2       sjgbjdkhqx            GB  50xki2yg             GB  ...               NaN      GBP    6.37 2020-08-07\n",
              "3       o79pns1qwo            GB  s0p322hh             GB  ...          Berghaus      GBP   25.27 2020-08-09\n",
              "4       o79pns1qwo            GB  dpkx192v             GB  ...               NaN      GBP    8.90 2020-08-09\n",
              "...            ...           ...       ...            ...  ...               ...      ...     ...        ...\n",
              "237666  p7ibf7soot            GB  ss7jy9ks             GB  ...               NaN      GBP   17.11 2020-08-06\n",
              "237667  2hg8zirueq            US  bk6apusi             US  ...               NaN      USD   69.00 2020-08-05\n",
              "237668  k5hmcfxcs6            GB  n2ez0xph             GB  ...               NaN      GBP   58.28 2020-08-05\n",
              "237669  ca8nc8qv1x            GB  j1s4nqxb             GB  ...               NaN      GBP    9.46 2020-08-05\n",
              "237670  z09h7w9zcd            US  0au7baxi             US  ...               NaN      USD  160.76 2020-08-06\n",
              "\n",
              "[237671 rows x 10 columns]"
            ]
          },
          "execution_count": 80,
          "metadata": {},
          "output_type": "execute_result"
        }
      ],
      "source": [
        "df"
      ]
    },
    {
      "cell_type": "code",
      "execution_count": null,
      "id": "e88cf484",
      "metadata": {
        "id": "e88cf484",
        "outputId": "88a5cab9-46bc-443b-8dbe-d339320f2052"
      },
      "outputs": [
        {
          "data": {
            "text/html": [
              "<div>\n",
              "<style scoped>\n",
              "    .dataframe tbody tr th:only-of-type {\n",
              "        vertical-align: middle;\n",
              "    }\n",
              "\n",
              "    .dataframe tbody tr th {\n",
              "        vertical-align: top;\n",
              "    }\n",
              "\n",
              "    .dataframe thead th {\n",
              "        text-align: right;\n",
              "    }\n",
              "</style>\n",
              "<table border=\"1\" class=\"dataframe\">\n",
              "  <thead>\n",
              "    <tr style=\"text-align: right;\">\n",
              "      <th></th>\n",
              "      <th>buyer_id</th>\n",
              "      <th>buyer_country</th>\n",
              "      <th>seller_id</th>\n",
              "      <th>seller_country</th>\n",
              "      <th>product_code</th>\n",
              "      <th>category</th>\n",
              "      <th>brand</th>\n",
              "      <th>currency</th>\n",
              "      <th>price</th>\n",
              "      <th>date</th>\n",
              "    </tr>\n",
              "  </thead>\n",
              "  <tbody>\n",
              "    <tr>\n",
              "      <th>0</th>\n",
              "      <td>qzpjsi9t0o</td>\n",
              "      <td>GB</td>\n",
              "      <td>6oufpaot</td>\n",
              "      <td>GB</td>\n",
              "      <td>ydecnydr6obf</td>\n",
              "      <td>Dresses</td>\n",
              "      <td>NaN</td>\n",
              "      <td>GBP</td>\n",
              "      <td>19.11</td>\n",
              "      <td>2020-08-03</td>\n",
              "    </tr>\n",
              "    <tr>\n",
              "      <th>94</th>\n",
              "      <td>mebpkmv8wu</td>\n",
              "      <td>GB</td>\n",
              "      <td>gmhjaphl</td>\n",
              "      <td>GB</td>\n",
              "      <td>ifcd9rqx8gfq</td>\n",
              "      <td>Dresses</td>\n",
              "      <td>Oh Polly</td>\n",
              "      <td>GBP</td>\n",
              "      <td>34.41</td>\n",
              "      <td>2020-08-05</td>\n",
              "    </tr>\n",
              "    <tr>\n",
              "      <th>99</th>\n",
              "      <td>5g8n4a5zht</td>\n",
              "      <td>GB</td>\n",
              "      <td>5a5i67ye</td>\n",
              "      <td>GB</td>\n",
              "      <td>l7yncrcc1l5p</td>\n",
              "      <td>Dresses</td>\n",
              "      <td>COS</td>\n",
              "      <td>GBP</td>\n",
              "      <td>30.57</td>\n",
              "      <td>2020-08-08</td>\n",
              "    </tr>\n",
              "    <tr>\n",
              "      <th>100</th>\n",
              "      <td>kfodrz4mon</td>\n",
              "      <td>GB</td>\n",
              "      <td>5a5i67ye</td>\n",
              "      <td>GB</td>\n",
              "      <td>zkk1mev638ee</td>\n",
              "      <td>Dresses</td>\n",
              "      <td>NaN</td>\n",
              "      <td>GBP</td>\n",
              "      <td>52.85</td>\n",
              "      <td>2020-08-09</td>\n",
              "    </tr>\n",
              "    <tr>\n",
              "      <th>101</th>\n",
              "      <td>zsllk5i2j7</td>\n",
              "      <td>GB</td>\n",
              "      <td>5a5i67ye</td>\n",
              "      <td>GB</td>\n",
              "      <td>snxe7jv1iho5</td>\n",
              "      <td>Dresses</td>\n",
              "      <td>Phase Eight</td>\n",
              "      <td>GBP</td>\n",
              "      <td>17.10</td>\n",
              "      <td>2020-08-05</td>\n",
              "    </tr>\n",
              "    <tr>\n",
              "      <th>...</th>\n",
              "      <td>...</td>\n",
              "      <td>...</td>\n",
              "      <td>...</td>\n",
              "      <td>...</td>\n",
              "      <td>...</td>\n",
              "      <td>...</td>\n",
              "      <td>...</td>\n",
              "      <td>...</td>\n",
              "      <td>...</td>\n",
              "      <td>...</td>\n",
              "    </tr>\n",
              "    <tr>\n",
              "      <th>237618</th>\n",
              "      <td>f48avv82m8</td>\n",
              "      <td>US</td>\n",
              "      <td>8pddvmac</td>\n",
              "      <td>US</td>\n",
              "      <td>dzut0jtp4rpd</td>\n",
              "      <td>Dresses</td>\n",
              "      <td>Disney</td>\n",
              "      <td>USD</td>\n",
              "      <td>21.15</td>\n",
              "      <td>2020-08-05</td>\n",
              "    </tr>\n",
              "    <tr>\n",
              "      <th>237640</th>\n",
              "      <td>grik173oqv</td>\n",
              "      <td>AU</td>\n",
              "      <td>ne06kqik</td>\n",
              "      <td>AU</td>\n",
              "      <td>0di422kgfkd7</td>\n",
              "      <td>Dresses</td>\n",
              "      <td>NaN</td>\n",
              "      <td>AUD</td>\n",
              "      <td>40.61</td>\n",
              "      <td>2020-08-05</td>\n",
              "    </tr>\n",
              "    <tr>\n",
              "      <th>237648</th>\n",
              "      <td>05ll13z5pg</td>\n",
              "      <td>US</td>\n",
              "      <td>ahrll085</td>\n",
              "      <td>US</td>\n",
              "      <td>ixq14b4r77n6</td>\n",
              "      <td>Dresses</td>\n",
              "      <td>NaN</td>\n",
              "      <td>USD</td>\n",
              "      <td>54.31</td>\n",
              "      <td>2020-08-06</td>\n",
              "    </tr>\n",
              "    <tr>\n",
              "      <th>237655</th>\n",
              "      <td>nm1xpzjn55</td>\n",
              "      <td>GB</td>\n",
              "      <td>19ql9irh</td>\n",
              "      <td>GB</td>\n",
              "      <td>sb8flhvz3m4e</td>\n",
              "      <td>Dresses</td>\n",
              "      <td>Oh Polly</td>\n",
              "      <td>GBP</td>\n",
              "      <td>16.97</td>\n",
              "      <td>2020-08-05</td>\n",
              "    </tr>\n",
              "    <tr>\n",
              "      <th>237664</th>\n",
              "      <td>pe7412k2er</td>\n",
              "      <td>AU</td>\n",
              "      <td>c61u1sje</td>\n",
              "      <td>AU</td>\n",
              "      <td>1gzeezxnpawh</td>\n",
              "      <td>Dresses</td>\n",
              "      <td>NaN</td>\n",
              "      <td>AUD</td>\n",
              "      <td>19.80</td>\n",
              "      <td>2020-08-05</td>\n",
              "    </tr>\n",
              "  </tbody>\n",
              "</table>\n",
              "<p>13018 rows × 10 columns</p>\n",
              "</div>"
            ],
            "text/plain": [
              "          buyer_id buyer_country seller_id seller_country  ...        brand currency  price       date\n",
              "0       qzpjsi9t0o            GB  6oufpaot             GB  ...          NaN      GBP  19.11 2020-08-03\n",
              "94      mebpkmv8wu            GB  gmhjaphl             GB  ...     Oh Polly      GBP  34.41 2020-08-05\n",
              "99      5g8n4a5zht            GB  5a5i67ye             GB  ...          COS      GBP  30.57 2020-08-08\n",
              "100     kfodrz4mon            GB  5a5i67ye             GB  ...          NaN      GBP  52.85 2020-08-09\n",
              "101     zsllk5i2j7            GB  5a5i67ye             GB  ...  Phase Eight      GBP  17.10 2020-08-05\n",
              "...            ...           ...       ...            ...  ...          ...      ...    ...        ...\n",
              "237618  f48avv82m8            US  8pddvmac             US  ...       Disney      USD  21.15 2020-08-05\n",
              "237640  grik173oqv            AU  ne06kqik             AU  ...          NaN      AUD  40.61 2020-08-05\n",
              "237648  05ll13z5pg            US  ahrll085             US  ...          NaN      USD  54.31 2020-08-06\n",
              "237655  nm1xpzjn55            GB  19ql9irh             GB  ...     Oh Polly      GBP  16.97 2020-08-05\n",
              "237664  pe7412k2er            AU  c61u1sje             AU  ...          NaN      AUD  19.80 2020-08-05\n",
              "\n",
              "[13018 rows x 10 columns]"
            ]
          },
          "execution_count": 83,
          "metadata": {},
          "output_type": "execute_result"
        }
      ],
      "source": [
        "df[(df.category== \"Dresses\") & (df.price>15)]"
      ]
    },
    {
      "cell_type": "code",
      "execution_count": null,
      "id": "9f366717",
      "metadata": {
        "id": "9f366717",
        "outputId": "460c578c-d794-46bb-f0e0-be33a99584a4"
      },
      "outputs": [
        {
          "data": {
            "text/html": [
              "<div>\n",
              "<style scoped>\n",
              "    .dataframe tbody tr th:only-of-type {\n",
              "        vertical-align: middle;\n",
              "    }\n",
              "\n",
              "    .dataframe tbody tr th {\n",
              "        vertical-align: top;\n",
              "    }\n",
              "\n",
              "    .dataframe thead th {\n",
              "        text-align: right;\n",
              "    }\n",
              "</style>\n",
              "<table border=\"1\" class=\"dataframe\">\n",
              "  <thead>\n",
              "    <tr style=\"text-align: right;\">\n",
              "      <th></th>\n",
              "      <th>buyer_id</th>\n",
              "      <th>buyer_country</th>\n",
              "      <th>seller_id</th>\n",
              "      <th>seller_country</th>\n",
              "      <th>product_code</th>\n",
              "      <th>category</th>\n",
              "      <th>brand</th>\n",
              "      <th>currency</th>\n",
              "      <th>price</th>\n",
              "      <th>date</th>\n",
              "    </tr>\n",
              "  </thead>\n",
              "  <tbody>\n",
              "    <tr>\n",
              "      <th>0</th>\n",
              "      <td>qzpjsi9t0o</td>\n",
              "      <td>GB</td>\n",
              "      <td>6oufpaot</td>\n",
              "      <td>GB</td>\n",
              "      <td>ydecnydr6obf</td>\n",
              "      <td>Dresses</td>\n",
              "      <td>NaN</td>\n",
              "      <td>GBP</td>\n",
              "      <td>19.11</td>\n",
              "      <td>2020-08-03</td>\n",
              "    </tr>\n",
              "    <tr>\n",
              "      <th>94</th>\n",
              "      <td>mebpkmv8wu</td>\n",
              "      <td>GB</td>\n",
              "      <td>gmhjaphl</td>\n",
              "      <td>GB</td>\n",
              "      <td>ifcd9rqx8gfq</td>\n",
              "      <td>Dresses</td>\n",
              "      <td>Oh Polly</td>\n",
              "      <td>GBP</td>\n",
              "      <td>34.41</td>\n",
              "      <td>2020-08-05</td>\n",
              "    </tr>\n",
              "    <tr>\n",
              "      <th>99</th>\n",
              "      <td>5g8n4a5zht</td>\n",
              "      <td>GB</td>\n",
              "      <td>5a5i67ye</td>\n",
              "      <td>GB</td>\n",
              "      <td>l7yncrcc1l5p</td>\n",
              "      <td>Dresses</td>\n",
              "      <td>COS</td>\n",
              "      <td>GBP</td>\n",
              "      <td>30.57</td>\n",
              "      <td>2020-08-08</td>\n",
              "    </tr>\n",
              "    <tr>\n",
              "      <th>100</th>\n",
              "      <td>kfodrz4mon</td>\n",
              "      <td>GB</td>\n",
              "      <td>5a5i67ye</td>\n",
              "      <td>GB</td>\n",
              "      <td>zkk1mev638ee</td>\n",
              "      <td>Dresses</td>\n",
              "      <td>NaN</td>\n",
              "      <td>GBP</td>\n",
              "      <td>52.85</td>\n",
              "      <td>2020-08-09</td>\n",
              "    </tr>\n",
              "    <tr>\n",
              "      <th>101</th>\n",
              "      <td>zsllk5i2j7</td>\n",
              "      <td>GB</td>\n",
              "      <td>5a5i67ye</td>\n",
              "      <td>GB</td>\n",
              "      <td>snxe7jv1iho5</td>\n",
              "      <td>Dresses</td>\n",
              "      <td>Phase Eight</td>\n",
              "      <td>GBP</td>\n",
              "      <td>17.10</td>\n",
              "      <td>2020-08-05</td>\n",
              "    </tr>\n",
              "    <tr>\n",
              "      <th>...</th>\n",
              "      <td>...</td>\n",
              "      <td>...</td>\n",
              "      <td>...</td>\n",
              "      <td>...</td>\n",
              "      <td>...</td>\n",
              "      <td>...</td>\n",
              "      <td>...</td>\n",
              "      <td>...</td>\n",
              "      <td>...</td>\n",
              "      <td>...</td>\n",
              "    </tr>\n",
              "    <tr>\n",
              "      <th>237618</th>\n",
              "      <td>f48avv82m8</td>\n",
              "      <td>US</td>\n",
              "      <td>8pddvmac</td>\n",
              "      <td>US</td>\n",
              "      <td>dzut0jtp4rpd</td>\n",
              "      <td>Dresses</td>\n",
              "      <td>Disney</td>\n",
              "      <td>USD</td>\n",
              "      <td>21.15</td>\n",
              "      <td>2020-08-05</td>\n",
              "    </tr>\n",
              "    <tr>\n",
              "      <th>237640</th>\n",
              "      <td>grik173oqv</td>\n",
              "      <td>AU</td>\n",
              "      <td>ne06kqik</td>\n",
              "      <td>AU</td>\n",
              "      <td>0di422kgfkd7</td>\n",
              "      <td>Dresses</td>\n",
              "      <td>NaN</td>\n",
              "      <td>AUD</td>\n",
              "      <td>40.61</td>\n",
              "      <td>2020-08-05</td>\n",
              "    </tr>\n",
              "    <tr>\n",
              "      <th>237648</th>\n",
              "      <td>05ll13z5pg</td>\n",
              "      <td>US</td>\n",
              "      <td>ahrll085</td>\n",
              "      <td>US</td>\n",
              "      <td>ixq14b4r77n6</td>\n",
              "      <td>Dresses</td>\n",
              "      <td>NaN</td>\n",
              "      <td>USD</td>\n",
              "      <td>54.31</td>\n",
              "      <td>2020-08-06</td>\n",
              "    </tr>\n",
              "    <tr>\n",
              "      <th>237655</th>\n",
              "      <td>nm1xpzjn55</td>\n",
              "      <td>GB</td>\n",
              "      <td>19ql9irh</td>\n",
              "      <td>GB</td>\n",
              "      <td>sb8flhvz3m4e</td>\n",
              "      <td>Dresses</td>\n",
              "      <td>Oh Polly</td>\n",
              "      <td>GBP</td>\n",
              "      <td>16.97</td>\n",
              "      <td>2020-08-05</td>\n",
              "    </tr>\n",
              "    <tr>\n",
              "      <th>237664</th>\n",
              "      <td>pe7412k2er</td>\n",
              "      <td>AU</td>\n",
              "      <td>c61u1sje</td>\n",
              "      <td>AU</td>\n",
              "      <td>1gzeezxnpawh</td>\n",
              "      <td>Dresses</td>\n",
              "      <td>NaN</td>\n",
              "      <td>AUD</td>\n",
              "      <td>19.80</td>\n",
              "      <td>2020-08-05</td>\n",
              "    </tr>\n",
              "  </tbody>\n",
              "</table>\n",
              "<p>13018 rows × 10 columns</p>\n",
              "</div>"
            ],
            "text/plain": [
              "          buyer_id buyer_country seller_id seller_country  ...        brand currency  price       date\n",
              "0       qzpjsi9t0o            GB  6oufpaot             GB  ...          NaN      GBP  19.11 2020-08-03\n",
              "94      mebpkmv8wu            GB  gmhjaphl             GB  ...     Oh Polly      GBP  34.41 2020-08-05\n",
              "99      5g8n4a5zht            GB  5a5i67ye             GB  ...          COS      GBP  30.57 2020-08-08\n",
              "100     kfodrz4mon            GB  5a5i67ye             GB  ...          NaN      GBP  52.85 2020-08-09\n",
              "101     zsllk5i2j7            GB  5a5i67ye             GB  ...  Phase Eight      GBP  17.10 2020-08-05\n",
              "...            ...           ...       ...            ...  ...          ...      ...    ...        ...\n",
              "237618  f48avv82m8            US  8pddvmac             US  ...       Disney      USD  21.15 2020-08-05\n",
              "237640  grik173oqv            AU  ne06kqik             AU  ...          NaN      AUD  40.61 2020-08-05\n",
              "237648  05ll13z5pg            US  ahrll085             US  ...          NaN      USD  54.31 2020-08-06\n",
              "237655  nm1xpzjn55            GB  19ql9irh             GB  ...     Oh Polly      GBP  16.97 2020-08-05\n",
              "237664  pe7412k2er            AU  c61u1sje             AU  ...          NaN      AUD  19.80 2020-08-05\n",
              "\n",
              "[13018 rows x 10 columns]"
            ]
          },
          "execution_count": 86,
          "metadata": {},
          "output_type": "execute_result"
        }
      ],
      "source": [
        "df.query(\"category == 'Dresses' & price > 15\")"
      ]
    },
    {
      "cell_type": "code",
      "execution_count": null,
      "id": "6e215052",
      "metadata": {
        "id": "6e215052"
      },
      "outputs": [],
      "source": [
        ""
      ]
    },
    {
      "cell_type": "code",
      "execution_count": null,
      "id": "5ca0cc5f",
      "metadata": {
        "id": "5ca0cc5f"
      },
      "outputs": [],
      "source": [
        ""
      ]
    }
  ],
  "metadata": {
    "kernelspec": {
      "display_name": "Python 3",
      "language": "python",
      "name": "python3"
    },
    "language_info": {
      "codemirror_mode": {
        "name": "ipython",
        "version": 3
      },
      "file_extension": ".py",
      "mimetype": "text/x-python",
      "name": "python",
      "nbconvert_exporter": "python",
      "pygments_lexer": "ipython3",
      "version": "3.8.8"
    },
    "colab": {
      "name": "Time_Sensitive_Interview_Task-1_08.02.2022.ipynb",
      "provenance": [],
      "include_colab_link": true
    }
  },
  "nbformat": 4,
  "nbformat_minor": 5
}