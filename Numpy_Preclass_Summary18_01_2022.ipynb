{
  "cells": [
    {
      "cell_type": "markdown",
      "metadata": {
        "id": "view-in-github",
        "colab_type": "text"
      },
      "source": [
        "<a href=\"https://colab.research.google.com/github/merdogan97/DAwPY/blob/main/Numpy_Preclass_Summary18_01_2022.ipynb\" target=\"_parent\"><img src=\"https://colab.research.google.com/assets/colab-badge.svg\" alt=\"Open In Colab\"/></a>"
      ]
    },
    {
      "cell_type": "code",
      "execution_count": 4,
      "id": "da460d6e",
      "metadata": {
        "id": "da460d6e"
      },
      "outputs": [],
      "source": [
        "# Numpy kütüpanesini import edelim\n",
        "import numpy as np\n",
        "import matplotlib.pyplot as plt"
      ]
    },
    {
      "cell_type": "markdown",
      "id": "d8132c0f",
      "metadata": {
        "id": "d8132c0f"
      },
      "source": [
        "https://www.mybluelinux.com/numpy-illustrated-the-visual-guide-to-numpy/"
      ]
    },
    {
      "cell_type": "markdown",
      "id": "68f68f1a",
      "metadata": {
        "id": "68f68f1a"
      },
      "source": [
        "![image.png](attachment:image.png)"
      ]
    },
    {
      "cell_type": "markdown",
      "id": "90502414",
      "metadata": {
        "id": "90502414"
      },
      "source": [
        "Lİsteyi Numpy Array'e dönüştürelim."
      ]
    },
    {
      "cell_type": "code",
      "execution_count": 5,
      "id": "c355963f",
      "metadata": {
        "colab": {
          "base_uri": "https://localhost:8080/"
        },
        "id": "c355963f",
        "outputId": "d3e642be-1b1c-431e-958c-982ccac151b9"
      },
      "outputs": [
        {
          "output_type": "execute_result",
          "data": {
            "text/plain": [
              "array([ 1,  2,  3,  4,  5,  6,  7,  8,  9, 10, 11, 12, 13, 14, 15, 16, 17,\n",
              "       18, 19, 20])"
            ]
          },
          "metadata": {},
          "execution_count": 5
        }
      ],
      "source": [
        "liste = [1,  2,  3,  4,  5,  6,  7,  8,  9, 10, 11, 12, 13, 14, 15, 16, 17,\n",
        "       18, 19, 20]\n",
        "lst = np.array(liste)\n",
        "lst"
      ]
    },
    {
      "cell_type": "code",
      "execution_count": 7,
      "id": "2b905335",
      "metadata": {
        "colab": {
          "base_uri": "https://localhost:8080/"
        },
        "id": "2b905335",
        "outputId": "6dfc0ded-edb8-456d-9301-48a6af832659"
      },
      "outputs": [
        {
          "output_type": "execute_result",
          "data": {
            "text/plain": [
              "(20,)"
            ]
          },
          "metadata": {},
          "execution_count": 7
        }
      ],
      "source": [
        "lst.shape"
      ]
    },
    {
      "cell_type": "code",
      "execution_count": 6,
      "id": "975fee48",
      "metadata": {
        "colab": {
          "base_uri": "https://localhost:8080/"
        },
        "id": "975fee48",
        "outputId": "714b31c6-2b24-4c73-aa43-b79070d59cb2"
      },
      "outputs": [
        {
          "output_type": "execute_result",
          "data": {
            "text/plain": [
              "1"
            ]
          },
          "metadata": {},
          "execution_count": 6
        }
      ],
      "source": [
        "lst.ndim"
      ]
    },
    {
      "cell_type": "code",
      "execution_count": null,
      "id": "6c715258",
      "metadata": {
        "id": "6c715258",
        "outputId": "bdaafcd6-accc-4cfb-a5ff-b0fc876550dc"
      },
      "outputs": [
        {
          "data": {
            "text/plain": [
              "array([[ 1,  2,  3,  4,  5,  6,  7,  8,  9, 10, 11, 12, 13, 14, 15, 16,\n",
              "        17, 18, 19, 20]])"
            ]
          },
          "execution_count": 113,
          "metadata": {},
          "output_type": "execute_result"
        }
      ],
      "source": [
        "lst = lst.reshape(1,20)\n",
        "lst"
      ]
    },
    {
      "cell_type": "code",
      "execution_count": null,
      "id": "58d6523c",
      "metadata": {
        "id": "58d6523c",
        "outputId": "a8198e69-e137-4edf-e0c5-ed0d59837afc"
      },
      "outputs": [
        {
          "data": {
            "text/plain": [
              "2"
            ]
          },
          "execution_count": 114,
          "metadata": {},
          "output_type": "execute_result"
        }
      ],
      "source": [
        "lst.ndim"
      ]
    },
    {
      "cell_type": "code",
      "execution_count": 8,
      "id": "be9f15b3",
      "metadata": {
        "colab": {
          "base_uri": "https://localhost:8080/"
        },
        "id": "be9f15b3",
        "outputId": "ebc30228-2694-4f16-9372-8cbf634db2ab"
      },
      "outputs": [
        {
          "output_type": "execute_result",
          "data": {
            "text/plain": [
              "array([[[ 1,  2],\n",
              "        [ 3,  4]],\n",
              "\n",
              "       [[ 5,  6],\n",
              "        [ 7,  8]],\n",
              "\n",
              "       [[ 9, 10],\n",
              "        [11, 12]],\n",
              "\n",
              "       [[13, 14],\n",
              "        [15, 16]],\n",
              "\n",
              "       [[17, 18],\n",
              "        [19, 20]]])"
            ]
          },
          "metadata": {},
          "execution_count": 8
        }
      ],
      "source": [
        "lst = lst.reshape(5,2,2) # derinlik, satır, sütun\n",
        "lst"
      ]
    },
    {
      "cell_type": "code",
      "execution_count": 9,
      "id": "d948476c",
      "metadata": {
        "colab": {
          "base_uri": "https://localhost:8080/"
        },
        "id": "d948476c",
        "outputId": "7d51ac74-ce5f-4750-a423-268803d6704b"
      },
      "outputs": [
        {
          "output_type": "execute_result",
          "data": {
            "text/plain": [
              "3"
            ]
          },
          "metadata": {},
          "execution_count": 9
        }
      ],
      "source": [
        "lst.ndim"
      ]
    },
    {
      "cell_type": "code",
      "execution_count": 11,
      "id": "1717653e",
      "metadata": {
        "colab": {
          "base_uri": "https://localhost:8080/"
        },
        "id": "1717653e",
        "outputId": "485e0644-5ca4-4b7c-92c5-dd5359f398b4"
      },
      "outputs": [
        {
          "output_type": "execute_result",
          "data": {
            "text/plain": [
              "20"
            ]
          },
          "metadata": {},
          "execution_count": 11
        }
      ],
      "source": [
        "lst.size"
      ]
    },
    {
      "cell_type": "code",
      "execution_count": 10,
      "id": "cc8fbaa7",
      "metadata": {
        "colab": {
          "base_uri": "https://localhost:8080/"
        },
        "id": "cc8fbaa7",
        "outputId": "038e89f4-b555-4c55-b199-55022b8e9187"
      },
      "outputs": [
        {
          "output_type": "execute_result",
          "data": {
            "text/plain": [
              "dtype('int64')"
            ]
          },
          "metadata": {},
          "execution_count": 10
        }
      ],
      "source": [
        "lst.dtype # her arraydeki elemanların type'ını verir"
      ]
    },
    {
      "cell_type": "code",
      "execution_count": 12,
      "id": "39b91dbd",
      "metadata": {
        "colab": {
          "base_uri": "https://localhost:8080/"
        },
        "id": "39b91dbd",
        "outputId": "f96a11c9-40ef-4d73-cd5f-af4fa4d1c41a"
      },
      "outputs": [
        {
          "output_type": "execute_result",
          "data": {
            "text/plain": [
              "8"
            ]
          },
          "metadata": {},
          "execution_count": 12
        }
      ],
      "source": [
        "lst.itemsize # her elemanın byte cinsinden büyüklüğü"
      ]
    },
    {
      "cell_type": "code",
      "execution_count": null,
      "id": "722ac0a5",
      "metadata": {
        "id": "722ac0a5",
        "outputId": "6bff593c-f247-429d-c8f1-f63e345f7812"
      },
      "outputs": [
        {
          "data": {
            "text/plain": [
              "4"
            ]
          },
          "execution_count": 125,
          "metadata": {},
          "output_type": "execute_result"
        }
      ],
      "source": [
        "lst.dtype.itemsize # lst.itemsize ile aynıdır"
      ]
    },
    {
      "cell_type": "markdown",
      "id": "fa417859",
      "metadata": {
        "id": "fa417859"
      },
      "source": [
        "# Array attributes and methods"
      ]
    },
    {
      "cell_type": "code",
      "execution_count": null,
      "id": "1c06b6f9",
      "metadata": {
        "id": "1c06b6f9",
        "outputId": "79ea85d7-85a8-4068-e3b4-0ae8a19db6b0"
      },
      "outputs": [
        {
          "data": {
            "text/plain": [
              "20"
            ]
          },
          "execution_count": 129,
          "metadata": {},
          "output_type": "execute_result"
        }
      ],
      "source": [
        "lst.max()"
      ]
    },
    {
      "cell_type": "code",
      "execution_count": null,
      "id": "7ae3f4c0",
      "metadata": {
        "id": "7ae3f4c0",
        "outputId": "485b6e09-1f9c-451d-ccea-9d0ce6b3425a"
      },
      "outputs": [
        {
          "data": {
            "text/plain": [
              "1"
            ]
          },
          "execution_count": 130,
          "metadata": {},
          "output_type": "execute_result"
        }
      ],
      "source": [
        "lst.min()"
      ]
    },
    {
      "cell_type": "code",
      "execution_count": null,
      "id": "538535c7",
      "metadata": {
        "id": "538535c7",
        "outputId": "d8858fe3-e629-4462-fa17-5c147e1adbd0"
      },
      "outputs": [
        {
          "data": {
            "text/plain": [
              "10.5"
            ]
          },
          "execution_count": 131,
          "metadata": {},
          "output_type": "execute_result"
        }
      ],
      "source": [
        "#np.average(lst) # average = mean\n",
        "lst.mean()"
      ]
    },
    {
      "cell_type": "code",
      "execution_count": null,
      "id": "e86f915d",
      "metadata": {
        "id": "e86f915d",
        "outputId": "2f410736-db01-4615-e31f-fc8e596fcf3a"
      },
      "outputs": [
        {
          "data": {
            "text/plain": [
              "19"
            ]
          },
          "execution_count": 132,
          "metadata": {},
          "output_type": "execute_result"
        }
      ],
      "source": [
        "lst.argmax() # kaçıncı index max"
      ]
    },
    {
      "cell_type": "code",
      "execution_count": null,
      "id": "43c1af55",
      "metadata": {
        "id": "43c1af55",
        "outputId": "48ac05a2-4a9f-46a2-e8d2-609c5abdadc1"
      },
      "outputs": [
        {
          "data": {
            "text/plain": [
              "0"
            ]
          },
          "execution_count": 133,
          "metadata": {},
          "output_type": "execute_result"
        }
      ],
      "source": [
        "lst.argmin()"
      ]
    },
    {
      "cell_type": "code",
      "execution_count": null,
      "id": "ba930982",
      "metadata": {
        "id": "ba930982",
        "outputId": "20b3c5ca-077a-4079-ec08-a7a151c8d950"
      },
      "outputs": [
        {
          "data": {
            "text/plain": [
              "array([[ 1,  2,  3,  4,  5],\n",
              "       [ 6,  7,  8,  9, 10],\n",
              "       [11, 12, 13, 14, 15],\n",
              "       [16, 17, 18, 19, 20]])"
            ]
          },
          "execution_count": 134,
          "metadata": {},
          "output_type": "execute_result"
        }
      ],
      "source": [
        "lst = lst.reshape((4,5))\n",
        "lst"
      ]
    },
    {
      "cell_type": "markdown",
      "id": "5e9780a8",
      "metadata": {
        "id": "5e9780a8"
      },
      "source": [
        "# Creating NumPy arrays using built-in methods"
      ]
    },
    {
      "cell_type": "code",
      "execution_count": null,
      "id": "7e2924ed",
      "metadata": {
        "id": "7e2924ed",
        "outputId": "4eed10eb-82f4-4e7b-d712-dee3447785e6"
      },
      "outputs": [
        {
          "data": {
            "text/plain": [
              "array([ 1,  2,  3,  4,  5,  6,  7,  8,  9, 10, 11, 12, 13, 14, 15, 16, 17,\n",
              "       18, 19, 20])"
            ]
          },
          "execution_count": 135,
          "metadata": {},
          "output_type": "execute_result"
        }
      ],
      "source": [
        "a = np.arange(1,21)\n",
        "a"
      ]
    },
    {
      "cell_type": "code",
      "execution_count": null,
      "id": "5b7ec130",
      "metadata": {
        "id": "5b7ec130",
        "outputId": "f3e31e3c-b9fc-4f7c-e03c-cbe20ac785a2"
      },
      "outputs": [
        {
          "data": {
            "text/plain": [
              "array([  0.        ,   7.14285714,  14.28571429,  21.42857143,\n",
              "        28.57142857,  35.71428571,  42.85714286,  50.        ,\n",
              "        57.14285714,  64.28571429,  71.42857143,  78.57142857,\n",
              "        85.71428571,  92.85714286, 100.        ])"
            ]
          },
          "execution_count": 138,
          "metadata": {},
          "output_type": "execute_result"
        }
      ],
      "source": [
        "b = np.linspace(0,100,15) #a'dan b'ye kaç sayı\n",
        "b"
      ]
    },
    {
      "cell_type": "markdown",
      "id": "95ffd1a2",
      "metadata": {
        "id": "95ffd1a2"
      },
      "source": [
        "# Rastgele sayı üretme\n",
        "3 tane ana .random() şekli vardır"
      ]
    },
    {
      "cell_type": "code",
      "execution_count": null,
      "id": "c674685e",
      "metadata": {
        "scrolled": true,
        "id": "c674685e",
        "outputId": "3ff3157b-eeed-4bc3-8c0d-2db6388c7f9b"
      },
      "outputs": [
        {
          "data": {
            "text/plain": [
              "array([0.80577046, 0.73683621, 0.00586721, 0.56341806, 0.12671313])"
            ]
          },
          "execution_count": 146,
          "metadata": {},
          "output_type": "execute_result"
        }
      ],
      "source": [
        "np.random.random(5) #.rand() 0-1 arasında üretir"
      ]
    },
    {
      "cell_type": "code",
      "execution_count": null,
      "id": "55f1a3d8",
      "metadata": {
        "id": "55f1a3d8",
        "outputId": "5cfa824d-c796-4cbd-d4cd-2576207cc8c6"
      },
      "outputs": [
        {
          "data": {
            "image/png": "[encoded data removed]",
            "text/plain": [
              "<Figure size 432x288 with 1 Axes>"
            ]
          },
          "metadata": {
            "needs_background": "light"
          },
          "output_type": "display_data"
        }
      ],
      "source": [
        "rndm = np.random.rand(100000)\n",
        "plt.hist(rndm, bins = 100);"
      ]
    },
    {
      "cell_type": "code",
      "execution_count": null,
      "id": "cff7a05f",
      "metadata": {
        "id": "cff7a05f",
        "outputId": "cd7b4e2e-2f85-4d3b-f535-e88b70963171"
      },
      "outputs": [
        {
          "data": {
            "text/plain": [
              "array([12,  1,  1, 12,  4, 16, 20, 11, 17,  5])"
            ]
          },
          "execution_count": 166,
          "metadata": {},
          "output_type": "execute_result"
        }
      ],
      "source": [
        "#.randint() verdiğimiz aralıkta integer üretir\n",
        "np.random.randint(1,21,10) #kaçtan, kaça, kaç tane "
      ]
    },
    {
      "cell_type": "code",
      "execution_count": null,
      "id": "323b0f6b",
      "metadata": {
        "id": "323b0f6b",
        "outputId": "df42b099-18e0-4880-c7c7-e58c13030c04"
      },
      "outputs": [
        {
          "data": {
            "image/png": "[encoded data removed]",
            "text/plain": [
              "<Figure size 432x288 with 1 Axes>"
            ]
          },
          "metadata": {
            "needs_background": "light"
          },
          "output_type": "display_data"
        }
      ],
      "source": [
        "rndint = np.random.randint(1, 101, 100000)\n",
        "plt.hist(rndint, bins = 100);"
      ]
    },
    {
      "cell_type": "code",
      "execution_count": null,
      "id": "28f10706",
      "metadata": {
        "id": "28f10706",
        "outputId": "5fee41c6-9594-4409-cccd-aa199f44f937"
      },
      "outputs": [
        {
          "data": {
            "text/plain": [
              "array([[13,  1, 16, 14, 17],\n",
              "       [ 1,  5, 15,  2, 19]])"
            ]
          },
          "execution_count": 168,
          "metadata": {},
          "output_type": "execute_result"
        }
      ],
      "source": [
        "np.random.randint(1,20,(2,5)) #kaçtan, kaça, shape "
      ]
    },
    {
      "cell_type": "code",
      "execution_count": null,
      "id": "be4d7a6c",
      "metadata": {
        "id": "be4d7a6c"
      },
      "outputs": [],
      "source": [
        ""
      ]
    },
    {
      "cell_type": "code",
      "execution_count": null,
      "id": "f1a74a6a",
      "metadata": {
        "id": "f1a74a6a",
        "outputId": "e3503a87-def9-433f-a4e4-b3fb88f150f7"
      },
      "outputs": [
        {
          "data": {
            "text/plain": [
              "array([-1.61601588,  0.41124823,  0.07775171, -0.38588771, -0.0927046 ,\n",
              "       -0.08762981, -1.30690669, -0.10504236,  0.52779661,  0.15685902,\n",
              "       -0.34842546,  1.07095204, -0.33302024, -0.34046457,  0.05224566,\n",
              "       -0.13876152, -2.83408591,  1.02154274, -0.45099735,  1.59230178])"
            ]
          },
          "execution_count": 169,
          "metadata": {},
          "output_type": "execute_result"
        }
      ],
      "source": [
        "#.randn() normal dağılımda üretir. 68-95-99.7 kuralı ile. \n",
        "np.random.randn(20)"
      ]
    },
    {
      "cell_type": "code",
      "execution_count": null,
      "id": "6223398b",
      "metadata": {
        "id": "6223398b",
        "outputId": "c2b33234-b1a9-4497-d41e-43fca18ef13b"
      },
      "outputs": [
        {
          "data": {
            "image/png": "[encoded data removed]",
            "text/plain": [
              "<Figure size 432x288 with 1 Axes>"
            ]
          },
          "metadata": {
            "needs_background": "light"
          },
          "output_type": "display_data"
        }
      ],
      "source": [
        "rndn = np.random.randn(100000)\n",
        "plt.hist(rndn, bins = 100);"
      ]
    },
    {
      "cell_type": "code",
      "execution_count": null,
      "id": "ba733ece",
      "metadata": {
        "id": "ba733ece",
        "outputId": "7e47e2f1-d6ee-4e26-927a-fcc86abfbd28"
      },
      "outputs": [
        {
          "ename": "TypeError",
          "evalue": "seed() takes at most 1 positional argument (2 given)",
          "output_type": "error",
          "traceback": [
            "\u001b[1;31m---------------------------------------------------------------------------\u001b[0m",
            "\u001b[1;31mTypeError\u001b[0m                                 Traceback (most recent call last)",
            "\u001b[1;32m<ipython-input-185-19ddad97534c>\u001b[0m in \u001b[0;36m<module>\u001b[1;34m\u001b[0m\n\u001b[1;32m----> 1\u001b[1;33m \u001b[0mx\u001b[0m \u001b[1;33m=\u001b[0m\u001b[0mnp\u001b[0m\u001b[1;33m.\u001b[0m\u001b[0mrandom\u001b[0m\u001b[1;33m.\u001b[0m\u001b[0mseed\u001b[0m\u001b[1;33m(\u001b[0m\u001b[1;36m123\u001b[0m\u001b[1;33m,\u001b[0m\u001b[1;36m3\u001b[0m\u001b[1;33m)\u001b[0m \u001b[1;31m# ile aynı sonuçlar çıkmak üzere sabitlenebilir.\u001b[0m\u001b[1;33m\u001b[0m\u001b[1;33m\u001b[0m\u001b[0m\n\u001b[0m\u001b[0;32m      2\u001b[0m \u001b[0mx\u001b[0m\u001b[1;33m\u001b[0m\u001b[1;33m\u001b[0m\u001b[0m\n",
            "\u001b[1;32mmtrand.pyx\u001b[0m in \u001b[0;36mnumpy.random.mtrand.RandomState.seed\u001b[1;34m()\u001b[0m\n",
            "\u001b[1;31mTypeError\u001b[0m: seed() takes at most 1 positional argument (2 given)"
          ]
        }
      ],
      "source": [
        "x =np.random.seed(123,3) # ile aynı sonuçlar çıkmak üzere sabitlenebilir.\n",
        "x"
      ]
    },
    {
      "cell_type": "markdown",
      "id": "620b6ab7",
      "metadata": {
        "id": "620b6ab7"
      },
      "source": [
        "# Diğer metodlar"
      ]
    },
    {
      "cell_type": "code",
      "execution_count": null,
      "id": "8b0e71f2",
      "metadata": {
        "id": "8b0e71f2",
        "outputId": "2d2cd335-8f08-4965-d576-0b49e3deb323"
      },
      "outputs": [
        {
          "data": {
            "text/plain": [
              "array([[0., 0., 0., 0., 0.],\n",
              "       [0., 0., 0., 0., 0.],\n",
              "       [0., 0., 0., 0., 0.]])"
            ]
          },
          "execution_count": 183,
          "metadata": {},
          "output_type": "execute_result"
        }
      ],
      "source": [
        "np.zeros((3,5))"
      ]
    },
    {
      "cell_type": "code",
      "execution_count": null,
      "id": "6d6ebb8a",
      "metadata": {
        "id": "6d6ebb8a",
        "outputId": "0246962d-c5ef-4fe4-86de-5f19559880ea"
      },
      "outputs": [
        {
          "data": {
            "text/plain": [
              "array([[1., 1., 1., 1., 1.],\n",
              "       [1., 1., 1., 1., 1.],\n",
              "       [1., 1., 1., 1., 1.]])"
            ]
          },
          "execution_count": 181,
          "metadata": {},
          "output_type": "execute_result"
        }
      ],
      "source": [
        "np.ones((3,5))"
      ]
    },
    {
      "cell_type": "code",
      "execution_count": null,
      "id": "8a3d29e3",
      "metadata": {
        "id": "8a3d29e3",
        "outputId": "efa9d23f-0d39-480b-e425-9be2911530b4"
      },
      "outputs": [
        {
          "data": {
            "text/plain": [
              "array([[1., 0., 0., 0.],\n",
              "       [0., 1., 0., 0.],\n",
              "       [0., 0., 1., 0.],\n",
              "       [0., 0., 0., 1.]])"
            ]
          },
          "execution_count": 184,
          "metadata": {},
          "output_type": "execute_result"
        }
      ],
      "source": [
        "np.eye(4)"
      ]
    },
    {
      "cell_type": "code",
      "execution_count": null,
      "id": "aa10ec27",
      "metadata": {
        "id": "aa10ec27",
        "outputId": "34cbc9e8-3252-42aa-9575-5747ed3ddc49"
      },
      "outputs": [
        {
          "data": {
            "text/plain": [
              "array([['ali', 'ali', 'ali'],\n",
              "       ['ali', 'ali', 'ali'],\n",
              "       ['ali', 'ali', 'ali']], dtype='<U3')"
            ]
          },
          "execution_count": 189,
          "metadata": {},
          "output_type": "execute_result"
        }
      ],
      "source": [
        "np.full((3,3), \"ali\") # \"ali_veli_ahmet\""
      ]
    },
    {
      "cell_type": "markdown",
      "id": "5409298e",
      "metadata": {
        "id": "5409298e"
      },
      "source": [
        "# aritmetik işlemler"
      ]
    },
    {
      "cell_type": "code",
      "execution_count": 13,
      "id": "77fe0300",
      "metadata": {
        "colab": {
          "base_uri": "https://localhost:8080/"
        },
        "id": "77fe0300",
        "outputId": "bb7c7dca-6679-453e-b280-beea78fa39cd"
      },
      "outputs": [
        {
          "output_type": "execute_result",
          "data": {
            "text/plain": [
              "array([[1, 2],\n",
              "       [3, 4]])"
            ]
          },
          "metadata": {},
          "execution_count": 13
        }
      ],
      "source": [
        "a = np.arange(1,5).reshape(2,2)\n",
        "a"
      ]
    },
    {
      "cell_type": "code",
      "execution_count": 14,
      "id": "95b78222",
      "metadata": {
        "colab": {
          "base_uri": "https://localhost:8080/"
        },
        "id": "95b78222",
        "outputId": "43755599-4e14-4da2-9ff5-a918d436e68a"
      },
      "outputs": [
        {
          "output_type": "execute_result",
          "data": {
            "text/plain": [
              "array([[1., 1.],\n",
              "       [1., 1.]])"
            ]
          },
          "metadata": {},
          "execution_count": 14
        }
      ],
      "source": [
        "b = np.ones((2,2))\n",
        "b"
      ]
    },
    {
      "cell_type": "code",
      "execution_count": 15,
      "id": "01707874",
      "metadata": {
        "colab": {
          "base_uri": "https://localhost:8080/"
        },
        "id": "01707874",
        "outputId": "2a75bbd8-0d74-4308-c7ef-2a272b4def89"
      },
      "outputs": [
        {
          "output_type": "execute_result",
          "data": {
            "text/plain": [
              "array([[ 3,  6],\n",
              "       [ 9, 12]])"
            ]
          },
          "metadata": {},
          "execution_count": 15
        }
      ],
      "source": [
        "a*3"
      ]
    },
    {
      "cell_type": "code",
      "execution_count": 16,
      "id": "05ca5dbc",
      "metadata": {
        "colab": {
          "base_uri": "https://localhost:8080/"
        },
        "id": "05ca5dbc",
        "outputId": "1af8a57c-826f-4b5d-c5fa-56fc8afc6ef9"
      },
      "outputs": [
        {
          "output_type": "execute_result",
          "data": {
            "text/plain": [
              "[1,\n",
              " 2,\n",
              " 3,\n",
              " 4,\n",
              " 5,\n",
              " 6,\n",
              " 7,\n",
              " 8,\n",
              " 9,\n",
              " 10,\n",
              " 11,\n",
              " 12,\n",
              " 13,\n",
              " 14,\n",
              " 15,\n",
              " 16,\n",
              " 17,\n",
              " 18,\n",
              " 19,\n",
              " 20,\n",
              " 1,\n",
              " 2,\n",
              " 3,\n",
              " 4,\n",
              " 5,\n",
              " 6,\n",
              " 7,\n",
              " 8,\n",
              " 9,\n",
              " 10,\n",
              " 11,\n",
              " 12,\n",
              " 13,\n",
              " 14,\n",
              " 15,\n",
              " 16,\n",
              " 17,\n",
              " 18,\n",
              " 19,\n",
              " 20,\n",
              " 1,\n",
              " 2,\n",
              " 3,\n",
              " 4,\n",
              " 5,\n",
              " 6,\n",
              " 7,\n",
              " 8,\n",
              " 9,\n",
              " 10,\n",
              " 11,\n",
              " 12,\n",
              " 13,\n",
              " 14,\n",
              " 15,\n",
              " 16,\n",
              " 17,\n",
              " 18,\n",
              " 19,\n",
              " 20]"
            ]
          },
          "metadata": {},
          "execution_count": 16
        }
      ],
      "source": [
        "liste *3"
      ]
    },
    {
      "cell_type": "code",
      "execution_count": 17,
      "id": "be2458d8",
      "metadata": {
        "colab": {
          "base_uri": "https://localhost:8080/"
        },
        "id": "be2458d8",
        "outputId": "561f5141-b565-435b-81a1-27744ed175a5"
      },
      "outputs": [
        {
          "output_type": "execute_result",
          "data": {
            "text/plain": [
              "array([[0.5, 0.5],\n",
              "       [0.5, 0.5]])"
            ]
          },
          "metadata": {},
          "execution_count": 17
        }
      ],
      "source": [
        "b/2"
      ]
    },
    {
      "cell_type": "code",
      "execution_count": 18,
      "id": "9920fc68",
      "metadata": {
        "colab": {
          "base_uri": "https://localhost:8080/"
        },
        "id": "9920fc68",
        "outputId": "d757fcbd-2e8e-4e30-9c55-8ded2c9f07f7"
      },
      "outputs": [
        {
          "output_type": "execute_result",
          "data": {
            "text/plain": [
              "array([[2., 2.],\n",
              "       [2., 2.]])"
            ]
          },
          "metadata": {},
          "execution_count": 18
        }
      ],
      "source": [
        "b+1"
      ]
    },
    {
      "cell_type": "code",
      "execution_count": 19,
      "id": "2071c8e1",
      "metadata": {
        "colab": {
          "base_uri": "https://localhost:8080/"
        },
        "id": "2071c8e1",
        "outputId": "1fdd76e1-9818-4414-c850-a312e5ece34e"
      },
      "outputs": [
        {
          "output_type": "execute_result",
          "data": {
            "text/plain": [
              "array([[0., 0.],\n",
              "       [0., 0.]])"
            ]
          },
          "metadata": {},
          "execution_count": 19
        }
      ],
      "source": [
        "b-1"
      ]
    },
    {
      "cell_type": "code",
      "execution_count": 20,
      "id": "dd66e871",
      "metadata": {
        "scrolled": true,
        "colab": {
          "base_uri": "https://localhost:8080/"
        },
        "id": "dd66e871",
        "outputId": "b29ae623-3b9c-4006-a972-04aec531ee6a"
      },
      "outputs": [
        {
          "output_type": "execute_result",
          "data": {
            "text/plain": [
              "array([[4., 3.],\n",
              "       [4., 3.]])"
            ]
          },
          "metadata": {},
          "execution_count": 20
        }
      ],
      "source": [
        "# b+ [3,2]\n",
        "[3,2] + b"
      ]
    },
    {
      "cell_type": "code",
      "execution_count": 21,
      "id": "64f4659c",
      "metadata": {
        "colab": {
          "base_uri": "https://localhost:8080/"
        },
        "id": "64f4659c",
        "outputId": "21c77e38-1968-4b26-c798-4bf72d76ff97"
      },
      "outputs": [
        {
          "output_type": "execute_result",
          "data": {
            "text/plain": [
              "array([[4., 4.],\n",
              "       [3., 3.]])"
            ]
          },
          "metadata": {},
          "execution_count": 21
        }
      ],
      "source": [
        "b + [[3],[2]]"
      ]
    },
    {
      "cell_type": "code",
      "execution_count": 22,
      "id": "4c1fbffb",
      "metadata": {
        "colab": {
          "base_uri": "https://localhost:8080/"
        },
        "id": "4c1fbffb",
        "outputId": "ef0e6be1-681c-45bb-f0a5-7649f2895144"
      },
      "outputs": [
        {
          "output_type": "execute_result",
          "data": {
            "text/plain": [
              "array([[ 4.,  3.],\n",
              "       [ 1., -2.]])"
            ]
          },
          "metadata": {},
          "execution_count": 22
        }
      ],
      "source": [
        "b+ [[3,2],[0,-3]]"
      ]
    },
    {
      "cell_type": "code",
      "execution_count": 23,
      "id": "83f7f9f7",
      "metadata": {
        "scrolled": true,
        "colab": {
          "base_uri": "https://localhost:8080/"
        },
        "id": "83f7f9f7",
        "outputId": "01a3f5d6-c5c3-4659-f157-c9e8701a70ee"
      },
      "outputs": [
        {
          "output_type": "execute_result",
          "data": {
            "text/plain": [
              "array([[1., 2.],\n",
              "       [3., 4.]])"
            ]
          },
          "metadata": {},
          "execution_count": 23
        }
      ],
      "source": [
        "a*b"
      ]
    },
    {
      "cell_type": "code",
      "execution_count": 24,
      "id": "0b93c4d3",
      "metadata": {
        "colab": {
          "base_uri": "https://localhost:8080/"
        },
        "id": "0b93c4d3",
        "outputId": "7011393e-4397-4e9d-df94-aa7f8070bbba"
      },
      "outputs": [
        {
          "output_type": "execute_result",
          "data": {
            "text/plain": [
              "array([[0., 1.],\n",
              "       [2., 3.]])"
            ]
          },
          "metadata": {},
          "execution_count": 24
        }
      ],
      "source": [
        "a-b"
      ]
    },
    {
      "cell_type": "code",
      "execution_count": null,
      "id": "fce6bf2d",
      "metadata": {
        "id": "fce6bf2d"
      },
      "outputs": [],
      "source": [
        "a*[[3,2,4]]"
      ]
    },
    {
      "cell_type": "code",
      "execution_count": 27,
      "id": "31e9edc6",
      "metadata": {
        "colab": {
          "base_uri": "https://localhost:8080/"
        },
        "id": "31e9edc6",
        "outputId": "a0dca9a7-4344-4593-f37f-4e224ad45a17"
      },
      "outputs": [
        {
          "output_type": "execute_result",
          "data": {
            "text/plain": [
              "array([[0.5, 1. ],\n",
              "       [1.5, 2. ]])"
            ]
          },
          "metadata": {},
          "execution_count": 27
        }
      ],
      "source": [
        "a/(b*2)"
      ]
    },
    {
      "cell_type": "code",
      "execution_count": 28,
      "id": "0da6fdb9",
      "metadata": {
        "scrolled": true,
        "colab": {
          "base_uri": "https://localhost:8080/"
        },
        "id": "0da6fdb9",
        "outputId": "db4eabe3-6316-4e4e-876e-9ba9ca4b6638"
      },
      "outputs": [
        {
          "output_type": "execute_result",
          "data": {
            "text/plain": [
              "array([[1.        , 1.41421356],\n",
              "       [1.73205081, 2.        ]])"
            ]
          },
          "metadata": {},
          "execution_count": 28
        }
      ],
      "source": [
        "np.sqrt(a)"
      ]
    },
    {
      "cell_type": "code",
      "execution_count": 29,
      "id": "8d4bb37a",
      "metadata": {
        "colab": {
          "base_uri": "https://localhost:8080/"
        },
        "id": "8d4bb37a",
        "outputId": "366f8b07-41f1-407a-cac8-f99cfc9c70e8"
      },
      "outputs": [
        {
          "output_type": "execute_result",
          "data": {
            "text/plain": [
              "array([[1, 0],\n",
              "       [1, 0]])"
            ]
          },
          "metadata": {},
          "execution_count": 29
        }
      ],
      "source": [
        "a%2"
      ]
    },
    {
      "cell_type": "markdown",
      "id": "365aa5f1",
      "metadata": {
        "id": "365aa5f1"
      },
      "source": [
        "# .concatenate"
      ]
    },
    {
      "cell_type": "code",
      "execution_count": null,
      "id": "2636ad93",
      "metadata": {
        "id": "2636ad93",
        "outputId": "eeeb3dea-5338-4619-fc9e-205b87cb1ea7"
      },
      "outputs": [
        {
          "data": {
            "text/plain": [
              "array([[1, 2],\n",
              "       [3, 4]])"
            ]
          },
          "execution_count": 206,
          "metadata": {},
          "output_type": "execute_result"
        }
      ],
      "source": [
        "a"
      ]
    },
    {
      "cell_type": "code",
      "execution_count": null,
      "id": "7007bad2",
      "metadata": {
        "id": "7007bad2",
        "outputId": "f37a015f-8d1a-438a-f665-5bc2db0419c9"
      },
      "outputs": [
        {
          "data": {
            "text/plain": [
              "array([[1., 1.],\n",
              "       [1., 1.]])"
            ]
          },
          "execution_count": 207,
          "metadata": {},
          "output_type": "execute_result"
        }
      ],
      "source": [
        "b"
      ]
    },
    {
      "cell_type": "code",
      "execution_count": null,
      "id": "6562b0b6",
      "metadata": {
        "id": "6562b0b6",
        "outputId": "59d9091f-cf6a-408a-a717-56170079d3d5"
      },
      "outputs": [
        {
          "data": {
            "text/plain": [
              "array([[1., 1., 1.],\n",
              "       [1., 1., 1.]])"
            ]
          },
          "execution_count": 208,
          "metadata": {},
          "output_type": "execute_result"
        }
      ],
      "source": [
        "c = np.ones((2,3))\n",
        "c"
      ]
    },
    {
      "cell_type": "code",
      "execution_count": null,
      "id": "841d183f",
      "metadata": {
        "id": "841d183f",
        "outputId": "e7c69dae-43a7-48a6-80ba-d3f4667f8f7f"
      },
      "outputs": [
        {
          "data": {
            "text/plain": [
              "array([[1., 1.],\n",
              "       [1., 1.],\n",
              "       [1., 2.],\n",
              "       [3., 4.]])"
            ]
          },
          "execution_count": 210,
          "metadata": {},
          "output_type": "execute_result"
        }
      ],
      "source": [
        "np.concatenate((b,a), axis=0)"
      ]
    },
    {
      "cell_type": "code",
      "execution_count": null,
      "id": "fbe287dc",
      "metadata": {
        "id": "fbe287dc",
        "outputId": "f8cf9d3c-11a2-424d-995d-f7e9b3dd6df8"
      },
      "outputs": [
        {
          "data": {
            "text/plain": [
              "array([[1., 2., 1., 1.],\n",
              "       [3., 4., 1., 1.]])"
            ]
          },
          "execution_count": 211,
          "metadata": {},
          "output_type": "execute_result"
        }
      ],
      "source": [
        "np.concatenate((a,b), axis=1)"
      ]
    },
    {
      "cell_type": "code",
      "execution_count": null,
      "id": "9bf4d231",
      "metadata": {
        "id": "9bf4d231",
        "outputId": "62905121-d1b3-4218-dbba-004a44f72759"
      },
      "outputs": [
        {
          "data": {
            "text/plain": [
              "array([[1., 2., 1., 1., 1.],\n",
              "       [3., 4., 1., 1., 1.]])"
            ]
          },
          "execution_count": 214,
          "metadata": {},
          "output_type": "execute_result"
        }
      ],
      "source": [
        "np.concatenate((a,c), axis = 1)"
      ]
    },
    {
      "cell_type": "markdown",
      "id": "e43f8271",
      "metadata": {
        "id": "e43f8271"
      },
      "source": [
        "# .split"
      ]
    },
    {
      "cell_type": "code",
      "execution_count": 30,
      "id": "27cae591",
      "metadata": {
        "colab": {
          "base_uri": "https://localhost:8080/"
        },
        "id": "27cae591",
        "outputId": "b39dc7f0-0454-4bc4-f31b-3359639609b2"
      },
      "outputs": [
        {
          "output_type": "execute_result",
          "data": {
            "text/plain": [
              "array([[ 1,  2,  3,  4],\n",
              "       [ 5,  6,  7,  8],\n",
              "       [ 9, 10, 11, 12],\n",
              "       [13, 14, 15, 16],\n",
              "       [17, 18, 19, 20]])"
            ]
          },
          "metadata": {},
          "execution_count": 30
        }
      ],
      "source": [
        "d = np.arange(1,21).reshape(5,4)\n",
        "d"
      ]
    },
    {
      "cell_type": "code",
      "execution_count": null,
      "id": "23aacd0a",
      "metadata": {
        "id": "23aacd0a",
        "outputId": "f0c08b19-14b1-4e37-8f77-93d79675e74d"
      },
      "outputs": [
        {
          "data": {
            "text/plain": [
              "[array([[1, 2, 3, 4]]),\n",
              " array([[5, 6, 7, 8]]),\n",
              " array([[ 9, 10, 11, 12]]),\n",
              " array([[13, 14, 15, 16]]),\n",
              " array([[17, 18, 19, 20]])]"
            ]
          },
          "execution_count": 219,
          "metadata": {},
          "output_type": "execute_result"
        }
      ],
      "source": [
        "np.split(d,5)"
      ]
    },
    {
      "cell_type": "code",
      "execution_count": null,
      "id": "9faeea42",
      "metadata": {
        "id": "9faeea42",
        "outputId": "be5b89ee-044f-474b-ed7c-1e25913652d3"
      },
      "outputs": [
        {
          "data": {
            "text/plain": [
              "[array([[ 1,  2,  3,  4],\n",
              "        [ 5,  6,  7,  8],\n",
              "        [ 9, 10, 11, 12]]),\n",
              " array([[13, 14, 15, 16],\n",
              "        [17, 18, 19, 20]])]"
            ]
          },
          "execution_count": 217,
          "metadata": {},
          "output_type": "execute_result"
        }
      ],
      "source": [
        "np.split(d,(3,))"
      ]
    },
    {
      "cell_type": "code",
      "execution_count": null,
      "id": "d0ac72e1",
      "metadata": {
        "id": "d0ac72e1",
        "outputId": "a89fd82a-42c3-44a3-c093-c3711bf29f22"
      },
      "outputs": [
        {
          "data": {
            "text/plain": [
              "[array([[ 1],\n",
              "        [ 5],\n",
              "        [ 9],\n",
              "        [13],\n",
              "        [17]]),\n",
              " array([[ 2],\n",
              "        [ 6],\n",
              "        [10],\n",
              "        [14],\n",
              "        [18]]),\n",
              " array([[ 3],\n",
              "        [ 7],\n",
              "        [11],\n",
              "        [15],\n",
              "        [19]]),\n",
              " array([[ 4],\n",
              "        [ 8],\n",
              "        [12],\n",
              "        [16],\n",
              "        [20]])]"
            ]
          },
          "execution_count": 220,
          "metadata": {},
          "output_type": "execute_result"
        }
      ],
      "source": [
        "np.split(d, 4, axis=1)"
      ]
    },
    {
      "cell_type": "code",
      "execution_count": null,
      "id": "ce6d8a33",
      "metadata": {
        "id": "ce6d8a33",
        "outputId": "64778d15-5aec-4064-a5af-0928e7dfe053"
      },
      "outputs": [
        {
          "data": {
            "text/plain": [
              "[array([[ 1,  2],\n",
              "        [ 5,  6],\n",
              "        [ 9, 10],\n",
              "        [13, 14],\n",
              "        [17, 18]]),\n",
              " array([[ 3,  4],\n",
              "        [ 7,  8],\n",
              "        [11, 12],\n",
              "        [15, 16],\n",
              "        [19, 20]])]"
            ]
          },
          "execution_count": 223,
          "metadata": {},
          "output_type": "execute_result"
        }
      ],
      "source": [
        "np.split(d,2, axis=1)"
      ]
    },
    {
      "cell_type": "markdown",
      "id": "bf15be62",
      "metadata": {
        "id": "bf15be62"
      },
      "source": [
        "# NumPy Array Indexing and Selection\n",
        "[satır, sütun]\n",
        "[boyut, satır, sütun]"
      ]
    },
    {
      "cell_type": "code",
      "execution_count": null,
      "id": "5de38993",
      "metadata": {
        "id": "5de38993",
        "outputId": "5d44a75d-a64b-46cf-de3b-5007597a04ce"
      },
      "outputs": [
        {
          "data": {
            "text/plain": [
              "array([[ 0,  1,  2,  3,  4,  5],\n",
              "       [ 6,  7,  8,  9, 10, 11],\n",
              "       [12, 13, 14, 15, 16, 17],\n",
              "       [18, 19, 20, 21, 22, 23],\n",
              "       [24, 25, 26, 27, 28, 29],\n",
              "       [30, 31, 32, 33, 34, 35]])"
            ]
          },
          "execution_count": 224,
          "metadata": {},
          "output_type": "execute_result"
        }
      ],
      "source": [
        "e = np.arange(0,36).reshape(6,6)\n",
        "e"
      ]
    },
    {
      "cell_type": "markdown",
      "id": "7b9ecc57",
      "metadata": {
        "id": "7b9ecc57"
      },
      "source": [
        "![Numpy%20soru-2.png](attachment:Numpy%20soru-2.png)"
      ]
    },
    {
      "cell_type": "code",
      "execution_count": null,
      "id": "73187f7f",
      "metadata": {
        "id": "73187f7f",
        "outputId": "a422d3f2-6a5e-4e74-f10f-e09d75549b11"
      },
      "outputs": [
        {
          "data": {
            "text/plain": [
              "array([3, 4])"
            ]
          },
          "execution_count": 225,
          "metadata": {},
          "output_type": "execute_result"
        }
      ],
      "source": [
        "e[0,3:5]"
      ]
    },
    {
      "cell_type": "code",
      "execution_count": null,
      "id": "be00fa65",
      "metadata": {
        "id": "be00fa65",
        "outputId": "16def361-77aa-44d8-ec9e-fa6d21d9adb0"
      },
      "outputs": [
        {
          "data": {
            "text/plain": [
              "array([ 2,  8, 14, 20, 26, 32])"
            ]
          },
          "execution_count": 226,
          "metadata": {},
          "output_type": "execute_result"
        }
      ],
      "source": [
        "e[:,2]"
      ]
    },
    {
      "cell_type": "code",
      "execution_count": null,
      "id": "b3686f10",
      "metadata": {
        "id": "b3686f10",
        "outputId": "ffaa3673-c753-42bb-9ede-5f6903224e7e"
      },
      "outputs": [
        {
          "data": {
            "text/plain": [
              "array([[28, 29],\n",
              "       [34, 35]])"
            ]
          },
          "execution_count": 227,
          "metadata": {},
          "output_type": "execute_result"
        }
      ],
      "source": [
        "e[4:,4:]"
      ]
    },
    {
      "cell_type": "code",
      "execution_count": null,
      "id": "1ec0c0c5",
      "metadata": {
        "id": "1ec0c0c5",
        "outputId": "beccd7f5-9138-4ffc-9791-46c53ef92788"
      },
      "outputs": [
        {
          "data": {
            "text/plain": [
              "array([[12, 14, 16],\n",
              "       [24, 26, 28]])"
            ]
          },
          "execution_count": 228,
          "metadata": {},
          "output_type": "execute_result"
        }
      ],
      "source": [
        "e[2::2, ::2]"
      ]
    },
    {
      "cell_type": "code",
      "execution_count": null,
      "id": "b8012dac",
      "metadata": {
        "id": "b8012dac",
        "outputId": "a84aa715-e903-44d4-f11d-d55d9fd3c7c8"
      },
      "outputs": [
        {
          "data": {
            "text/plain": [
              "array([[[ 1,  2,  3,  4,  5],\n",
              "        [ 6,  7,  8,  9, 10],\n",
              "        [11, 12, 13, 14, 15],\n",
              "        [16, 17, 18, 19, 20],\n",
              "        [21, 22, 23, 24, 25],\n",
              "        [26, 27, 28, 29, 30],\n",
              "        [31, 32, 33, 34, 35]],\n",
              "\n",
              "       [[36, 37, 38, 39, 40],\n",
              "        [41, 42, 43, 44, 45],\n",
              "        [46, 47, 48, 49, 50],\n",
              "        [51, 52, 53, 54, 55],\n",
              "        [56, 57, 58, 59, 60],\n",
              "        [61, 62, 63, 64, 65],\n",
              "        [66, 67, 68, 69, 70]]])"
            ]
          },
          "execution_count": 229,
          "metadata": {},
          "output_type": "execute_result"
        }
      ],
      "source": [
        "f = np.arange(1,71).reshape(2,7,5)\n",
        "f"
      ]
    },
    {
      "cell_type": "code",
      "execution_count": null,
      "id": "20d21418",
      "metadata": {
        "id": "20d21418",
        "outputId": "5c757359-88cc-4173-8444-e16f2b8a7db7"
      },
      "outputs": [
        {
          "data": {
            "text/plain": [
              "49"
            ]
          },
          "execution_count": 230,
          "metadata": {},
          "output_type": "execute_result"
        }
      ],
      "source": [
        "f[1,2,3] #boyut,satır,sütun"
      ]
    },
    {
      "cell_type": "markdown",
      "id": "4ea44312",
      "metadata": {
        "id": "4ea44312"
      },
      "source": [
        "# addition,subtraction,division, multiplication operations with NumPy"
      ]
    },
    {
      "cell_type": "code",
      "execution_count": null,
      "id": "f60b5024",
      "metadata": {
        "id": "f60b5024",
        "outputId": "0cca7bdb-cf19-499b-d98c-32e9761c3d4d"
      },
      "outputs": [
        {
          "data": {
            "text/plain": [
              "array([[1, 2],\n",
              "       [3, 4]])"
            ]
          },
          "execution_count": 231,
          "metadata": {},
          "output_type": "execute_result"
        }
      ],
      "source": [
        "a"
      ]
    },
    {
      "cell_type": "code",
      "execution_count": null,
      "id": "c086402f",
      "metadata": {
        "id": "c086402f",
        "outputId": "bfc54b7d-d26a-42a9-8afa-5a1fc2b68648"
      },
      "outputs": [
        {
          "data": {
            "text/plain": [
              "array([[1., 1.],\n",
              "       [1., 1.]])"
            ]
          },
          "execution_count": 232,
          "metadata": {},
          "output_type": "execute_result"
        }
      ],
      "source": [
        "b"
      ]
    },
    {
      "cell_type": "code",
      "execution_count": null,
      "id": "504ffdce",
      "metadata": {
        "id": "504ffdce",
        "outputId": "865d29e2-defe-4a1c-d5d4-c3f53b2fbbb7"
      },
      "outputs": [
        {
          "data": {
            "text/plain": [
              "array([[2., 3.],\n",
              "       [4., 5.]])"
            ]
          },
          "execution_count": 233,
          "metadata": {},
          "output_type": "execute_result"
        }
      ],
      "source": [
        "np.add(a,b)"
      ]
    },
    {
      "cell_type": "code",
      "execution_count": null,
      "id": "d917f59f",
      "metadata": {
        "id": "d917f59f",
        "outputId": "32ba1447-6a5c-421b-92df-c4a5ecf9a967"
      },
      "outputs": [
        {
          "data": {
            "text/plain": [
              "array([[1.        , 0.5       ],\n",
              "       [0.33333333, 0.25      ]])"
            ]
          },
          "execution_count": 234,
          "metadata": {},
          "output_type": "execute_result"
        }
      ],
      "source": [
        "np.divide(b,a)"
      ]
    },
    {
      "cell_type": "code",
      "execution_count": null,
      "id": "16d10050",
      "metadata": {
        "id": "16d10050",
        "outputId": "e4e8cd17-5e0c-4b8b-a02e-1f7217812bd4"
      },
      "outputs": [
        {
          "data": {
            "text/plain": [
              "array([[0., 1.],\n",
              "       [2., 3.]])"
            ]
          },
          "execution_count": 235,
          "metadata": {},
          "output_type": "execute_result"
        }
      ],
      "source": [
        "np.subtract(a,b)"
      ]
    },
    {
      "cell_type": "code",
      "execution_count": null,
      "id": "ac422880",
      "metadata": {
        "id": "ac422880",
        "outputId": "41a3ece4-2e8e-49ac-9363-7418bd382fd4"
      },
      "outputs": [
        {
          "data": {
            "text/plain": [
              "array([[ 1,  4],\n",
              "       [ 9, 16]])"
            ]
          },
          "execution_count": 237,
          "metadata": {},
          "output_type": "execute_result"
        }
      ],
      "source": [
        "np.multiply(a,a)\n",
        "a*a"
      ]
    },
    {
      "cell_type": "code",
      "execution_count": null,
      "id": "e8230e5b",
      "metadata": {
        "id": "e8230e5b",
        "outputId": "1edee476-960b-4086-ef43-db062a859c94"
      },
      "outputs": [
        {
          "data": {
            "text/plain": [
              "array([[  1,  16],\n",
              "       [ 81, 256]], dtype=int32)"
            ]
          },
          "execution_count": 238,
          "metadata": {},
          "output_type": "execute_result"
        }
      ],
      "source": [
        "np.power(a,4) "
      ]
    },
    {
      "cell_type": "code",
      "execution_count": null,
      "id": "dfdde189",
      "metadata": {
        "id": "dfdde189",
        "outputId": "737511ed-97be-45d0-d702-12f31e24c0a8"
      },
      "outputs": [
        {
          "data": {
            "text/plain": [
              "array([[1.        , 1.41421356],\n",
              "       [1.73205081, 2.        ]])"
            ]
          },
          "execution_count": 239,
          "metadata": {},
          "output_type": "execute_result"
        }
      ],
      "source": [
        "np.sqrt(a)"
      ]
    },
    {
      "cell_type": "markdown",
      "id": "e9126d6f",
      "metadata": {
        "id": "e9126d6f"
      },
      "source": [
        "# mean, median, standard deviation, sum of array, mod , sin"
      ]
    },
    {
      "cell_type": "code",
      "execution_count": null,
      "id": "96dcf9b6",
      "metadata": {
        "id": "96dcf9b6",
        "outputId": "5dd71820-967d-453b-af1d-6eb3000471a7"
      },
      "outputs": [
        {
          "data": {
            "text/plain": [
              "array([-1.0856306 ,  0.99734545,  0.2829785 , ..., -0.47226641,\n",
              "        0.58196437,  0.97061286])"
            ]
          },
          "execution_count": 240,
          "metadata": {},
          "output_type": "execute_result"
        }
      ],
      "source": [
        "g = np.random.randn(10000)\n",
        "g"
      ]
    },
    {
      "cell_type": "code",
      "execution_count": null,
      "id": "35e4a8f7",
      "metadata": {
        "id": "35e4a8f7",
        "outputId": "cfb75f1f-bafd-410a-87ae-f34ca9124cc4"
      },
      "outputs": [
        {
          "data": {
            "text/plain": [
              "0.009711892291595955"
            ]
          },
          "execution_count": 241,
          "metadata": {},
          "output_type": "execute_result"
        }
      ],
      "source": [
        "np.mean(g)"
      ]
    },
    {
      "cell_type": "code",
      "execution_count": null,
      "id": "0996f61b",
      "metadata": {
        "id": "0996f61b",
        "outputId": "a736e35a-0d4c-49d7-822d-a1c1422584b8"
      },
      "outputs": [
        {
          "data": {
            "text/plain": [
              "0.009711892291595955"
            ]
          },
          "execution_count": 242,
          "metadata": {},
          "output_type": "execute_result"
        }
      ],
      "source": [
        "g.mean()"
      ]
    },
    {
      "cell_type": "code",
      "execution_count": null,
      "id": "c86efd97",
      "metadata": {
        "id": "c86efd97",
        "outputId": "65bb1d94-8e0f-4f0e-e19d-4c11bed03ccc"
      },
      "outputs": [
        {
          "data": {
            "text/plain": [
              "0.011846468442650918"
            ]
          },
          "execution_count": 243,
          "metadata": {},
          "output_type": "execute_result"
        }
      ],
      "source": [
        "np.median(g)"
      ]
    },
    {
      "cell_type": "code",
      "execution_count": null,
      "id": "4a1141db",
      "metadata": {
        "id": "4a1141db"
      },
      "outputs": [],
      "source": [
        "# g.median(g) # hata veriyor"
      ]
    },
    {
      "cell_type": "code",
      "execution_count": null,
      "id": "b9703e57",
      "metadata": {
        "id": "b9703e57",
        "outputId": "381865a9-72f1-4460-c858-e17904bfe06a"
      },
      "outputs": [
        {
          "data": {
            "text/plain": [
              "97.11892291595956"
            ]
          },
          "execution_count": 244,
          "metadata": {},
          "output_type": "execute_result"
        }
      ],
      "source": [
        "g.sum()"
      ]
    },
    {
      "cell_type": "code",
      "execution_count": null,
      "id": "6599e041",
      "metadata": {
        "id": "6599e041",
        "outputId": "3408bca6-17d0-4df4-a04e-6646dd322687"
      },
      "outputs": [
        {
          "data": {
            "text/plain": [
              "0.009711892291595955"
            ]
          },
          "execution_count": 245,
          "metadata": {},
          "output_type": "execute_result"
        }
      ],
      "source": [
        "g.sum()/10000"
      ]
    },
    {
      "cell_type": "code",
      "execution_count": null,
      "id": "105ad84d",
      "metadata": {
        "id": "105ad84d",
        "outputId": "fb2bfab6-8a9e-4ea3-dcb9-51cad69e19d4"
      },
      "outputs": [
        {
          "data": {
            "text/plain": [
              "1"
            ]
          },
          "execution_count": 246,
          "metadata": {},
          "output_type": "execute_result"
        }
      ],
      "source": [
        "np.mod(100,3) # 100%3 ile Aynı"
      ]
    },
    {
      "cell_type": "code",
      "execution_count": null,
      "id": "de340c77",
      "metadata": {
        "id": "de340c77"
      },
      "outputs": [],
      "source": [
        "np.sin(np.pi/2) # arcsin, sinh, cos, log2, log10"
      ]
    },
    {
      "cell_type": "code",
      "execution_count": null,
      "id": "655c01f9",
      "metadata": {
        "id": "655c01f9"
      },
      "outputs": [],
      "source": [
        "np.sin(90)"
      ]
    },
    {
      "cell_type": "markdown",
      "id": "1eed4001",
      "metadata": {
        "id": "1eed4001"
      },
      "source": [
        "# İLAVEDİR\n",
        "np.ravel fonksiyonu, reshape(n) fonksiyonunu kullanmadan çok boyutlu bir dizinin tüm satır ve sütunlarını yok ederek, tek boyutlu bir dizi yaratır."
      ]
    },
    {
      "cell_type": "code",
      "execution_count": null,
      "id": "92a80dbe",
      "metadata": {
        "id": "92a80dbe",
        "outputId": "fcc4875a-c9bc-4ae1-e0e4-014879175c6c"
      },
      "outputs": [
        {
          "data": {
            "text/plain": [
              "array([[1, 2],\n",
              "       [3, 4]])"
            ]
          },
          "execution_count": 247,
          "metadata": {},
          "output_type": "execute_result"
        }
      ],
      "source": [
        "a"
      ]
    },
    {
      "cell_type": "code",
      "execution_count": null,
      "id": "d4d5fd3b",
      "metadata": {
        "id": "d4d5fd3b",
        "outputId": "b56614b4-90ce-4378-8a9e-6cc700e0f137"
      },
      "outputs": [
        {
          "data": {
            "text/plain": [
              "array([1, 2, 3, 4])"
            ]
          },
          "execution_count": 248,
          "metadata": {},
          "output_type": "execute_result"
        }
      ],
      "source": [
        "np.ravel(a)"
      ]
    },
    {
      "cell_type": "markdown",
      "id": "e45ce695",
      "metadata": {
        "id": "e45ce695"
      },
      "source": [
        "# dtype değiştirme"
      ]
    },
    {
      "cell_type": "code",
      "execution_count": null,
      "id": "5925430d",
      "metadata": {
        "id": "5925430d",
        "outputId": "81f89a7a-ca76-4a32-c19f-ce0056c55c63"
      },
      "outputs": [
        {
          "data": {
            "text/plain": [
              "dtype('int32')"
            ]
          },
          "execution_count": 249,
          "metadata": {},
          "output_type": "execute_result"
        }
      ],
      "source": [
        "a.dtype"
      ]
    },
    {
      "cell_type": "code",
      "execution_count": null,
      "id": "93d965a7",
      "metadata": {
        "id": "93d965a7",
        "outputId": "3a9d480f-5599-472c-b391-bfe13e7827bd"
      },
      "outputs": [
        {
          "data": {
            "text/plain": [
              "array([[1., 2.],\n",
              "       [3., 4.]])"
            ]
          },
          "execution_count": 250,
          "metadata": {},
          "output_type": "execute_result"
        }
      ],
      "source": [
        "f = a.astype(np.float)\n",
        "f"
      ]
    },
    {
      "cell_type": "code",
      "execution_count": null,
      "id": "b943decb",
      "metadata": {
        "id": "b943decb",
        "outputId": "6b179d95-dcf3-4b0f-9c17-31e23053348e"
      },
      "outputs": [
        {
          "data": {
            "text/plain": [
              "array([['1', '2'],\n",
              "       ['3', '4']], dtype='<U11')"
            ]
          },
          "execution_count": 251,
          "metadata": {},
          "output_type": "execute_result"
        }
      ],
      "source": [
        "i = a.astype(np.str)\n",
        "i"
      ]
    },
    {
      "cell_type": "markdown",
      "id": "62b0d6d3",
      "metadata": {
        "id": "62b0d6d3"
      },
      "source": [
        "# dtype \"complex\" kullanımı"
      ]
    },
    {
      "cell_type": "code",
      "execution_count": null,
      "id": "157d28e2",
      "metadata": {
        "id": "157d28e2",
        "outputId": "f130b23b-89a0-49b8-ae20-5ed5ed7a0179"
      },
      "outputs": [
        {
          "data": {
            "text/plain": [
              "array([-2,  0,  1,  4])"
            ]
          },
          "execution_count": 253,
          "metadata": {},
          "output_type": "execute_result"
        }
      ],
      "source": [
        "h_list = [-2,0,1,4]\n",
        "h = np.array(h_list)\n",
        "h"
      ]
    },
    {
      "cell_type": "code",
      "execution_count": null,
      "id": "828e93d8",
      "metadata": {
        "id": "828e93d8",
        "outputId": "6e14bf3d-9a9f-4252-b01d-6feea8660b8f"
      },
      "outputs": [
        {
          "name": "stderr",
          "output_type": "stream",
          "text": [
            "<ipython-input-254-409e74232565>:1: RuntimeWarning: invalid value encountered in sqrt\n",
            "  np.sqrt(h)\n"
          ]
        },
        {
          "data": {
            "text/plain": [
              "array([nan,  0.,  1.,  2.])"
            ]
          },
          "execution_count": 254,
          "metadata": {},
          "output_type": "execute_result"
        }
      ],
      "source": [
        "np.sqrt(h)"
      ]
    },
    {
      "cell_type": "code",
      "execution_count": null,
      "id": "d7fff53d",
      "metadata": {
        "id": "d7fff53d",
        "outputId": "c750856c-c110-4fe8-c41b-7bf7427f8644"
      },
      "outputs": [
        {
          "data": {
            "text/plain": [
              "array([0.+1.41421356j, 0.+0.j        , 1.+0.j        , 2.+0.j        ])"
            ]
          },
          "execution_count": 255,
          "metadata": {},
          "output_type": "execute_result"
        }
      ],
      "source": [
        "np.sqrt(h, dtype= \"complex\") "
      ]
    },
    {
      "cell_type": "code",
      "execution_count": null,
      "id": "dbce65ed",
      "metadata": {
        "id": "dbce65ed"
      },
      "outputs": [],
      "source": [
        ""
      ]
    },
    {
      "cell_type": "code",
      "execution_count": null,
      "id": "2795ba61",
      "metadata": {
        "id": "2795ba61"
      },
      "outputs": [],
      "source": [
        ""
      ]
    },
    {
      "cell_type": "code",
      "execution_count": null,
      "id": "04626b63",
      "metadata": {
        "id": "04626b63"
      },
      "outputs": [],
      "source": [
        ""
      ]
    }
  ],
  "metadata": {
    "kernelspec": {
      "display_name": "Python 3",
      "language": "python",
      "name": "python3"
    },
    "language_info": {
      "codemirror_mode": {
        "name": "ipython",
        "version": 3
      },
      "file_extension": ".py",
      "mimetype": "text/x-python",
      "name": "python",
      "nbconvert_exporter": "python",
      "pygments_lexer": "ipython3",
      "version": "3.8.8"
    },
    "colab": {
      "name": "Numpy_Preclass Summary18.01.2022.ipynb",
      "provenance": [],
      "include_colab_link": true
    }
  },
  "nbformat": 4,
  "nbformat_minor": 5
}