{
  "nbformat": 4,
  "nbformat_minor": 0,
  "metadata": {
    "colab": {
      "name": "NumPy_Faster_Python_19.01.2022.ipynb",
      "provenance": [],
      "authorship_tag": "ABX9TyNJ8CKjw8l3vmIp733j12cQ",
      "include_colab_link": true
    },
    "kernelspec": {
      "name": "python3",
      "display_name": "Python 3"
    },
    "language_info": {
      "name": "python"
    }
  },
  "cells": [
    {
      "cell_type": "markdown",
      "metadata": {
        "id": "view-in-github",
        "colab_type": "text"
      },
      "source": [
        "<a href=\"https://colab.research.google.com/github/merdogan97/DAwPY/blob/main/NumPy_Faster_Python_19_01_2022.ipynb\" target=\"_parent\"><img src=\"https://colab.research.google.com/assets/colab-badge.svg\" alt=\"Open In Colab\"/></a>"
      ]
    },
    {
      "cell_type": "code",
      "execution_count": 29,
      "metadata": {
        "id": "R5vLwaSaIfMI"
      },
      "outputs": [],
      "source": [
        "import numpy as np\n",
        "import time\n",
        "import sys"
      ]
    },
    {
      "cell_type": "code",
      "source": [
        "l = range(1000)\n",
        "print(sys.getsizeof(5)*len(l))"
      ],
      "metadata": {
        "colab": {
          "base_uri": "https://localhost:8080/"
        },
        "id": "-aW-OgxsI09J",
        "outputId": "018d3089-705c-4bea-b311-7f1aed4ce91e"
      },
      "execution_count": 30,
      "outputs": [
        {
          "output_type": "stream",
          "name": "stdout",
          "text": [
            "28000\n"
          ]
        }
      ]
    },
    {
      "cell_type": "code",
      "source": [
        "array= np.arange(1000)\n",
        "print(array.size*array.itemsize)"
      ],
      "metadata": {
        "colab": {
          "base_uri": "https://localhost:8080/"
        },
        "id": "822etMaeJcXZ",
        "outputId": "4e3d2ae6-9a2b-4833-b08f-5ad7f914e58c"
      },
      "execution_count": 31,
      "outputs": [
        {
          "output_type": "stream",
          "name": "stdout",
          "text": [
            "8000\n"
          ]
        }
      ]
    },
    {
      "cell_type": "code",
      "source": [
        "SIZE= 1000000"
      ],
      "metadata": {
        "id": "ujIrS7pHO48L"
      },
      "execution_count": 32,
      "outputs": []
    },
    {
      "cell_type": "code",
      "source": [
        "l1 = range(SIZE)\n",
        "l2 = range(SIZE)"
      ],
      "metadata": {
        "id": "1EpEum5YLhf-"
      },
      "execution_count": 33,
      "outputs": []
    },
    {
      "cell_type": "code",
      "source": [
        "a1 = np.arange(SIZE)\n",
        "a2 = np.arange(SIZE)"
      ],
      "metadata": {
        "id": "Fh2CYyOaL4Yb"
      },
      "execution_count": 34,
      "outputs": []
    },
    {
      "cell_type": "code",
      "source": [
        " # python list\n",
        "start = time.time()\n",
        "result = [(x+y) for x,y in zip(l1,l2)]\n",
        "print(\"Python list took: \", (time.time()- start)*1000)"
      ],
      "metadata": {
        "colab": {
          "base_uri": "https://localhost:8080/"
        },
        "id": "lSZrkXZMMJMq",
        "outputId": "7f84d053-e0f7-4922-fdab-bbe2f5586d51"
      },
      "execution_count": 44,
      "outputs": [
        {
          "output_type": "stream",
          "name": "stdout",
          "text": [
            "Python list took:  130.4771900177002\n"
          ]
        }
      ]
    },
    {
      "cell_type": "code",
      "source": [
        "# numpy array\n",
        "start = time.time()\n",
        "result = a1 + a2\n",
        "print(\"Numpy took: \", (time.time()- start)*1000)"
      ],
      "metadata": {
        "colab": {
          "base_uri": "https://localhost:8080/"
        },
        "id": "eP36J2OeNMJ6",
        "outputId": "e544304b-fe08-4f52-ae95-8290f06e03f2"
      },
      "execution_count": 45,
      "outputs": [
        {
          "output_type": "stream",
          "name": "stdout",
          "text": [
            "Numpy took:  2.931833267211914\n"
          ]
        }
      ]
    }
  ]
}